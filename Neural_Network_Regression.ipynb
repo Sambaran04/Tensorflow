{
  "nbformat": 4,
  "nbformat_minor": 0,
  "metadata": {
    "colab": {
      "provenance": [],
      "authorship_tag": "ABX9TyOaQtOUvb1OeWSD0wXt643H",
      "include_colab_link": true
    },
    "kernelspec": {
      "name": "python3",
      "display_name": "Python 3"
    },
    "language_info": {
      "name": "python"
    },
    "accelerator": "TPU"
  },
  "cells": [
    {
      "cell_type": "markdown",
      "metadata": {
        "id": "view-in-github",
        "colab_type": "text"
      },
      "source": [
        "<a href=\"https://colab.research.google.com/github/Sambaran04/Tensorflow/blob/main/Neural_Network_Regression.ipynb\" target=\"_parent\"><img src=\"https://colab.research.google.com/assets/colab-badge.svg\" alt=\"Open In Colab\"/></a>"
      ]
    },
    {
      "cell_type": "markdown",
      "source": [
        "# **Introduction to Regression with Neural Network in TensorFlow**\n",
        "\n",
        "There are many definitions for a regression problem but in our case, we're going to simplify it: Predicting a numerical variable based on some other combination of variables, even shorter... predicting a number."
      ],
      "metadata": {
        "id": "S7iiMn1sP70a"
      }
    },
    {
      "cell_type": "code",
      "source": [
        "# Import TenforFlow\n",
        "import tensorflow as tf\n",
        "print(tf.__version__)"
      ],
      "metadata": {
        "id": "doPkz2Z528FX",
        "colab": {
          "base_uri": "https://localhost:8080/"
        },
        "outputId": "1b6af7eb-2e62-4a9a-b9de-f343ba3b9af1"
      },
      "execution_count": 1,
      "outputs": [
        {
          "output_type": "stream",
          "name": "stdout",
          "text": [
            "2.12.0\n"
          ]
        }
      ]
    },
    {
      "cell_type": "code",
      "source": [
        "import numpy as np\n",
        "import matplotlib.pyplot as plt"
      ],
      "metadata": {
        "id": "TQfRVstgJudp"
      },
      "execution_count": 2,
      "outputs": []
    },
    {
      "cell_type": "code",
      "source": [
        "# Create features\n",
        "X = np.array([-7.0, -4.0, -1.0, 2.0, 5.0, 8.0, 11.0, 14.0])\n",
        "\n",
        "# Create labels\n",
        "y = np.array([3.0, 6.0, 9.0, 12.0, 15.0, 18.0, 21.0, 24.0])\n",
        "# Visualize it\n",
        "plt.scatter(X, y)"
      ],
      "metadata": {
        "id": "POER2scBJ1ul",
        "colab": {
          "base_uri": "https://localhost:8080/",
          "height": 453
        },
        "outputId": "f803b8ed-e3a9-4df2-834d-a690eca76739"
      },
      "execution_count": 3,
      "outputs": [
        {
          "output_type": "execute_result",
          "data": {
            "text/plain": [
              "<matplotlib.collections.PathCollection at 0x7acf330607c0>"
            ]
          },
          "metadata": {},
          "execution_count": 3
        },
        {
          "output_type": "display_data",
          "data": {
            "text/plain": [
              "<Figure size 640x480 with 1 Axes>"
            ],
            "image/png": "[encoded data removed]"
          },
          "metadata": {}
        }
      ]
    },
    {
      "cell_type": "code",
      "source": [
        "y == X+10"
      ],
      "metadata": {
        "id": "wYVflYW7KS2M",
        "colab": {
          "base_uri": "https://localhost:8080/"
        },
        "outputId": "cef74bac-8d03-4498-b8cd-09a755fde578"
      },
      "execution_count": 4,
      "outputs": [
        {
          "output_type": "execute_result",
          "data": {
            "text/plain": [
              "array([ True,  True,  True,  True,  True,  True,  True,  True])"
            ]
          },
          "metadata": {},
          "execution_count": 4
        }
      ]
    },
    {
      "cell_type": "markdown",
      "source": [
        "## Input and output shapes"
      ],
      "metadata": {
        "id": "qVLLa2yTKr01"
      }
    },
    {
      "cell_type": "code",
      "source": [
        "# Create a debo tensor for our housing price prediciton problem\n",
        "house_info = tf.constant([\"bedroom\", \"bathroom\", \"garage\"])\n",
        "house_price = tf.constant([939700])\n",
        "house_info, house_price"
      ],
      "metadata": {
        "id": "Iw9TaSWJKu4s",
        "colab": {
          "base_uri": "https://localhost:8080/"
        },
        "outputId": "a55974fc-1a78-4303-874e-46f8270a816a"
      },
      "execution_count": 5,
      "outputs": [
        {
          "output_type": "execute_result",
          "data": {
            "text/plain": [
              "(<tf.Tensor: shape=(3,), dtype=string, numpy=array([b'bedroom', b'bathroom', b'garage'], dtype=object)>,\n",
              " <tf.Tensor: shape=(1,), dtype=int32, numpy=array([939700], dtype=int32)>)"
            ]
          },
          "metadata": {},
          "execution_count": 5
        }
      ]
    },
    {
      "cell_type": "code",
      "source": [
        "X[0].shape, y[0].shape"
      ],
      "metadata": {
        "id": "laZAZxi4LoIR",
        "colab": {
          "base_uri": "https://localhost:8080/"
        },
        "outputId": "d33328b1-15e9-4011-d452-51d888a0dee8"
      },
      "execution_count": 6,
      "outputs": [
        {
          "output_type": "execute_result",
          "data": {
            "text/plain": [
              "((), ())"
            ]
          },
          "metadata": {},
          "execution_count": 6
        }
      ]
    },
    {
      "cell_type": "code",
      "source": [
        "X = tf.constant(X)\n",
        "y = tf.constant(y)"
      ],
      "metadata": {
        "id": "k1DewfXBQZ3-"
      },
      "execution_count": 7,
      "outputs": []
    },
    {
      "cell_type": "code",
      "source": [
        "X[0], y[0]"
      ],
      "metadata": {
        "id": "oqVtcte0Qk2v",
        "colab": {
          "base_uri": "https://localhost:8080/"
        },
        "outputId": "cc0d10b7-4d5e-476a-ce40-222e75e7bc77"
      },
      "execution_count": 8,
      "outputs": [
        {
          "output_type": "execute_result",
          "data": {
            "text/plain": [
              "(<tf.Tensor: shape=(), dtype=float64, numpy=-7.0>,\n",
              " <tf.Tensor: shape=(), dtype=float64, numpy=3.0>)"
            ]
          },
          "metadata": {},
          "execution_count": 8
        }
      ]
    },
    {
      "cell_type": "markdown",
      "source": [
        "## Steps in modelling with TensorFlow\n",
        "\n",
        "1. **Creating a model**- define the inpur and output layers, as well as the hidden layers of a deep learning model.\n",
        "2. **Compiling a model**- define the loss function (in other words, the function which tells our model how wrong it is) and the optimizer (tells our model how to imporve the patterns its learning) and evaluation metrics (what we can use to interpret the performance of our model).\n",
        "3. **Fitting a model**- letting the model try to find patterns between X & y (features and labels)."
      ],
      "metadata": {
        "id": "7cV8kSbHQmtr"
      }
    },
    {
      "cell_type": "code",
      "source": [
        "# Set random seed\n",
        "tf.random.set_seed(42)\n",
        "\n",
        "# 1. Create a model using the Sequential API\n",
        "model = tf.keras.Sequential([tf.keras.layers.Flatten(), tf.keras.layers.Dense(1)])\n",
        "\n",
        "# 2. Compile the model\n",
        "model.compile(loss=tf.keras.losses.mae,\n",
        "              optimizer = tf.keras.optimizers.SGD(),\n",
        "              metrics = [\"mae\"])\n",
        "\n",
        "# 3. Fit the model\n",
        "model.fit(X, y, epochs=5)"
      ],
      "metadata": {
        "id": "9evxwGTnVvg-",
        "colab": {
          "base_uri": "https://localhost:8080/"
        },
        "outputId": "f8fe1b87-c8e6-4432-8374-8f6db30199be"
      },
      "execution_count": 9,
      "outputs": [
        {
          "output_type": "stream",
          "name": "stdout",
          "text": [
            "Epoch 1/5\n",
            "1/1 [==============================] - 1s 691ms/step - loss: 10.3349 - mae: 10.3349\n",
            "Epoch 2/5\n",
            "1/1 [==============================] - 0s 13ms/step - loss: 10.2024 - mae: 10.2024\n",
            "Epoch 3/5\n",
            "1/1 [==============================] - 0s 15ms/step - loss: 10.0699 - mae: 10.0699\n",
            "Epoch 4/5\n",
            "1/1 [==============================] - 0s 14ms/step - loss: 9.9374 - mae: 9.9374\n",
            "Epoch 5/5\n",
            "1/1 [==============================] - 0s 13ms/step - loss: 9.8049 - mae: 9.8049\n"
          ]
        },
        {
          "output_type": "execute_result",
          "data": {
            "text/plain": [
              "<keras.callbacks.History at 0x7acf2de1bfa0>"
            ]
          },
          "metadata": {},
          "execution_count": 9
        }
      ]
    },
    {
      "cell_type": "code",
      "source": [
        "# Try and make a prediction using our model\n",
        "model.predict([17.0])"
      ],
      "metadata": {
        "id": "kyKcYGrzYOJv",
        "colab": {
          "base_uri": "https://localhost:8080/"
        },
        "outputId": "34283efd-1040-4342-da2b-61631ac36e4d"
      },
      "execution_count": 10,
      "outputs": [
        {
          "output_type": "stream",
          "name": "stdout",
          "text": [
            "1/1 [==============================] - 0s 183ms/step\n"
          ]
        },
        {
          "output_type": "execute_result",
          "data": {
            "text/plain": [
              "array([[18.39842]], dtype=float32)"
            ]
          },
          "metadata": {},
          "execution_count": 10
        }
      ]
    },
    {
      "cell_type": "markdown",
      "source": [
        "## Improving our Model"
      ],
      "metadata": {
        "id": "SEyPWU2farOw"
      }
    },
    {
      "cell_type": "code",
      "source": [
        "# Let's rebuild our model\n",
        "\n",
        "# tf.random.set_seed(42)\n",
        "\n",
        "# 1. Create a model using the Sequential API\n",
        "model = tf.keras.Sequential([tf.keras.layers.Flatten(), tf.keras.layers.Dense(1)])\n",
        "\n",
        "# 2. Compile the model\n",
        "model.compile(loss=tf.keras.losses.mae,\n",
        "              optimizer = tf.keras.optimizers.SGD(),\n",
        "              metrics = [\"mae\"])\n",
        "\n",
        "# 3. Fit the model\n",
        "# model.fit(X, y, epochs=1000)"
      ],
      "metadata": {
        "id": "Pqttfw9xC1ff"
      },
      "execution_count": 11,
      "outputs": []
    },
    {
      "cell_type": "code",
      "source": [
        "# Remind ourselves of the data\n",
        "X, y"
      ],
      "metadata": {
        "id": "RIwwDPJ-Qn1w",
        "colab": {
          "base_uri": "https://localhost:8080/"
        },
        "outputId": "9d77fda8-b8e6-4081-859d-cde9cb1dd098"
      },
      "execution_count": 12,
      "outputs": [
        {
          "output_type": "execute_result",
          "data": {
            "text/plain": [
              "(<tf.Tensor: shape=(8,), dtype=float64, numpy=array([-7., -4., -1.,  2.,  5.,  8., 11., 14.])>,\n",
              " <tf.Tensor: shape=(8,), dtype=float64, numpy=array([ 3.,  6.,  9., 12., 15., 18., 21., 24.])>)"
            ]
          },
          "metadata": {},
          "execution_count": 12
        }
      ]
    },
    {
      "cell_type": "code",
      "source": [
        "# Let's see if our model's prediction has improved...\n",
        "model.predict([17.0])"
      ],
      "metadata": {
        "id": "a_dWcvkR_ZIc",
        "colab": {
          "base_uri": "https://localhost:8080/"
        },
        "outputId": "3e0afc5d-9858-4da5-ee00-db25f475c766"
      },
      "execution_count": 13,
      "outputs": [
        {
          "output_type": "stream",
          "name": "stdout",
          "text": [
            "1/1 [==============================] - 0s 152ms/step\n"
          ]
        },
        {
          "output_type": "execute_result",
          "data": {
            "text/plain": [
              "array([[-6.68131]], dtype=float32)"
            ]
          },
          "metadata": {},
          "execution_count": 13
        }
      ]
    },
    {
      "cell_type": "code",
      "source": [
        "# Let's see if we can make another to improve our model\n",
        "\n",
        "# 1. Create the model (this time with an extra hidden layer with 100 hidden units)\n",
        "model = tf.keras.Sequential([\n",
        "    tf.keras.layers.Flatten(),\n",
        "    tf.keras.layers.Dense(100, activation=None),\n",
        "    tf.keras.layers.Dense(1)\n",
        "])\n",
        "\n",
        "# 2. Compile the model\n",
        "model.compile(loss=\"mae\",\n",
        "              optimizer = tf.keras.optimizers.Adam(lr=0.01),\n",
        "              metrics = [\"mae\"])\n",
        "\n",
        "# 3. Fit the model\n",
        "# model.fit(X, y, epochs=1000)"
      ],
      "metadata": {
        "id": "Yzm0gBdf_hnw",
        "colab": {
          "base_uri": "https://localhost:8080/"
        },
        "outputId": "9388dcc9-d671-4e27-f66d-c24756c7f321"
      },
      "execution_count": 14,
      "outputs": [
        {
          "output_type": "stream",
          "name": "stderr",
          "text": [
            "WARNING:absl:`lr` is deprecated in Keras optimizer, please use `learning_rate` or use the legacy optimizer, e.g.,tf.keras.optimizers.legacy.Adam.\n"
          ]
        }
      ]
    },
    {
      "cell_type": "code",
      "source": [
        "# Let's see if our model's prediction has improved...\n",
        "model.predict([17.0])"
      ],
      "metadata": {
        "id": "mS_cIuCRCBbs",
        "colab": {
          "base_uri": "https://localhost:8080/"
        },
        "outputId": "912523ee-8118-4c15-9403-cfa02743f63f"
      },
      "execution_count": 15,
      "outputs": [
        {
          "output_type": "stream",
          "name": "stdout",
          "text": [
            "1/1 [==============================] - 0s 233ms/step\n"
          ]
        },
        {
          "output_type": "execute_result",
          "data": {
            "text/plain": [
              "array([[-2.7523384]], dtype=float32)"
            ]
          },
          "metadata": {},
          "execution_count": 15
        }
      ]
    },
    {
      "cell_type": "markdown",
      "source": [
        "## Evaluating the model\n",
        "\n",
        "In practice, a typical workflow you'll go through when builidng neural network is:\n",
        "\n",
        "```\n",
        "Build a model -> fit it -> evaluate it -> tweak a model -> fit it -> evaluate it -> twea a model -> fit it -> evaluate it...\n",
        "```"
      ],
      "metadata": {
        "id": "_0AyKT1hC63t"
      }
    },
    {
      "cell_type": "markdown",
      "source": [
        "When it comes to evaluation... there are 3 words we should memorize:\n",
        "\n",
        "> \"Visualize, Visualize, Visualize\"\n",
        "\n",
        "It's a good idea to visualize:\n",
        "* The data - what data are we working with? What does it look like?\n",
        "* The model itself - what does our model look like?\n",
        "* The training of a model - how does a model perform while it learns?\n",
        "* The predictions of the model - how do the predictions of a model line up against the ground truth (the original labels)"
      ],
      "metadata": {
        "id": "COLtfR9w3fJO"
      }
    },
    {
      "cell_type": "code",
      "source": [
        "# Make a bigger dataset:\n",
        "X = tf.range(-100, 100, 4)\n",
        "X"
      ],
      "metadata": {
        "id": "jeaDkHx24-86",
        "colab": {
          "base_uri": "https://localhost:8080/"
        },
        "outputId": "919881a4-7257-45dd-836a-e36db8025c41"
      },
      "execution_count": 16,
      "outputs": [
        {
          "output_type": "execute_result",
          "data": {
            "text/plain": [
              "<tf.Tensor: shape=(50,), dtype=int32, numpy=\n",
              "array([-100,  -96,  -92,  -88,  -84,  -80,  -76,  -72,  -68,  -64,  -60,\n",
              "        -56,  -52,  -48,  -44,  -40,  -36,  -32,  -28,  -24,  -20,  -16,\n",
              "        -12,   -8,   -4,    0,    4,    8,   12,   16,   20,   24,   28,\n",
              "         32,   36,   40,   44,   48,   52,   56,   60,   64,   68,   72,\n",
              "         76,   80,   84,   88,   92,   96], dtype=int32)>"
            ]
          },
          "metadata": {},
          "execution_count": 16
        }
      ]
    },
    {
      "cell_type": "code",
      "source": [
        "# Make labels for the dataset\n",
        "y = X+10\n",
        "y"
      ],
      "metadata": {
        "id": "1K1kXCUg5FRb",
        "colab": {
          "base_uri": "https://localhost:8080/"
        },
        "outputId": "6c41f0a6-1ea0-4dd7-dbee-7a6a2287b876"
      },
      "execution_count": 17,
      "outputs": [
        {
          "output_type": "execute_result",
          "data": {
            "text/plain": [
              "<tf.Tensor: shape=(50,), dtype=int32, numpy=\n",
              "array([-90, -86, -82, -78, -74, -70, -66, -62, -58, -54, -50, -46, -42,\n",
              "       -38, -34, -30, -26, -22, -18, -14, -10,  -6,  -2,   2,   6,  10,\n",
              "        14,  18,  22,  26,  30,  34,  38,  42,  46,  50,  54,  58,  62,\n",
              "        66,  70,  74,  78,  82,  86,  90,  94,  98, 102, 106], dtype=int32)>"
            ]
          },
          "metadata": {},
          "execution_count": 17
        }
      ]
    },
    {
      "cell_type": "code",
      "source": [
        "# Visualize the data\n",
        "import matplotlib.pyplot as plt\n",
        "plt.scatter(X, y)"
      ],
      "metadata": {
        "id": "XkgK22cD5Ql7",
        "colab": {
          "base_uri": "https://localhost:8080/",
          "height": 448
        },
        "outputId": "3cc849d3-4af8-4c5f-ff15-7a8c501b2ae4"
      },
      "execution_count": 18,
      "outputs": [
        {
          "output_type": "execute_result",
          "data": {
            "text/plain": [
              "<matplotlib.collections.PathCollection at 0x7acf2d2c3550>"
            ]
          },
          "metadata": {},
          "execution_count": 18
        },
        {
          "output_type": "display_data",
          "data": {
            "text/plain": [
              "<Figure size 640x480 with 1 Axes>"
            ],
            "image/png": "[encoded data removed]"
          },
          "metadata": {}
        }
      ]
    },
    {
      "cell_type": "markdown",
      "source": [
        "### There are 3 Sets...\n",
        "\n",
        "* Training set - the model learns from this data, which is typically 70-80% of the total data you have available.\n",
        "* Validation set - The model gets tuned on this data, which is typcically 10-15% of the data available.\n",
        "* Test set - The model gets evaluated on this data to test what it has learnt, this set is typically 10-15% of the data available."
      ],
      "metadata": {
        "id": "7W1jdB-S5Zft"
      }
    },
    {
      "cell_type": "code",
      "source": [
        "# Check the length of how many samples we have\n",
        "len(X)"
      ],
      "metadata": {
        "id": "M7puUGBS69V-",
        "colab": {
          "base_uri": "https://localhost:8080/"
        },
        "outputId": "15dd33e3-ca9d-4086-99b3-80d356ed8b57"
      },
      "execution_count": 19,
      "outputs": [
        {
          "output_type": "execute_result",
          "data": {
            "text/plain": [
              "50"
            ]
          },
          "metadata": {},
          "execution_count": 19
        }
      ]
    },
    {
      "cell_type": "code",
      "source": [
        "# Split the data into train and test sets\n",
        "X_train = X[:40] # first 40 are training samples (80% of the data)\n",
        "y_train = y[:40]\n",
        "\n",
        "X_test = X[40:] # last 10 are testing samples (20% of the data)\n",
        "y_test = y[40:]"
      ],
      "metadata": {
        "id": "iz7rSD7u7N-p"
      },
      "execution_count": 20,
      "outputs": []
    },
    {
      "cell_type": "markdown",
      "source": [
        "### Visualizing the data\n",
        "\n",
        "Now we've got our data in training and test sets... let's visualize it again"
      ],
      "metadata": {
        "id": "wq4y4IH18Dwh"
      }
    },
    {
      "cell_type": "code",
      "source": [
        "plt.figure(figsize=(10, 7))\n",
        "# Plot training data in blue\n",
        "plt.scatter(X_train, y_train, c=\"b\", label = \"Training dataset\")\n",
        "# Plot test data in green\n",
        "plt.scatter(X_test, y_test, c=\"r\", label = \"Test dataset\")\n",
        "plt.legend()"
      ],
      "metadata": {
        "id": "dBmBOOh_8L1v",
        "colab": {
          "base_uri": "https://localhost:8080/",
          "height": 545
        },
        "outputId": "15f91931-1fb4-4392-c2fd-4d8b3f64dad6"
      },
      "execution_count": 21,
      "outputs": [
        {
          "output_type": "execute_result",
          "data": {
            "text/plain": [
              "<matplotlib.legend.Legend at 0x7acf2c1a4490>"
            ]
          },
          "metadata": {},
          "execution_count": 21
        },
        {
          "output_type": "display_data",
          "data": {
            "text/plain": [
              "<Figure size 1000x700 with 1 Axes>"
            ],
            "image/png": "[encoded data removed]"
          },
          "metadata": {}
        }
      ]
    },
    {
      "cell_type": "code",
      "source": [
        "# Let's see if we can make another to improve our model\n",
        "\n",
        "# 1. Create the model (this time with an extra hidden layer with 100 hidden units)\n",
        "model = tf.keras.Sequential([\n",
        "    tf.keras.layers.Flatten(),\n",
        "    tf.keras.layers.Dense(100, activation=None),\n",
        "    tf.keras.layers.Dense(1)\n",
        "])\n",
        "\n",
        "# 2. Compile the model\n",
        "model.compile(loss=\"mae\",\n",
        "              optimizer = tf.keras.optimizers.Adam(lr=0.01),\n",
        "              metrics = [\"mae\"])\n",
        "\n",
        "# 3. Fit the model\n",
        "model.fit(X_train, y_train, epochs=1000)"
      ],
      "metadata": {
        "id": "wxw1Ismw8rfM"
      },
      "execution_count": null,
      "outputs": []
    },
    {
      "cell_type": "code",
      "source": [
        "y_pred = model.predict(X_test)"
      ],
      "metadata": {
        "id": "r7MA5JbGkcUL",
        "colab": {
          "base_uri": "https://localhost:8080/"
        },
        "outputId": "a3afa604-025f-4c6c-adc1-04bfc6902cf0"
      },
      "execution_count": 23,
      "outputs": [
        {
          "output_type": "stream",
          "name": "stdout",
          "text": [
            "1/1 [==============================] - 0s 111ms/step\n"
          ]
        }
      ]
    },
    {
      "cell_type": "code",
      "source": [
        "y_test_fine = np.array(y_test)\n",
        "y_test_fine"
      ],
      "metadata": {
        "id": "VmSOhFrAkrHh",
        "colab": {
          "base_uri": "https://localhost:8080/"
        },
        "outputId": "2110325f-15cf-4049-ed52-7e01b7be0888"
      },
      "execution_count": 24,
      "outputs": [
        {
          "output_type": "execute_result",
          "data": {
            "text/plain": [
              "array([ 70,  74,  78,  82,  86,  90,  94,  98, 102, 106], dtype=int32)"
            ]
          },
          "metadata": {},
          "execution_count": 24
        }
      ]
    },
    {
      "cell_type": "code",
      "source": [
        "y_pred"
      ],
      "metadata": {
        "id": "ZdUmcSpfkwKP",
        "colab": {
          "base_uri": "https://localhost:8080/"
        },
        "outputId": "494fe480-72d4-49f1-b51b-9dc26912a92e"
      },
      "execution_count": 25,
      "outputs": [
        {
          "output_type": "execute_result",
          "data": {
            "text/plain": [
              "array([[ 70.22986 ],\n",
              "       [ 74.245964],\n",
              "       [ 78.26209 ],\n",
              "       [ 82.278206],\n",
              "       [ 86.294334],\n",
              "       [ 90.31045 ],\n",
              "       [ 94.32658 ],\n",
              "       [ 98.34268 ],\n",
              "       [102.3588  ],\n",
              "       [106.37492 ]], dtype=float32)"
            ]
          },
          "metadata": {},
          "execution_count": 25
        }
      ]
    },
    {
      "cell_type": "code",
      "source": [
        "'''\n",
        "# Let's create a model which builds automatically by defining the input_shape argument in the first layer\n",
        "tf.random.set_seed(42)\n",
        "\n",
        "# Create a model (same as above)\n",
        "model = tf.keras.Sequential([\n",
        "    tf.keras.layers.Dense(10, input_shape=[1], name = \"input_layer\"),\n",
        "    tf.keras.layers.Dense(1, name=\"output_layer\")\n",
        "], name=\"model_1\")\n",
        "\n",
        "# 2. Compile the model\n",
        "model.compile(loss=\"mae\",\n",
        "              optimizer = tf.keras.optimizers.SGD(),\n",
        "              metrics = [\"mae\"])\n",
        "'''"
      ],
      "metadata": {
        "id": "2vyCNF3doH3K",
        "colab": {
          "base_uri": "https://localhost:8080/",
          "height": 127
        },
        "outputId": "48d69f07-b694-4277-9dd2-3f318d1a18c2"
      },
      "execution_count": 26,
      "outputs": [
        {
          "output_type": "execute_result",
          "data": {
            "text/plain": [
              "'\\n# Let\\'s create a model which builds automatically by defining the input_shape argument in the first layer\\ntf.random.set_seed(42)\\n\\n# Create a model (same as above)\\nmodel = tf.keras.Sequential([\\n    tf.keras.layers.Dense(10, input_shape=[1], name = \"input_layer\"),\\n    tf.keras.layers.Dense(1, name=\"output_layer\")\\n], name=\"model_1\")\\n\\n# 2. Compile the model\\nmodel.compile(loss=\"mae\",\\n              optimizer = tf.keras.optimizers.SGD(),\\n              metrics = [\"mae\"])\\n'"
            ],
            "application/vnd.google.colaboratory.intrinsic+json": {
              "type": "string"
            }
          },
          "metadata": {},
          "execution_count": 26
        }
      ]
    },
    {
      "cell_type": "code",
      "source": [
        "model.summary()"
      ],
      "metadata": {
        "id": "e5hkE_4fJW4p",
        "colab": {
          "base_uri": "https://localhost:8080/"
        },
        "outputId": "29f769bf-ffad-44fc-df82-04ab8bdfde9c"
      },
      "execution_count": 27,
      "outputs": [
        {
          "output_type": "stream",
          "name": "stdout",
          "text": [
            "Model: \"sequential_3\"\n",
            "_________________________________________________________________\n",
            " Layer (type)                Output Shape              Param #   \n",
            "=================================================================\n",
            " flatten_3 (Flatten)         (None, 1)                 0         \n",
            "                                                                 \n",
            " dense_4 (Dense)             (None, 100)               200       \n",
            "                                                                 \n",
            " dense_5 (Dense)             (None, 1)                 101       \n",
            "                                                                 \n",
            "=================================================================\n",
            "Total params: 301\n",
            "Trainable params: 301\n",
            "Non-trainable params: 0\n",
            "_________________________________________________________________\n"
          ]
        }
      ]
    },
    {
      "cell_type": "markdown",
      "source": [
        "* Total params - total number of parameters in the model.\n",
        "* Trainable parameters - these are the parameters (pattern) the model can update as it trains.\n",
        "* Non-trainable params - these parameters aren't updated during trainting (this is typical when you bring in already learn patterns or parameters from other models during **transfer learning**)"
      ],
      "metadata": {
        "id": "XOqVjPrD8t73"
      }
    },
    {
      "cell_type": "code",
      "source": [
        "from tensorflow.keras.utils import plot_model\n",
        "plot_model(model=model, show_shapes=True)"
      ],
      "metadata": {
        "id": "XYHzuGI2_KRU",
        "colab": {
          "base_uri": "https://localhost:8080/",
          "height": 422
        },
        "outputId": "afe01e2a-97fc-471c-cef1-41a4d6e86a93"
      },
      "execution_count": 28,
      "outputs": [
        {
          "output_type": "execute_result",
          "data": {
            "image/png": "[encoded data removed]",
            "text/plain": [
              "<IPython.core.display.Image object>"
            ]
          },
          "metadata": {},
          "execution_count": 28
        }
      ]
    },
    {
      "cell_type": "markdown",
      "source": [
        "### Visualizing our model's predictions\n",
        "\n",
        "To visualize predictions, it's a good idea to plot them against the ground truth labels.\n",
        "\n",
        "often we'll see this in the form of `y_test` or `y_true` versus `y_pred`  (ground truth versus your model's predictions)"
      ],
      "metadata": {
        "id": "EHFrGd4fzURL"
      }
    },
    {
      "cell_type": "code",
      "source": [
        "y_pred"
      ],
      "metadata": {
        "colab": {
          "base_uri": "https://localhost:8080/"
        },
        "id": "Vi6h6ZoRq3Dy",
        "outputId": "e777b75d-ca55-4450-b4cc-7c809fba45b7"
      },
      "execution_count": 29,
      "outputs": [
        {
          "output_type": "execute_result",
          "data": {
            "text/plain": [
              "array([[ 70.22986 ],\n",
              "       [ 74.245964],\n",
              "       [ 78.26209 ],\n",
              "       [ 82.278206],\n",
              "       [ 86.294334],\n",
              "       [ 90.31045 ],\n",
              "       [ 94.32658 ],\n",
              "       [ 98.34268 ],\n",
              "       [102.3588  ],\n",
              "       [106.37492 ]], dtype=float32)"
            ]
          },
          "metadata": {},
          "execution_count": 29
        }
      ]
    },
    {
      "cell_type": "code",
      "source": [
        "y_test"
      ],
      "metadata": {
        "colab": {
          "base_uri": "https://localhost:8080/"
        },
        "id": "BxshycRZqB3d",
        "outputId": "ce87c12b-1e04-46ee-c456-2b37528d3ee2"
      },
      "execution_count": 30,
      "outputs": [
        {
          "output_type": "execute_result",
          "data": {
            "text/plain": [
              "<tf.Tensor: shape=(10,), dtype=int32, numpy=array([ 70,  74,  78,  82,  86,  90,  94,  98, 102, 106], dtype=int32)>"
            ]
          },
          "metadata": {},
          "execution_count": 30
        }
      ]
    },
    {
      "cell_type": "code",
      "source": [
        "# Let's create a plotting function\n",
        "def plot_predictions(train_data,\n",
        "                     train_labels,\n",
        "                     test_data,\n",
        "                     test_labels,\n",
        "                     predictions):\n",
        "  '''\n",
        "  Plots training data, test data and compares predictions to ground truth labels.\n",
        "  '''\n",
        "  plt.figure(figsize=(10,7))\n",
        "  plt.scatter(train_data, train_labels,c ='b', label=\"Training data\")\n",
        "  plt.scatter(test_data, test_labels, c='g', label=\"Testing data\")\n",
        "  plt.scatter(test_data, predictions, c='r', label=\"Predictions\")\n",
        "  plt.legend()"
      ],
      "metadata": {
        "id": "Lr6McbGlqExK"
      },
      "execution_count": 31,
      "outputs": []
    },
    {
      "cell_type": "code",
      "source": [
        "plot_predictions(X_train, y_train, X_test, y_test, y_pred)"
      ],
      "metadata": {
        "colab": {
          "base_uri": "https://localhost:8080/",
          "height": 527
        },
        "id": "7NZHRl6wslG4",
        "outputId": "c63c0d5a-ac4a-4c76-a768-0663ed111542"
      },
      "execution_count": 32,
      "outputs": [
        {
          "output_type": "display_data",
          "data": {
            "text/plain": [
              "<Figure size 1000x700 with 1 Axes>"
            ],
            "image/png": "[encoded data removed]"
          },
          "metadata": {}
        }
      ]
    },
    {
      "cell_type": "markdown",
      "source": [
        "### Evaluating our model's predictions with regression evaluation metrics\n",
        "\n",
        "Depending on the problem you're working on, there will be different evaluation metrics to evaluate your model's performance.\n",
        "\n",
        "Since we're working on a regression, two of the main metrics:\n",
        "* MAE- Mean Absolute Error, \"on average, how wrong is each of my model's predictions\"\n",
        "\n",
        "* MSE- Mean Square Error, \"Square the average errors\""
      ],
      "metadata": {
        "id": "RsOk-5yMspSg"
      }
    },
    {
      "cell_type": "code",
      "source": [
        "# Calculate the mean absolute error\n",
        "mae = tf.metrics.mean_absolute_error(y_true = y_test,\n",
        "                                     y_pred = tf.squeeze(y_pred))\n",
        "mae"
      ],
      "metadata": {
        "id": "PhpfEfoqKOyi",
        "colab": {
          "base_uri": "https://localhost:8080/"
        },
        "outputId": "1cc15a77-f64a-498c-f3ad-938efdbf839c"
      },
      "execution_count": 33,
      "outputs": [
        {
          "output_type": "execute_result",
          "data": {
            "text/plain": [
              "<tf.Tensor: shape=(), dtype=float32, numpy=0.30238876>"
            ]
          },
          "metadata": {},
          "execution_count": 33
        }
      ]
    },
    {
      "cell_type": "code",
      "source": [
        "# Calculate the mean square error\n",
        "mse = tf.metrics.mean_squared_error(y_true = y_test,\n",
        "                                     y_pred = tf.squeeze(y_pred))\n",
        "mse"
      ],
      "metadata": {
        "colab": {
          "base_uri": "https://localhost:8080/"
        },
        "id": "pqHd_QCX3B-x",
        "outputId": "bdb21408-1674-47e7-8abc-9a740c2d670e"
      },
      "execution_count": 34,
      "outputs": [
        {
          "output_type": "execute_result",
          "data": {
            "text/plain": [
              "<tf.Tensor: shape=(), dtype=float32, numpy=0.09358249>"
            ]
          },
          "metadata": {},
          "execution_count": 34
        }
      ]
    },
    {
      "cell_type": "code",
      "source": [
        "# Make some functions to reuse MAE and MSE\n",
        "def mae(y_true, y_pred):\n",
        "  return tf.metrics.mean_absolute_error(y_true = y_test,\n",
        "                                     y_pred = tf.squeeze(y_pred))\n",
        "\n",
        "\n",
        "def mse(y_true, y_pred):\n",
        "  return tf.metrics.mean_squared_error(y_true = y_test,\n",
        "                                     y_pred = tf.squeeze(y_pred))"
      ],
      "metadata": {
        "id": "bc6PtFSE3Rg1"
      },
      "execution_count": 35,
      "outputs": []
    },
    {
      "cell_type": "markdown",
      "source": [
        "### Running experiments to improve our model\n",
        "\n",
        "```\n",
        "Build a model -> fit it -> evaluate it -> tweak it -> fit it -> evaluate it -> tweak it -> fit it -> evaluate it...\n",
        "```\n",
        "\n",
        "1. Get more data - get more examples for your model to train on (more Opportunities to learn patterns or relationships between features and labels).\n",
        "2. Make your model larger (using a more complex model) - this might come in the form of more layers or more hidden units in each layer.\n",
        "3. Train for longer - give your model more of a chance to find patterns in the data.\n",
        "\n",
        "Let's do 3 modeling experiments:\n",
        "\n",
        "1. `model_1`- same as the original model, 1 layer, trained for 100 epochs.\n",
        "2. `model_2`- 2 layers, trained for 100 epochs\n",
        "3. `model_3`- 2 layers, trained for 500 epochs"
      ],
      "metadata": {
        "id": "VK9YxZCc3s0F"
      }
    },
    {
      "cell_type": "markdown",
      "source": [
        "**Build** `model_1`"
      ],
      "metadata": {
        "id": "I3y6FYtsRXis"
      }
    },
    {
      "cell_type": "code",
      "source": [
        "# Make a bigger dataset:\n",
        "X = tf.range(-100, 100, 4)\n",
        "\n",
        "# Make labels for the dataset\n",
        "y = X+10"
      ],
      "metadata": {
        "id": "MZguSM4tTtvu"
      },
      "execution_count": 47,
      "outputs": []
    },
    {
      "cell_type": "code",
      "source": [
        "# Split the data into train and test sets\n",
        "X_train = X[:40] # first 40 are training samples (80% of the data)\n",
        "y_train = y[:40]\n",
        "\n",
        "X_test = X[40:] # last 10 are testing samples (20% of the data)\n",
        "y_test = y[40:]\n"
      ],
      "metadata": {
        "id": "TJg5godeTsjv"
      },
      "execution_count": 51,
      "outputs": []
    },
    {
      "cell_type": "code",
      "source": [
        "# Set random seed\n",
        "tf.random.set_seed(42)\n",
        "\n",
        "# 1. Create the model\n",
        "model_1 = tf.keras.Sequential([\n",
        "    tf.keras.layers.Flatten(),\n",
        "    # tf.keras.layers.Dense(100, activation=None),\n",
        "    tf.keras.layers.Dense(1)\n",
        "])\n",
        "\n",
        "# 2. Compile the model\n",
        "model_1.compile(loss= tf.keras.losses.mae,\n",
        "                optimizer=tf.keras.optimizers.SGD(),\n",
        "                metrics=['mae'])\n",
        "\n",
        "# 3. Fit the model\n",
        "model_1.fit(X_train, y_train, epochs=100)"
      ],
      "metadata": {
        "id": "71p5MjWuRi9k"
      },
      "execution_count": null,
      "outputs": []
    },
    {
      "cell_type": "code",
      "source": [
        "# Make and Plot predictions for model_1\n",
        "y_pred_1 = model_1.predict(X_test)\n",
        "plot_predictions(X_train, y_train, X_test, y_test, y_pred_1)"
      ],
      "metadata": {
        "colab": {
          "base_uri": "https://localhost:8080/",
          "height": 545
        },
        "id": "U5TgW5CESruf",
        "outputId": "e08e3a08-5564-478f-bca8-740fa7454b2d"
      },
      "execution_count": 68,
      "outputs": [
        {
          "output_type": "stream",
          "name": "stdout",
          "text": [
            "1/1 [==============================] - 0s 43ms/step\n"
          ]
        },
        {
          "output_type": "display_data",
          "data": {
            "text/plain": [
              "<Figure size 1000x700 with 1 Axes>"
            ],
            "image/png": "[encoded data removed]"
          },
          "metadata": {}
        }
      ]
    },
    {
      "cell_type": "code",
      "source": [
        "# Calculate model_1 evaluation metrics\n",
        "mae_1=mae(y_test, y_pred_1)\n",
        "mse_1=mse(y_test, y_pred_1)\n",
        "mae_1, mse_1"
      ],
      "metadata": {
        "colab": {
          "base_uri": "https://localhost:8080/"
        },
        "id": "m2WXw7aXVx2H",
        "outputId": "02eb8bbb-7699-4b3a-8e62-c29ace7b3228"
      },
      "execution_count": 69,
      "outputs": [
        {
          "output_type": "execute_result",
          "data": {
            "text/plain": [
              "(<tf.Tensor: shape=(), dtype=float32, numpy=30.566076>,\n",
              " <tf.Tensor: shape=(), dtype=float32, numpy=944.67053>)"
            ]
          },
          "metadata": {},
          "execution_count": 69
        }
      ]
    },
    {
      "cell_type": "markdown",
      "source": [
        "**Build `model_2`**\n",
        "\n",
        "* 2 Dense layers, trained for 100 epochs"
      ],
      "metadata": {
        "id": "vnNr6_3UWnAC"
      }
    },
    {
      "cell_type": "code",
      "source": [
        "# Set random seed\n",
        "tf.random.set_seed(42)\n",
        "\n",
        "# 1. Create the model\n",
        "model_2 = tf.keras.Sequential([\n",
        "    tf.keras.layers.Flatten(),\n",
        "    tf.keras.layers.Dense(100, activation=None),\n",
        "    tf.keras.layers.Dense(1)\n",
        "])\n",
        "\n",
        "# 2. Compile the model\n",
        "model_2.compile(loss= tf.keras.losses.mae,\n",
        "                optimizer=tf.keras.optimizers.SGD(),\n",
        "                metrics=['mae'])\n",
        "\n",
        "# 3. Fit the model\n",
        "model_2.fit(X_train, y_train, epochs=100)"
      ],
      "metadata": {
        "colab": {
          "base_uri": "https://localhost:8080/"
        },
        "id": "EzcgxrhSXTs0",
        "outputId": "6da553b1-f69f-4ad9-d6cf-fad89d2591c5"
      },
      "execution_count": 82,
      "outputs": [
        {
          "output_type": "stream",
          "name": "stdout",
          "text": [
            "Epoch 1/100\n",
            "2/2 [==============================] - 1s 20ms/step - loss: 50.1241 - mae: 50.1241\n",
            "Epoch 2/100\n",
            "2/2 [==============================] - 0s 9ms/step - loss: 36.0597 - mae: 36.0597\n",
            "Epoch 3/100\n",
            "2/2 [==============================] - 0s 13ms/step - loss: 31.4616 - mae: 31.4616\n",
            "Epoch 4/100\n",
            "2/2 [==============================] - 0s 13ms/step - loss: 16.5045 - mae: 16.5045\n",
            "Epoch 5/100\n",
            "2/2 [==============================] - 0s 10ms/step - loss: 22.1307 - mae: 22.1307\n",
            "Epoch 6/100\n",
            "2/2 [==============================] - 0s 9ms/step - loss: 12.0489 - mae: 12.0489\n",
            "Epoch 7/100\n",
            "2/2 [==============================] - 0s 11ms/step - loss: 13.2056 - mae: 13.2056\n",
            "Epoch 8/100\n",
            "2/2 [==============================] - 0s 12ms/step - loss: 11.2733 - mae: 11.2733\n",
            "Epoch 9/100\n",
            "2/2 [==============================] - 0s 10ms/step - loss: 42.1164 - mae: 42.1164\n",
            "Epoch 10/100\n",
            "2/2 [==============================] - 0s 11ms/step - loss: 29.2988 - mae: 29.2988\n",
            "Epoch 11/100\n",
            "2/2 [==============================] - 0s 10ms/step - loss: 7.6899 - mae: 7.6899\n",
            "Epoch 12/100\n",
            "2/2 [==============================] - 0s 12ms/step - loss: 28.7115 - mae: 28.7115\n",
            "Epoch 13/100\n",
            "2/2 [==============================] - 0s 9ms/step - loss: 11.4942 - mae: 11.4942\n",
            "Epoch 14/100\n",
            "2/2 [==============================] - 0s 10ms/step - loss: 30.1147 - mae: 30.1147\n",
            "Epoch 15/100\n",
            "2/2 [==============================] - 0s 12ms/step - loss: 19.9128 - mae: 19.9128\n",
            "Epoch 16/100\n",
            "2/2 [==============================] - 0s 11ms/step - loss: 9.8973 - mae: 9.8973\n",
            "Epoch 17/100\n",
            "2/2 [==============================] - 0s 12ms/step - loss: 17.7839 - mae: 17.7839\n",
            "Epoch 18/100\n",
            "2/2 [==============================] - 0s 9ms/step - loss: 14.2545 - mae: 14.2545\n",
            "Epoch 19/100\n",
            "2/2 [==============================] - 0s 9ms/step - loss: 14.0991 - mae: 14.0991\n",
            "Epoch 20/100\n",
            "2/2 [==============================] - 0s 10ms/step - loss: 11.2753 - mae: 11.2753\n",
            "Epoch 21/100\n",
            "2/2 [==============================] - 0s 8ms/step - loss: 17.4286 - mae: 17.4286\n",
            "Epoch 22/100\n",
            "2/2 [==============================] - 0s 10ms/step - loss: 15.9530 - mae: 15.9530\n",
            "Epoch 23/100\n",
            "2/2 [==============================] - 0s 10ms/step - loss: 9.8516 - mae: 9.8516\n",
            "Epoch 24/100\n",
            "2/2 [==============================] - 0s 14ms/step - loss: 16.4453 - mae: 16.4453\n",
            "Epoch 25/100\n",
            "2/2 [==============================] - 0s 11ms/step - loss: 15.3799 - mae: 15.3799\n",
            "Epoch 26/100\n",
            "2/2 [==============================] - 0s 11ms/step - loss: 20.5985 - mae: 20.5985\n",
            "Epoch 27/100\n",
            "2/2 [==============================] - 0s 10ms/step - loss: 26.3017 - mae: 26.3017\n",
            "Epoch 28/100\n",
            "2/2 [==============================] - 0s 13ms/step - loss: 18.7554 - mae: 18.7554\n",
            "Epoch 29/100\n",
            "2/2 [==============================] - 0s 11ms/step - loss: 9.2574 - mae: 9.2574\n",
            "Epoch 30/100\n",
            "2/2 [==============================] - 0s 15ms/step - loss: 29.3870 - mae: 29.3870\n",
            "Epoch 31/100\n",
            "2/2 [==============================] - 0s 10ms/step - loss: 53.2605 - mae: 53.2605\n",
            "Epoch 32/100\n",
            "2/2 [==============================] - 0s 11ms/step - loss: 9.4743 - mae: 9.4743\n",
            "Epoch 33/100\n",
            "2/2 [==============================] - 0s 11ms/step - loss: 12.0481 - mae: 12.0481\n",
            "Epoch 34/100\n",
            "2/2 [==============================] - 0s 10ms/step - loss: 23.2453 - mae: 23.2453\n",
            "Epoch 35/100\n",
            "2/2 [==============================] - 0s 11ms/step - loss: 11.8539 - mae: 11.8539\n",
            "Epoch 36/100\n",
            "2/2 [==============================] - 0s 8ms/step - loss: 21.8334 - mae: 21.8334\n",
            "Epoch 37/100\n",
            "2/2 [==============================] - 0s 8ms/step - loss: 11.1296 - mae: 11.1296\n",
            "Epoch 38/100\n",
            "2/2 [==============================] - 0s 10ms/step - loss: 12.7167 - mae: 12.7167\n",
            "Epoch 39/100\n",
            "2/2 [==============================] - 0s 8ms/step - loss: 11.5949 - mae: 11.5949\n",
            "Epoch 40/100\n",
            "2/2 [==============================] - 0s 10ms/step - loss: 19.2072 - mae: 19.2072\n",
            "Epoch 41/100\n",
            "2/2 [==============================] - 0s 7ms/step - loss: 10.9544 - mae: 10.9544\n",
            "Epoch 42/100\n",
            "2/2 [==============================] - 0s 9ms/step - loss: 9.2870 - mae: 9.2870\n",
            "Epoch 43/100\n",
            "2/2 [==============================] - 0s 8ms/step - loss: 9.5962 - mae: 9.5962\n",
            "Epoch 44/100\n",
            "2/2 [==============================] - 0s 11ms/step - loss: 27.8775 - mae: 27.8775\n",
            "Epoch 45/100\n",
            "2/2 [==============================] - 0s 10ms/step - loss: 11.2658 - mae: 11.2658\n",
            "Epoch 46/100\n",
            "2/2 [==============================] - 0s 9ms/step - loss: 13.8427 - mae: 13.8427\n",
            "Epoch 47/100\n",
            "2/2 [==============================] - 0s 7ms/step - loss: 11.9361 - mae: 11.9361\n",
            "Epoch 48/100\n",
            "2/2 [==============================] - 0s 8ms/step - loss: 16.9774 - mae: 16.9774\n",
            "Epoch 49/100\n",
            "2/2 [==============================] - 0s 7ms/step - loss: 9.7729 - mae: 9.7729\n",
            "Epoch 50/100\n",
            "2/2 [==============================] - 0s 9ms/step - loss: 14.1543 - mae: 14.1543\n",
            "Epoch 51/100\n",
            "2/2 [==============================] - 0s 14ms/step - loss: 11.7381 - mae: 11.7381\n",
            "Epoch 52/100\n",
            "2/2 [==============================] - 0s 10ms/step - loss: 31.3087 - mae: 31.3087\n",
            "Epoch 53/100\n",
            "2/2 [==============================] - 0s 9ms/step - loss: 14.6960 - mae: 14.6960\n",
            "Epoch 54/100\n",
            "2/2 [==============================] - 0s 10ms/step - loss: 24.5555 - mae: 24.5555\n",
            "Epoch 55/100\n",
            "2/2 [==============================] - 0s 10ms/step - loss: 23.8357 - mae: 23.8357\n",
            "Epoch 56/100\n",
            "2/2 [==============================] - 0s 8ms/step - loss: 11.1119 - mae: 11.1119\n",
            "Epoch 57/100\n",
            "2/2 [==============================] - 0s 8ms/step - loss: 13.0412 - mae: 13.0412\n",
            "Epoch 58/100\n",
            "2/2 [==============================] - 0s 9ms/step - loss: 9.7732 - mae: 9.7732\n",
            "Epoch 59/100\n",
            "2/2 [==============================] - 0s 8ms/step - loss: 13.2090 - mae: 13.2090\n",
            "Epoch 60/100\n",
            "2/2 [==============================] - 0s 11ms/step - loss: 10.8213 - mae: 10.8213\n",
            "Epoch 61/100\n",
            "2/2 [==============================] - 0s 7ms/step - loss: 13.3888 - mae: 13.3888\n",
            "Epoch 62/100\n",
            "2/2 [==============================] - 0s 8ms/step - loss: 17.3155 - mae: 17.3155\n",
            "Epoch 63/100\n",
            "2/2 [==============================] - 0s 8ms/step - loss: 9.1314 - mae: 9.1314\n",
            "Epoch 64/100\n",
            "2/2 [==============================] - 0s 8ms/step - loss: 17.9378 - mae: 17.9378\n",
            "Epoch 65/100\n",
            "2/2 [==============================] - 0s 8ms/step - loss: 10.6145 - mae: 10.6145\n",
            "Epoch 66/100\n",
            "2/2 [==============================] - 0s 7ms/step - loss: 21.4466 - mae: 21.4466\n",
            "Epoch 67/100\n",
            "2/2 [==============================] - 0s 10ms/step - loss: 10.6215 - mae: 10.6215\n",
            "Epoch 68/100\n",
            "2/2 [==============================] - 0s 9ms/step - loss: 14.8352 - mae: 14.8352\n",
            "Epoch 69/100\n",
            "2/2 [==============================] - 0s 8ms/step - loss: 10.7626 - mae: 10.7626\n",
            "Epoch 70/100\n",
            "2/2 [==============================] - 0s 12ms/step - loss: 12.8617 - mae: 12.8617\n",
            "Epoch 71/100\n",
            "2/2 [==============================] - 0s 8ms/step - loss: 13.2801 - mae: 13.2801\n",
            "Epoch 72/100\n",
            "2/2 [==============================] - 0s 9ms/step - loss: 19.9100 - mae: 19.9100\n",
            "Epoch 73/100\n",
            "2/2 [==============================] - 0s 8ms/step - loss: 11.2947 - mae: 11.2947\n",
            "Epoch 74/100\n",
            "2/2 [==============================] - 0s 11ms/step - loss: 22.2068 - mae: 22.2068\n",
            "Epoch 75/100\n",
            "2/2 [==============================] - 0s 9ms/step - loss: 6.9599 - mae: 6.9599\n",
            "Epoch 76/100\n",
            "2/2 [==============================] - 0s 10ms/step - loss: 11.4188 - mae: 11.4188\n",
            "Epoch 77/100\n",
            "2/2 [==============================] - 0s 9ms/step - loss: 21.5503 - mae: 21.5503\n",
            "Epoch 78/100\n",
            "2/2 [==============================] - 0s 8ms/step - loss: 18.6703 - mae: 18.6703\n",
            "Epoch 79/100\n",
            "2/2 [==============================] - 0s 9ms/step - loss: 15.9852 - mae: 15.9852\n",
            "Epoch 80/100\n",
            "2/2 [==============================] - 0s 10ms/step - loss: 23.6312 - mae: 23.6312\n",
            "Epoch 81/100\n",
            "2/2 [==============================] - 0s 10ms/step - loss: 11.0174 - mae: 11.0174\n",
            "Epoch 82/100\n",
            "2/2 [==============================] - 0s 10ms/step - loss: 12.7224 - mae: 12.7224\n",
            "Epoch 83/100\n",
            "2/2 [==============================] - 0s 8ms/step - loss: 17.4903 - mae: 17.4903\n",
            "Epoch 84/100\n",
            "2/2 [==============================] - 0s 9ms/step - loss: 7.3114 - mae: 7.3114\n",
            "Epoch 85/100\n",
            "2/2 [==============================] - 0s 8ms/step - loss: 15.0295 - mae: 15.0295\n",
            "Epoch 86/100\n",
            "2/2 [==============================] - 0s 7ms/step - loss: 15.3428 - mae: 15.3428\n",
            "Epoch 87/100\n",
            "2/2 [==============================] - 0s 9ms/step - loss: 19.2066 - mae: 19.2066\n",
            "Epoch 88/100\n",
            "2/2 [==============================] - 0s 8ms/step - loss: 29.5801 - mae: 29.5801\n",
            "Epoch 89/100\n",
            "2/2 [==============================] - 0s 11ms/step - loss: 10.1764 - mae: 10.1764\n",
            "Epoch 90/100\n",
            "2/2 [==============================] - 0s 10ms/step - loss: 21.3085 - mae: 21.3085\n",
            "Epoch 91/100\n",
            "2/2 [==============================] - 0s 11ms/step - loss: 10.5541 - mae: 10.5541\n",
            "Epoch 92/100\n",
            "2/2 [==============================] - 0s 7ms/step - loss: 18.1941 - mae: 18.1941\n",
            "Epoch 93/100\n",
            "2/2 [==============================] - 0s 8ms/step - loss: 6.5739 - mae: 6.5739\n",
            "Epoch 94/100\n",
            "2/2 [==============================] - 0s 8ms/step - loss: 11.2043 - mae: 11.2043\n",
            "Epoch 95/100\n",
            "2/2 [==============================] - 0s 13ms/step - loss: 24.6064 - mae: 24.6064\n",
            "Epoch 96/100\n",
            "2/2 [==============================] - 0s 13ms/step - loss: 10.8130 - mae: 10.8130\n",
            "Epoch 97/100\n",
            "2/2 [==============================] - 0s 11ms/step - loss: 15.5188 - mae: 15.5188\n",
            "Epoch 98/100\n",
            "2/2 [==============================] - 0s 9ms/step - loss: 9.0740 - mae: 9.0740\n",
            "Epoch 99/100\n",
            "2/2 [==============================] - 0s 9ms/step - loss: 10.8902 - mae: 10.8902\n",
            "Epoch 100/100\n",
            "2/2 [==============================] - 0s 7ms/step - loss: 27.0816 - mae: 27.0816\n"
          ]
        },
        {
          "output_type": "execute_result",
          "data": {
            "text/plain": [
              "<keras.callbacks.History at 0x7acf1f7c9c00>"
            ]
          },
          "metadata": {},
          "execution_count": 82
        }
      ]
    },
    {
      "cell_type": "code",
      "source": [
        "# Make and Plot predictions for model_2\n",
        "y_pred_2 = model_2.predict(X_test)\n",
        "plot_predictions(X_train, y_train, X_test, y_test, y_pred_2)"
      ],
      "metadata": {
        "colab": {
          "base_uri": "https://localhost:8080/",
          "height": 540
        },
        "id": "KcXwGz97Xgix",
        "outputId": "995278a5-5a93-4ebb-ee3f-922b3d994e88"
      },
      "execution_count": 85,
      "outputs": [
        {
          "output_type": "stream",
          "name": "stdout",
          "text": [
            "1/1 [==============================] - 0s 31ms/step\n"
          ]
        },
        {
          "output_type": "display_data",
          "data": {
            "text/plain": [
              "<Figure size 1000x700 with 1 Axes>"
            ],
            "image/png": "[encoded data removed]"
          },
          "metadata": {}
        }
      ]
    },
    {
      "cell_type": "code",
      "source": [
        "# Calculate model_2 evaluation metrics\n",
        "mae_2=mae(y_test, y_pred_2)\n",
        "mse_2=mse(y_test, y_pred_2)\n",
        "mae_2, mse_2"
      ],
      "metadata": {
        "colab": {
          "base_uri": "https://localhost:8080/"
        },
        "id": "jdIbiEbHXjjy",
        "outputId": "c41c79a3-5a6d-40bc-e0c7-c1c8b891e696"
      },
      "execution_count": 86,
      "outputs": [
        {
          "output_type": "execute_result",
          "data": {
            "text/plain": [
              "(<tf.Tensor: shape=(), dtype=float32, numpy=9.994593>,\n",
              " <tf.Tensor: shape=(), dtype=float32, numpy=107.15074>)"
            ]
          },
          "metadata": {},
          "execution_count": 86
        }
      ]
    },
    {
      "cell_type": "markdown",
      "source": [
        "**Build `model_3`**\n",
        "\n",
        "* 2 Dense layers, trained for 500 epochs"
      ],
      "metadata": {
        "id": "VEav0AurYtSM"
      }
    },
    {
      "cell_type": "code",
      "source": [
        "# Set random seed\n",
        "tf.random.set_seed(42)\n",
        "\n",
        "# 1. Create the model\n",
        "model_3 = tf.keras.Sequential([\n",
        "    tf.keras.layers.Flatten(),\n",
        "    tf.keras.layers.Dense(10),\n",
        "    tf.keras.layers.Dense(1)\n",
        "])\n",
        "\n",
        "# 2. Compile the model\n",
        "model_3.compile(loss= tf.keras.losses.mae,\n",
        "                optimizer=tf.keras.optimizers.SGD(),\n",
        "                metrics=['mae'])\n",
        "\n",
        "# 3. Fit the model\n",
        "model_3.fit(X_train, y_train, epochs=500)"
      ],
      "metadata": {
        "colab": {
          "base_uri": "https://localhost:8080/"
        },
        "outputId": "631f0efa-92b3-4c14-9579-9ada1cd3ed8e",
        "id": "-4yd1BV3Y_6_"
      },
      "execution_count": 94,
      "outputs": [
        {
          "output_type": "stream",
          "name": "stdout",
          "text": [
            "Epoch 1/500\n",
            "2/2 [==============================] - 1s 17ms/step - loss: 52.4879 - mae: 52.4879\n",
            "Epoch 2/500\n",
            "2/2 [==============================] - 0s 8ms/step - loss: 28.0979 - mae: 28.0979\n",
            "Epoch 3/500\n",
            "2/2 [==============================] - 0s 10ms/step - loss: 31.6967 - mae: 31.6967\n",
            "Epoch 4/500\n",
            "2/2 [==============================] - 0s 9ms/step - loss: 17.2326 - mae: 17.2326\n",
            "Epoch 5/500\n",
            "2/2 [==============================] - 0s 20ms/step - loss: 19.4074 - mae: 19.4074\n",
            "Epoch 6/500\n",
            "2/2 [==============================] - 0s 22ms/step - loss: 14.8209 - mae: 14.8209\n",
            "Epoch 7/500\n",
            "2/2 [==============================] - 0s 17ms/step - loss: 10.4592 - mae: 10.4592\n",
            "Epoch 8/500\n",
            "2/2 [==============================] - 0s 12ms/step - loss: 12.1289 - mae: 12.1289\n",
            "Epoch 9/500\n",
            "2/2 [==============================] - 0s 11ms/step - loss: 38.0770 - mae: 38.0770\n",
            "Epoch 10/500\n",
            "2/2 [==============================] - 0s 10ms/step - loss: 25.6535 - mae: 25.6535\n",
            "Epoch 11/500\n",
            "2/2 [==============================] - 0s 11ms/step - loss: 10.2601 - mae: 10.2601\n",
            "Epoch 12/500\n",
            "2/2 [==============================] - 0s 11ms/step - loss: 25.3042 - mae: 25.3042\n",
            "Epoch 13/500\n",
            "2/2 [==============================] - 0s 9ms/step - loss: 17.0600 - mae: 17.0600\n",
            "Epoch 14/500\n",
            "2/2 [==============================] - 0s 10ms/step - loss: 26.0446 - mae: 26.0446\n",
            "Epoch 15/500\n",
            "2/2 [==============================] - 0s 15ms/step - loss: 18.0961 - mae: 18.0961\n",
            "Epoch 16/500\n",
            "2/2 [==============================] - 0s 9ms/step - loss: 7.8657 - mae: 7.8657\n",
            "Epoch 17/500\n",
            "2/2 [==============================] - 0s 10ms/step - loss: 22.2072 - mae: 22.2072\n",
            "Epoch 18/500\n",
            "2/2 [==============================] - 0s 10ms/step - loss: 10.8269 - mae: 10.8269\n",
            "Epoch 19/500\n",
            "2/2 [==============================] - 0s 8ms/step - loss: 10.7139 - mae: 10.7139\n",
            "Epoch 20/500\n",
            "2/2 [==============================] - 0s 9ms/step - loss: 12.0353 - mae: 12.0353\n",
            "Epoch 21/500\n",
            "2/2 [==============================] - 0s 8ms/step - loss: 20.1177 - mae: 20.1177\n",
            "Epoch 22/500\n",
            "2/2 [==============================] - 0s 7ms/step - loss: 13.7733 - mae: 13.7733\n",
            "Epoch 23/500\n",
            "2/2 [==============================] - 0s 8ms/step - loss: 9.5306 - mae: 9.5306\n",
            "Epoch 24/500\n",
            "2/2 [==============================] - 0s 8ms/step - loss: 11.8859 - mae: 11.8859\n",
            "Epoch 25/500\n",
            "2/2 [==============================] - 0s 8ms/step - loss: 16.1740 - mae: 16.1740\n",
            "Epoch 26/500\n",
            "2/2 [==============================] - 0s 7ms/step - loss: 16.3684 - mae: 16.3684\n",
            "Epoch 27/500\n",
            "2/2 [==============================] - 0s 7ms/step - loss: 11.5809 - mae: 11.5809\n",
            "Epoch 28/500\n",
            "2/2 [==============================] - 0s 7ms/step - loss: 29.9120 - mae: 29.9120\n",
            "Epoch 29/500\n",
            "2/2 [==============================] - 0s 8ms/step - loss: 9.2563 - mae: 9.2563\n",
            "Epoch 30/500\n",
            "2/2 [==============================] - 0s 8ms/step - loss: 30.4724 - mae: 30.4724\n",
            "Epoch 31/500\n",
            "2/2 [==============================] - 0s 8ms/step - loss: 55.3867 - mae: 55.3867\n",
            "Epoch 32/500\n",
            "2/2 [==============================] - 0s 7ms/step - loss: 9.7201 - mae: 9.7201\n",
            "Epoch 33/500\n",
            "2/2 [==============================] - 0s 9ms/step - loss: 12.3361 - mae: 12.3361\n",
            "Epoch 34/500\n",
            "2/2 [==============================] - 0s 8ms/step - loss: 24.6303 - mae: 24.6303\n",
            "Epoch 35/500\n",
            "2/2 [==============================] - 0s 7ms/step - loss: 11.9314 - mae: 11.9314\n",
            "Epoch 36/500\n",
            "2/2 [==============================] - 0s 7ms/step - loss: 22.1302 - mae: 22.1302\n",
            "Epoch 37/500\n",
            "2/2 [==============================] - 0s 9ms/step - loss: 17.5168 - mae: 17.5168\n",
            "Epoch 38/500\n",
            "2/2 [==============================] - 0s 8ms/step - loss: 10.7163 - mae: 10.7163\n",
            "Epoch 39/500\n",
            "2/2 [==============================] - 0s 8ms/step - loss: 11.2331 - mae: 11.2331\n",
            "Epoch 40/500\n",
            "2/2 [==============================] - 0s 8ms/step - loss: 18.1689 - mae: 18.1689\n",
            "Epoch 41/500\n",
            "2/2 [==============================] - 0s 8ms/step - loss: 10.4755 - mae: 10.4755\n",
            "Epoch 42/500\n",
            "2/2 [==============================] - 0s 9ms/step - loss: 7.8433 - mae: 7.8433\n",
            "Epoch 43/500\n",
            "2/2 [==============================] - 0s 8ms/step - loss: 14.1830 - mae: 14.1830\n",
            "Epoch 44/500\n",
            "2/2 [==============================] - 0s 7ms/step - loss: 24.9001 - mae: 24.9001\n",
            "Epoch 45/500\n",
            "2/2 [==============================] - 0s 8ms/step - loss: 10.9406 - mae: 10.9406\n",
            "Epoch 46/500\n",
            "2/2 [==============================] - 0s 7ms/step - loss: 13.0203 - mae: 13.0203\n",
            "Epoch 47/500\n",
            "2/2 [==============================] - 0s 8ms/step - loss: 10.4498 - mae: 10.4498\n",
            "Epoch 48/500\n",
            "2/2 [==============================] - 0s 8ms/step - loss: 17.1769 - mae: 17.1769\n",
            "Epoch 49/500\n",
            "2/2 [==============================] - 0s 7ms/step - loss: 9.6164 - mae: 9.6164\n",
            "Epoch 50/500\n",
            "2/2 [==============================] - 0s 11ms/step - loss: 13.8918 - mae: 13.8918\n",
            "Epoch 51/500\n",
            "2/2 [==============================] - 0s 8ms/step - loss: 11.6268 - mae: 11.6268\n",
            "Epoch 52/500\n",
            "2/2 [==============================] - 0s 8ms/step - loss: 30.7212 - mae: 30.7212\n",
            "Epoch 53/500\n",
            "2/2 [==============================] - 0s 7ms/step - loss: 14.4296 - mae: 14.4296\n",
            "Epoch 54/500\n",
            "2/2 [==============================] - 0s 6ms/step - loss: 24.1008 - mae: 24.1008\n",
            "Epoch 55/500\n",
            "2/2 [==============================] - 0s 9ms/step - loss: 23.3362 - mae: 23.3362\n",
            "Epoch 56/500\n",
            "2/2 [==============================] - 0s 8ms/step - loss: 10.9343 - mae: 10.9343\n",
            "Epoch 57/500\n",
            "2/2 [==============================] - 0s 8ms/step - loss: 12.8110 - mae: 12.8110\n",
            "Epoch 58/500\n",
            "2/2 [==============================] - 0s 8ms/step - loss: 9.6387 - mae: 9.6387\n",
            "Epoch 59/500\n",
            "2/2 [==============================] - 0s 7ms/step - loss: 12.9695 - mae: 12.9695\n",
            "Epoch 60/500\n",
            "2/2 [==============================] - 0s 7ms/step - loss: 10.6737 - mae: 10.6737\n",
            "Epoch 61/500\n",
            "2/2 [==============================] - 0s 9ms/step - loss: 17.4049 - mae: 17.4049\n",
            "Epoch 62/500\n",
            "2/2 [==============================] - 0s 7ms/step - loss: 10.5850 - mae: 10.5850\n",
            "Epoch 63/500\n",
            "2/2 [==============================] - 0s 8ms/step - loss: 10.4774 - mae: 10.4774\n",
            "Epoch 64/500\n",
            "2/2 [==============================] - 0s 7ms/step - loss: 24.7658 - mae: 24.7658\n",
            "Epoch 65/500\n",
            "2/2 [==============================] - 0s 7ms/step - loss: 10.6633 - mae: 10.6633\n",
            "Epoch 66/500\n",
            "2/2 [==============================] - 0s 8ms/step - loss: 21.7109 - mae: 21.7109\n",
            "Epoch 67/500\n",
            "2/2 [==============================] - 0s 7ms/step - loss: 10.6943 - mae: 10.6943\n",
            "Epoch 68/500\n",
            "2/2 [==============================] - 0s 8ms/step - loss: 10.6266 - mae: 10.6266\n",
            "Epoch 69/500\n",
            "2/2 [==============================] - 0s 9ms/step - loss: 22.6053 - mae: 22.6053\n",
            "Epoch 70/500\n",
            "2/2 [==============================] - 0s 8ms/step - loss: 9.3511 - mae: 9.3511\n",
            "Epoch 71/500\n",
            "2/2 [==============================] - 0s 8ms/step - loss: 15.4664 - mae: 15.4664\n",
            "Epoch 72/500\n",
            "2/2 [==============================] - 0s 9ms/step - loss: 7.0210 - mae: 7.0210\n",
            "Epoch 73/500\n",
            "2/2 [==============================] - 0s 7ms/step - loss: 12.2243 - mae: 12.2243\n",
            "Epoch 74/500\n",
            "2/2 [==============================] - 0s 7ms/step - loss: 17.3709 - mae: 17.3709\n",
            "Epoch 75/500\n",
            "2/2 [==============================] - 0s 10ms/step - loss: 7.2257 - mae: 7.2257\n",
            "Epoch 76/500\n",
            "2/2 [==============================] - 0s 8ms/step - loss: 9.4633 - mae: 9.4633\n",
            "Epoch 77/500\n",
            "2/2 [==============================] - 0s 9ms/step - loss: 22.1996 - mae: 22.1996\n",
            "Epoch 78/500\n",
            "2/2 [==============================] - 0s 8ms/step - loss: 17.4291 - mae: 17.4291\n",
            "Epoch 79/500\n",
            "2/2 [==============================] - 0s 9ms/step - loss: 14.6799 - mae: 14.6799\n",
            "Epoch 80/500\n",
            "2/2 [==============================] - 0s 8ms/step - loss: 24.6716 - mae: 24.6716\n",
            "Epoch 81/500\n",
            "2/2 [==============================] - 0s 8ms/step - loss: 11.5278 - mae: 11.5278\n",
            "Epoch 82/500\n",
            "2/2 [==============================] - 0s 9ms/step - loss: 12.4041 - mae: 12.4041\n",
            "Epoch 83/500\n",
            "2/2 [==============================] - 0s 8ms/step - loss: 17.0588 - mae: 17.0588\n",
            "Epoch 84/500\n",
            "2/2 [==============================] - 0s 8ms/step - loss: 7.2505 - mae: 7.2505\n",
            "Epoch 85/500\n",
            "2/2 [==============================] - 0s 8ms/step - loss: 37.3426 - mae: 37.3426\n",
            "Epoch 86/500\n",
            "2/2 [==============================] - 0s 8ms/step - loss: 21.3172 - mae: 21.3172\n",
            "Epoch 87/500\n",
            "2/2 [==============================] - 0s 7ms/step - loss: 11.0598 - mae: 11.0598\n",
            "Epoch 88/500\n",
            "2/2 [==============================] - 0s 9ms/step - loss: 25.1898 - mae: 25.1898\n",
            "Epoch 89/500\n",
            "2/2 [==============================] - 0s 14ms/step - loss: 9.3879 - mae: 9.3879\n",
            "Epoch 90/500\n",
            "2/2 [==============================] - 0s 10ms/step - loss: 17.4569 - mae: 17.4569\n",
            "Epoch 91/500\n",
            "2/2 [==============================] - 0s 10ms/step - loss: 10.8353 - mae: 10.8353\n",
            "Epoch 92/500\n",
            "2/2 [==============================] - 0s 9ms/step - loss: 19.1465 - mae: 19.1465\n",
            "Epoch 93/500\n",
            "2/2 [==============================] - 0s 10ms/step - loss: 8.3461 - mae: 8.3461\n",
            "Epoch 94/500\n",
            "2/2 [==============================] - 0s 12ms/step - loss: 11.5902 - mae: 11.5902\n",
            "Epoch 95/500\n",
            "2/2 [==============================] - 0s 13ms/step - loss: 26.1914 - mae: 26.1914\n",
            "Epoch 96/500\n",
            "2/2 [==============================] - 0s 12ms/step - loss: 11.2192 - mae: 11.2192\n",
            "Epoch 97/500\n",
            "2/2 [==============================] - 0s 11ms/step - loss: 16.8402 - mae: 16.8402\n",
            "Epoch 98/500\n",
            "2/2 [==============================] - 0s 8ms/step - loss: 6.5995 - mae: 6.5995\n",
            "Epoch 99/500\n",
            "2/2 [==============================] - 0s 10ms/step - loss: 12.5981 - mae: 12.5981\n",
            "Epoch 100/500\n",
            "2/2 [==============================] - 0s 8ms/step - loss: 19.3991 - mae: 19.3991\n",
            "Epoch 101/500\n",
            "2/2 [==============================] - 0s 9ms/step - loss: 16.0971 - mae: 16.0971\n",
            "Epoch 102/500\n",
            "2/2 [==============================] - 0s 8ms/step - loss: 11.2145 - mae: 11.2145\n",
            "Epoch 103/500\n",
            "2/2 [==============================] - 0s 10ms/step - loss: 9.3417 - mae: 9.3417\n",
            "Epoch 104/500\n",
            "2/2 [==============================] - 0s 10ms/step - loss: 24.9625 - mae: 24.9625\n",
            "Epoch 105/500\n",
            "2/2 [==============================] - 0s 9ms/step - loss: 11.9958 - mae: 11.9958\n",
            "Epoch 106/500\n",
            "2/2 [==============================] - 0s 7ms/step - loss: 10.1011 - mae: 10.1011\n",
            "Epoch 107/500\n",
            "2/2 [==============================] - 0s 10ms/step - loss: 22.5072 - mae: 22.5072\n",
            "Epoch 108/500\n",
            "2/2 [==============================] - 0s 9ms/step - loss: 8.1416 - mae: 8.1416\n",
            "Epoch 109/500\n",
            "2/2 [==============================] - 0s 9ms/step - loss: 13.3362 - mae: 13.3362\n",
            "Epoch 110/500\n",
            "2/2 [==============================] - 0s 9ms/step - loss: 8.0015 - mae: 8.0015\n",
            "Epoch 111/500\n",
            "2/2 [==============================] - 0s 8ms/step - loss: 15.7748 - mae: 15.7748\n",
            "Epoch 112/500\n",
            "2/2 [==============================] - 0s 9ms/step - loss: 8.7617 - mae: 8.7617\n",
            "Epoch 113/500\n",
            "2/2 [==============================] - 0s 8ms/step - loss: 22.6363 - mae: 22.6363\n",
            "Epoch 114/500\n",
            "2/2 [==============================] - 0s 9ms/step - loss: 18.9957 - mae: 18.9957\n",
            "Epoch 115/500\n",
            "2/2 [==============================] - 0s 8ms/step - loss: 11.0982 - mae: 11.0982\n",
            "Epoch 116/500\n",
            "2/2 [==============================] - 0s 8ms/step - loss: 23.0788 - mae: 23.0788\n",
            "Epoch 117/500\n",
            "2/2 [==============================] - 0s 8ms/step - loss: 9.5751 - mae: 9.5751\n",
            "Epoch 118/500\n",
            "2/2 [==============================] - 0s 8ms/step - loss: 10.6317 - mae: 10.6317\n",
            "Epoch 119/500\n",
            "2/2 [==============================] - 0s 7ms/step - loss: 8.0597 - mae: 8.0597\n",
            "Epoch 120/500\n",
            "2/2 [==============================] - 0s 8ms/step - loss: 29.3348 - mae: 29.3348\n",
            "Epoch 121/500\n",
            "2/2 [==============================] - 0s 8ms/step - loss: 8.0953 - mae: 8.0953\n",
            "Epoch 122/500\n",
            "2/2 [==============================] - 0s 9ms/step - loss: 28.0050 - mae: 28.0050\n",
            "Epoch 123/500\n",
            "2/2 [==============================] - 0s 8ms/step - loss: 32.5237 - mae: 32.5237\n",
            "Epoch 124/500\n",
            "2/2 [==============================] - 0s 8ms/step - loss: 19.3545 - mae: 19.3545\n",
            "Epoch 125/500\n",
            "2/2 [==============================] - 0s 9ms/step - loss: 9.5402 - mae: 9.5402\n",
            "Epoch 126/500\n",
            "2/2 [==============================] - 0s 9ms/step - loss: 9.6104 - mae: 9.6104\n",
            "Epoch 127/500\n",
            "2/2 [==============================] - 0s 9ms/step - loss: 12.7052 - mae: 12.7052\n",
            "Epoch 128/500\n",
            "2/2 [==============================] - 0s 10ms/step - loss: 12.8163 - mae: 12.8163\n",
            "Epoch 129/500\n",
            "2/2 [==============================] - 0s 8ms/step - loss: 13.9275 - mae: 13.9275\n",
            "Epoch 130/500\n",
            "2/2 [==============================] - 0s 9ms/step - loss: 10.2498 - mae: 10.2498\n",
            "Epoch 131/500\n",
            "2/2 [==============================] - 0s 9ms/step - loss: 21.6661 - mae: 21.6661\n",
            "Epoch 132/500\n",
            "2/2 [==============================] - 0s 10ms/step - loss: 8.2900 - mae: 8.2900\n",
            "Epoch 133/500\n",
            "2/2 [==============================] - 0s 12ms/step - loss: 9.0707 - mae: 9.0707\n",
            "Epoch 134/500\n",
            "2/2 [==============================] - 0s 9ms/step - loss: 16.8742 - mae: 16.8742\n",
            "Epoch 135/500\n",
            "2/2 [==============================] - 0s 8ms/step - loss: 10.6588 - mae: 10.6588\n",
            "Epoch 136/500\n",
            "2/2 [==============================] - 0s 8ms/step - loss: 18.4767 - mae: 18.4767\n",
            "Epoch 137/500\n",
            "2/2 [==============================] - 0s 9ms/step - loss: 23.4463 - mae: 23.4463\n",
            "Epoch 138/500\n",
            "2/2 [==============================] - 0s 9ms/step - loss: 9.2719 - mae: 9.2719\n",
            "Epoch 139/500\n",
            "2/2 [==============================] - 0s 8ms/step - loss: 9.0117 - mae: 9.0117\n",
            "Epoch 140/500\n",
            "2/2 [==============================] - 0s 8ms/step - loss: 16.6470 - mae: 16.6470\n",
            "Epoch 141/500\n",
            "2/2 [==============================] - 0s 9ms/step - loss: 8.4728 - mae: 8.4728\n",
            "Epoch 142/500\n",
            "2/2 [==============================] - 0s 8ms/step - loss: 37.1979 - mae: 37.1979\n",
            "Epoch 143/500\n",
            "2/2 [==============================] - 0s 8ms/step - loss: 25.8097 - mae: 25.8097\n",
            "Epoch 144/500\n",
            "2/2 [==============================] - 0s 8ms/step - loss: 9.5653 - mae: 9.5653\n",
            "Epoch 145/500\n",
            "2/2 [==============================] - 0s 8ms/step - loss: 26.5605 - mae: 26.5605\n",
            "Epoch 146/500\n",
            "2/2 [==============================] - 0s 8ms/step - loss: 8.8412 - mae: 8.8412\n",
            "Epoch 147/500\n",
            "2/2 [==============================] - 0s 11ms/step - loss: 15.6044 - mae: 15.6044\n",
            "Epoch 148/500\n",
            "2/2 [==============================] - 0s 8ms/step - loss: 18.2754 - mae: 18.2754\n",
            "Epoch 149/500\n",
            "2/2 [==============================] - 0s 8ms/step - loss: 8.2717 - mae: 8.2717\n",
            "Epoch 150/500\n",
            "2/2 [==============================] - 0s 7ms/step - loss: 7.5480 - mae: 7.5480\n",
            "Epoch 151/500\n",
            "2/2 [==============================] - 0s 7ms/step - loss: 18.4115 - mae: 18.4115\n",
            "Epoch 152/500\n",
            "2/2 [==============================] - 0s 7ms/step - loss: 10.3446 - mae: 10.3446\n",
            "Epoch 153/500\n",
            "2/2 [==============================] - 0s 7ms/step - loss: 29.7205 - mae: 29.7205\n",
            "Epoch 154/500\n",
            "2/2 [==============================] - 0s 8ms/step - loss: 10.5653 - mae: 10.5653\n",
            "Epoch 155/500\n",
            "2/2 [==============================] - 0s 8ms/step - loss: 15.4610 - mae: 15.4610\n",
            "Epoch 156/500\n",
            "2/2 [==============================] - 0s 7ms/step - loss: 17.0171 - mae: 17.0171\n",
            "Epoch 157/500\n",
            "2/2 [==============================] - 0s 6ms/step - loss: 32.8372 - mae: 32.8372\n",
            "Epoch 158/500\n",
            "2/2 [==============================] - 0s 11ms/step - loss: 10.7522 - mae: 10.7522\n",
            "Epoch 159/500\n",
            "2/2 [==============================] - 0s 9ms/step - loss: 8.9439 - mae: 8.9439\n",
            "Epoch 160/500\n",
            "2/2 [==============================] - 0s 8ms/step - loss: 22.1213 - mae: 22.1213\n",
            "Epoch 161/500\n",
            "2/2 [==============================] - 0s 8ms/step - loss: 11.7347 - mae: 11.7347\n",
            "Epoch 162/500\n",
            "2/2 [==============================] - 0s 7ms/step - loss: 21.5495 - mae: 21.5495\n",
            "Epoch 163/500\n",
            "2/2 [==============================] - 0s 7ms/step - loss: 19.2311 - mae: 19.2311\n",
            "Epoch 164/500\n",
            "2/2 [==============================] - 0s 7ms/step - loss: 11.0300 - mae: 11.0300\n",
            "Epoch 165/500\n",
            "2/2 [==============================] - 0s 8ms/step - loss: 9.6429 - mae: 9.6429\n",
            "Epoch 166/500\n",
            "2/2 [==============================] - 0s 11ms/step - loss: 21.6233 - mae: 21.6233\n",
            "Epoch 167/500\n",
            "2/2 [==============================] - 0s 10ms/step - loss: 26.2133 - mae: 26.2133\n",
            "Epoch 168/500\n",
            "2/2 [==============================] - 0s 8ms/step - loss: 9.8777 - mae: 9.8777\n",
            "Epoch 169/500\n",
            "2/2 [==============================] - 0s 8ms/step - loss: 22.4648 - mae: 22.4648\n",
            "Epoch 170/500\n",
            "2/2 [==============================] - 0s 8ms/step - loss: 10.1862 - mae: 10.1862\n",
            "Epoch 171/500\n",
            "2/2 [==============================] - 0s 7ms/step - loss: 18.0991 - mae: 18.0991\n",
            "Epoch 172/500\n",
            "2/2 [==============================] - 0s 7ms/step - loss: 28.7150 - mae: 28.7150\n",
            "Epoch 173/500\n",
            "2/2 [==============================] - 0s 8ms/step - loss: 16.4432 - mae: 16.4432\n",
            "Epoch 174/500\n",
            "2/2 [==============================] - 0s 8ms/step - loss: 11.2407 - mae: 11.2407\n",
            "Epoch 175/500\n",
            "2/2 [==============================] - 0s 7ms/step - loss: 27.6186 - mae: 27.6186\n",
            "Epoch 176/500\n",
            "2/2 [==============================] - 0s 8ms/step - loss: 8.2671 - mae: 8.2671\n",
            "Epoch 177/500\n",
            "2/2 [==============================] - 0s 8ms/step - loss: 9.2673 - mae: 9.2673\n",
            "Epoch 178/500\n",
            "2/2 [==============================] - 0s 7ms/step - loss: 18.0238 - mae: 18.0238\n",
            "Epoch 179/500\n",
            "2/2 [==============================] - 0s 8ms/step - loss: 10.6649 - mae: 10.6649\n",
            "Epoch 180/500\n",
            "2/2 [==============================] - 0s 12ms/step - loss: 7.9125 - mae: 7.9125\n",
            "Epoch 181/500\n",
            "2/2 [==============================] - 0s 8ms/step - loss: 17.2829 - mae: 17.2829\n",
            "Epoch 182/500\n",
            "2/2 [==============================] - 0s 8ms/step - loss: 10.9894 - mae: 10.9894\n",
            "Epoch 183/500\n",
            "2/2 [==============================] - 0s 8ms/step - loss: 11.6526 - mae: 11.6526\n",
            "Epoch 184/500\n",
            "2/2 [==============================] - 0s 9ms/step - loss: 30.1778 - mae: 30.1778\n",
            "Epoch 185/500\n",
            "2/2 [==============================] - 0s 8ms/step - loss: 8.2142 - mae: 8.2142\n",
            "Epoch 186/500\n",
            "2/2 [==============================] - 0s 8ms/step - loss: 18.7190 - mae: 18.7190\n",
            "Epoch 187/500\n",
            "2/2 [==============================] - 0s 8ms/step - loss: 8.7989 - mae: 8.7989\n",
            "Epoch 188/500\n",
            "2/2 [==============================] - 0s 8ms/step - loss: 23.7045 - mae: 23.7045\n",
            "Epoch 189/500\n",
            "2/2 [==============================] - 0s 8ms/step - loss: 9.3984 - mae: 9.3984\n",
            "Epoch 190/500\n",
            "2/2 [==============================] - 0s 8ms/step - loss: 17.0849 - mae: 17.0849\n",
            "Epoch 191/500\n",
            "2/2 [==============================] - 0s 9ms/step - loss: 8.6044 - mae: 8.6044\n",
            "Epoch 192/500\n",
            "2/2 [==============================] - 0s 8ms/step - loss: 15.1846 - mae: 15.1846\n",
            "Epoch 193/500\n",
            "2/2 [==============================] - 0s 8ms/step - loss: 30.0259 - mae: 30.0259\n",
            "Epoch 194/500\n",
            "2/2 [==============================] - 0s 9ms/step - loss: 9.6554 - mae: 9.6554\n",
            "Epoch 195/500\n",
            "2/2 [==============================] - 0s 10ms/step - loss: 12.0259 - mae: 12.0259\n",
            "Epoch 196/500\n",
            "2/2 [==============================] - 0s 9ms/step - loss: 23.3912 - mae: 23.3912\n",
            "Epoch 197/500\n",
            "2/2 [==============================] - 0s 8ms/step - loss: 17.8519 - mae: 17.8519\n",
            "Epoch 198/500\n",
            "2/2 [==============================] - 0s 7ms/step - loss: 12.6334 - mae: 12.6334\n",
            "Epoch 199/500\n",
            "2/2 [==============================] - 0s 8ms/step - loss: 18.1149 - mae: 18.1149\n",
            "Epoch 200/500\n",
            "2/2 [==============================] - 0s 8ms/step - loss: 13.9429 - mae: 13.9429\n",
            "Epoch 201/500\n",
            "2/2 [==============================] - 0s 8ms/step - loss: 6.0938 - mae: 6.0938\n",
            "Epoch 202/500\n",
            "2/2 [==============================] - 0s 9ms/step - loss: 22.9451 - mae: 22.9451\n",
            "Epoch 203/500\n",
            "2/2 [==============================] - 0s 7ms/step - loss: 9.0261 - mae: 9.0261\n",
            "Epoch 204/500\n",
            "2/2 [==============================] - 0s 9ms/step - loss: 18.8861 - mae: 18.8861\n",
            "Epoch 205/500\n",
            "2/2 [==============================] - 0s 10ms/step - loss: 9.4287 - mae: 9.4287\n",
            "Epoch 206/500\n",
            "2/2 [==============================] - 0s 9ms/step - loss: 10.4880 - mae: 10.4880\n",
            "Epoch 207/500\n",
            "2/2 [==============================] - 0s 12ms/step - loss: 21.0987 - mae: 21.0987\n",
            "Epoch 208/500\n",
            "2/2 [==============================] - 0s 11ms/step - loss: 16.4968 - mae: 16.4968\n",
            "Epoch 209/500\n",
            "2/2 [==============================] - 0s 8ms/step - loss: 14.3695 - mae: 14.3695\n",
            "Epoch 210/500\n",
            "2/2 [==============================] - 0s 8ms/step - loss: 17.3402 - mae: 17.3402\n",
            "Epoch 211/500\n",
            "2/2 [==============================] - 0s 9ms/step - loss: 10.2993 - mae: 10.2993\n",
            "Epoch 212/500\n",
            "2/2 [==============================] - 0s 9ms/step - loss: 19.8317 - mae: 19.8317\n",
            "Epoch 213/500\n",
            "2/2 [==============================] - 0s 9ms/step - loss: 14.6600 - mae: 14.6600\n",
            "Epoch 214/500\n",
            "2/2 [==============================] - 0s 10ms/step - loss: 14.3493 - mae: 14.3493\n",
            "Epoch 215/500\n",
            "2/2 [==============================] - 0s 8ms/step - loss: 22.7968 - mae: 22.7968\n",
            "Epoch 216/500\n",
            "2/2 [==============================] - 0s 7ms/step - loss: 14.5363 - mae: 14.5363\n",
            "Epoch 217/500\n",
            "2/2 [==============================] - 0s 8ms/step - loss: 9.2762 - mae: 9.2762\n",
            "Epoch 218/500\n",
            "2/2 [==============================] - 0s 7ms/step - loss: 11.8447 - mae: 11.8447\n",
            "Epoch 219/500\n",
            "2/2 [==============================] - 0s 7ms/step - loss: 6.8447 - mae: 6.8447\n",
            "Epoch 220/500\n",
            "2/2 [==============================] - 0s 10ms/step - loss: 7.1416 - mae: 7.1416\n",
            "Epoch 221/500\n",
            "2/2 [==============================] - 0s 13ms/step - loss: 38.6287 - mae: 38.6287\n",
            "Epoch 222/500\n",
            "2/2 [==============================] - 0s 11ms/step - loss: 38.6789 - mae: 38.6789\n",
            "Epoch 223/500\n",
            "2/2 [==============================] - 0s 10ms/step - loss: 5.0885 - mae: 5.0885\n",
            "Epoch 224/500\n",
            "2/2 [==============================] - 0s 9ms/step - loss: 11.2556 - mae: 11.2556\n",
            "Epoch 225/500\n",
            "2/2 [==============================] - 0s 12ms/step - loss: 31.0950 - mae: 31.0950\n",
            "Epoch 226/500\n",
            "2/2 [==============================] - 0s 11ms/step - loss: 12.2824 - mae: 12.2824\n",
            "Epoch 227/500\n",
            "2/2 [==============================] - 0s 11ms/step - loss: 19.2422 - mae: 19.2422\n",
            "Epoch 228/500\n",
            "2/2 [==============================] - 0s 12ms/step - loss: 11.3121 - mae: 11.3121\n",
            "Epoch 229/500\n",
            "2/2 [==============================] - 0s 11ms/step - loss: 13.7342 - mae: 13.7342\n",
            "Epoch 230/500\n",
            "2/2 [==============================] - 0s 13ms/step - loss: 9.6172 - mae: 9.6172\n",
            "Epoch 231/500\n",
            "2/2 [==============================] - 0s 11ms/step - loss: 19.2531 - mae: 19.2531\n",
            "Epoch 232/500\n",
            "2/2 [==============================] - 0s 10ms/step - loss: 15.8126 - mae: 15.8126\n",
            "Epoch 233/500\n",
            "2/2 [==============================] - 0s 15ms/step - loss: 11.3167 - mae: 11.3167\n",
            "Epoch 234/500\n",
            "2/2 [==============================] - 0s 11ms/step - loss: 11.5279 - mae: 11.5279\n",
            "Epoch 235/500\n",
            "2/2 [==============================] - 0s 9ms/step - loss: 8.6017 - mae: 8.6017\n",
            "Epoch 236/500\n",
            "2/2 [==============================] - 0s 10ms/step - loss: 9.7913 - mae: 9.7913\n",
            "Epoch 237/500\n",
            "2/2 [==============================] - 0s 10ms/step - loss: 8.4337 - mae: 8.4337\n",
            "Epoch 238/500\n",
            "2/2 [==============================] - 0s 10ms/step - loss: 7.6961 - mae: 7.6961\n",
            "Epoch 239/500\n",
            "2/2 [==============================] - 0s 8ms/step - loss: 14.9667 - mae: 14.9667\n",
            "Epoch 240/500\n",
            "2/2 [==============================] - 0s 10ms/step - loss: 9.6174 - mae: 9.6174\n",
            "Epoch 241/500\n",
            "2/2 [==============================] - 0s 9ms/step - loss: 14.7768 - mae: 14.7768\n",
            "Epoch 242/500\n",
            "2/2 [==============================] - 0s 9ms/step - loss: 8.6146 - mae: 8.6146\n",
            "Epoch 243/500\n",
            "2/2 [==============================] - 0s 13ms/step - loss: 17.8276 - mae: 17.8276\n",
            "Epoch 244/500\n",
            "2/2 [==============================] - 0s 12ms/step - loss: 14.3756 - mae: 14.3756\n",
            "Epoch 245/500\n",
            "2/2 [==============================] - 0s 8ms/step - loss: 14.9634 - mae: 14.9634\n",
            "Epoch 246/500\n",
            "2/2 [==============================] - 0s 11ms/step - loss: 16.0763 - mae: 16.0763\n",
            "Epoch 247/500\n",
            "2/2 [==============================] - 0s 12ms/step - loss: 18.0387 - mae: 18.0387\n",
            "Epoch 248/500\n",
            "2/2 [==============================] - 0s 12ms/step - loss: 13.5761 - mae: 13.5761\n",
            "Epoch 249/500\n",
            "2/2 [==============================] - 0s 8ms/step - loss: 14.7266 - mae: 14.7266\n",
            "Epoch 250/500\n",
            "2/2 [==============================] - 0s 10ms/step - loss: 23.6322 - mae: 23.6322\n",
            "Epoch 251/500\n",
            "2/2 [==============================] - 0s 7ms/step - loss: 13.8307 - mae: 13.8307\n",
            "Epoch 252/500\n",
            "2/2 [==============================] - 0s 8ms/step - loss: 22.9743 - mae: 22.9743\n",
            "Epoch 253/500\n",
            "2/2 [==============================] - 0s 7ms/step - loss: 10.4451 - mae: 10.4451\n",
            "Epoch 254/500\n",
            "2/2 [==============================] - 0s 7ms/step - loss: 12.3757 - mae: 12.3757\n",
            "Epoch 255/500\n",
            "2/2 [==============================] - 0s 7ms/step - loss: 16.7874 - mae: 16.7874\n",
            "Epoch 256/500\n",
            "2/2 [==============================] - 0s 12ms/step - loss: 9.4341 - mae: 9.4341\n",
            "Epoch 257/500\n",
            "2/2 [==============================] - 0s 8ms/step - loss: 13.2874 - mae: 13.2874\n",
            "Epoch 258/500\n",
            "2/2 [==============================] - 0s 8ms/step - loss: 7.5073 - mae: 7.5073\n",
            "Epoch 259/500\n",
            "2/2 [==============================] - 0s 7ms/step - loss: 18.4211 - mae: 18.4211\n",
            "Epoch 260/500\n",
            "2/2 [==============================] - 0s 8ms/step - loss: 25.9631 - mae: 25.9631\n",
            "Epoch 261/500\n",
            "2/2 [==============================] - 0s 8ms/step - loss: 9.5268 - mae: 9.5268\n",
            "Epoch 262/500\n",
            "2/2 [==============================] - 0s 7ms/step - loss: 8.6137 - mae: 8.6137\n",
            "Epoch 263/500\n",
            "2/2 [==============================] - 0s 12ms/step - loss: 8.1054 - mae: 8.1054\n",
            "Epoch 264/500\n",
            "2/2 [==============================] - 0s 7ms/step - loss: 17.9460 - mae: 17.9460\n",
            "Epoch 265/500\n",
            "2/2 [==============================] - 0s 7ms/step - loss: 12.2320 - mae: 12.2320\n",
            "Epoch 266/500\n",
            "2/2 [==============================] - 0s 9ms/step - loss: 13.6113 - mae: 13.6113\n",
            "Epoch 267/500\n",
            "2/2 [==============================] - 0s 12ms/step - loss: 11.2587 - mae: 11.2587\n",
            "Epoch 268/500\n",
            "2/2 [==============================] - 0s 10ms/step - loss: 19.5610 - mae: 19.5610\n",
            "Epoch 269/500\n",
            "2/2 [==============================] - 0s 9ms/step - loss: 39.4605 - mae: 39.4605\n",
            "Epoch 270/500\n",
            "2/2 [==============================] - 0s 9ms/step - loss: 12.1199 - mae: 12.1199\n",
            "Epoch 271/500\n",
            "2/2 [==============================] - 0s 9ms/step - loss: 14.1460 - mae: 14.1460\n",
            "Epoch 272/500\n",
            "2/2 [==============================] - 0s 12ms/step - loss: 27.9971 - mae: 27.9971\n",
            "Epoch 273/500\n",
            "2/2 [==============================] - 0s 13ms/step - loss: 8.0124 - mae: 8.0124\n",
            "Epoch 274/500\n",
            "2/2 [==============================] - 0s 8ms/step - loss: 6.4617 - mae: 6.4617\n",
            "Epoch 275/500\n",
            "2/2 [==============================] - 0s 8ms/step - loss: 33.7956 - mae: 33.7956\n",
            "Epoch 276/500\n",
            "2/2 [==============================] - 0s 7ms/step - loss: 7.9808 - mae: 7.9808\n",
            "Epoch 277/500\n",
            "2/2 [==============================] - 0s 8ms/step - loss: 25.1428 - mae: 25.1428\n",
            "Epoch 278/500\n",
            "2/2 [==============================] - 0s 8ms/step - loss: 11.5636 - mae: 11.5636\n",
            "Epoch 279/500\n",
            "2/2 [==============================] - 0s 8ms/step - loss: 16.2922 - mae: 16.2922\n",
            "Epoch 280/500\n",
            "2/2 [==============================] - 0s 7ms/step - loss: 21.6228 - mae: 21.6228\n",
            "Epoch 281/500\n",
            "2/2 [==============================] - 0s 7ms/step - loss: 22.8716 - mae: 22.8716\n",
            "Epoch 282/500\n",
            "2/2 [==============================] - 0s 7ms/step - loss: 8.0174 - mae: 8.0174\n",
            "Epoch 283/500\n",
            "2/2 [==============================] - 0s 9ms/step - loss: 8.3167 - mae: 8.3167\n",
            "Epoch 284/500\n",
            "2/2 [==============================] - 0s 9ms/step - loss: 25.6089 - mae: 25.6089\n",
            "Epoch 285/500\n",
            "2/2 [==============================] - 0s 8ms/step - loss: 14.2081 - mae: 14.2081\n",
            "Epoch 286/500\n",
            "2/2 [==============================] - 0s 9ms/step - loss: 5.2923 - mae: 5.2923\n",
            "Epoch 287/500\n",
            "2/2 [==============================] - 0s 9ms/step - loss: 20.8426 - mae: 20.8426\n",
            "Epoch 288/500\n",
            "2/2 [==============================] - 0s 9ms/step - loss: 27.5538 - mae: 27.5538\n",
            "Epoch 289/500\n",
            "2/2 [==============================] - 0s 10ms/step - loss: 10.4606 - mae: 10.4606\n",
            "Epoch 290/500\n",
            "2/2 [==============================] - 0s 9ms/step - loss: 16.3315 - mae: 16.3315\n",
            "Epoch 291/500\n",
            "2/2 [==============================] - 0s 8ms/step - loss: 16.5265 - mae: 16.5265\n",
            "Epoch 292/500\n",
            "2/2 [==============================] - 0s 10ms/step - loss: 7.4649 - mae: 7.4649\n",
            "Epoch 293/500\n",
            "2/2 [==============================] - 0s 9ms/step - loss: 16.5701 - mae: 16.5701\n",
            "Epoch 294/500\n",
            "2/2 [==============================] - 0s 8ms/step - loss: 25.3646 - mae: 25.3646\n",
            "Epoch 295/500\n",
            "2/2 [==============================] - 0s 7ms/step - loss: 14.5198 - mae: 14.5198\n",
            "Epoch 296/500\n",
            "2/2 [==============================] - 0s 8ms/step - loss: 4.7116 - mae: 4.7116\n",
            "Epoch 297/500\n",
            "2/2 [==============================] - 0s 7ms/step - loss: 6.2937 - mae: 6.2937\n",
            "Epoch 298/500\n",
            "2/2 [==============================] - 0s 8ms/step - loss: 26.6498 - mae: 26.6498\n",
            "Epoch 299/500\n",
            "2/2 [==============================] - 0s 10ms/step - loss: 7.2669 - mae: 7.2669\n",
            "Epoch 300/500\n",
            "2/2 [==============================] - 0s 10ms/step - loss: 26.7997 - mae: 26.7997\n",
            "Epoch 301/500\n",
            "2/2 [==============================] - 0s 10ms/step - loss: 11.7896 - mae: 11.7896\n",
            "Epoch 302/500\n",
            "2/2 [==============================] - 0s 11ms/step - loss: 7.9107 - mae: 7.9107\n",
            "Epoch 303/500\n",
            "2/2 [==============================] - 0s 12ms/step - loss: 19.8321 - mae: 19.8321\n",
            "Epoch 304/500\n",
            "2/2 [==============================] - 0s 10ms/step - loss: 13.6691 - mae: 13.6691\n",
            "Epoch 305/500\n",
            "2/2 [==============================] - 0s 11ms/step - loss: 7.0855 - mae: 7.0855\n",
            "Epoch 306/500\n",
            "2/2 [==============================] - 0s 10ms/step - loss: 19.1754 - mae: 19.1754\n",
            "Epoch 307/500\n",
            "2/2 [==============================] - 0s 8ms/step - loss: 9.0247 - mae: 9.0247\n",
            "Epoch 308/500\n",
            "2/2 [==============================] - 0s 9ms/step - loss: 20.6521 - mae: 20.6521\n",
            "Epoch 309/500\n",
            "2/2 [==============================] - 0s 8ms/step - loss: 13.4837 - mae: 13.4837\n",
            "Epoch 310/500\n",
            "2/2 [==============================] - 0s 7ms/step - loss: 6.7204 - mae: 6.7204\n",
            "Epoch 311/500\n",
            "2/2 [==============================] - 0s 10ms/step - loss: 13.6914 - mae: 13.6914\n",
            "Epoch 312/500\n",
            "2/2 [==============================] - 0s 11ms/step - loss: 30.0594 - mae: 30.0594\n",
            "Epoch 313/500\n",
            "2/2 [==============================] - 0s 11ms/step - loss: 7.5071 - mae: 7.5071\n",
            "Epoch 314/500\n",
            "2/2 [==============================] - 0s 12ms/step - loss: 9.9958 - mae: 9.9958\n",
            "Epoch 315/500\n",
            "2/2 [==============================] - 0s 11ms/step - loss: 23.9382 - mae: 23.9382\n",
            "Epoch 316/500\n",
            "2/2 [==============================] - 0s 9ms/step - loss: 16.0642 - mae: 16.0642\n",
            "Epoch 317/500\n",
            "2/2 [==============================] - 0s 7ms/step - loss: 20.5380 - mae: 20.5380\n",
            "Epoch 318/500\n",
            "2/2 [==============================] - 0s 8ms/step - loss: 8.6955 - mae: 8.6955\n",
            "Epoch 319/500\n",
            "2/2 [==============================] - 0s 11ms/step - loss: 15.1563 - mae: 15.1563\n",
            "Epoch 320/500\n",
            "2/2 [==============================] - 0s 13ms/step - loss: 8.3330 - mae: 8.3330\n",
            "Epoch 321/500\n",
            "2/2 [==============================] - 0s 10ms/step - loss: 14.5448 - mae: 14.5448\n",
            "Epoch 322/500\n",
            "2/2 [==============================] - 0s 9ms/step - loss: 12.8642 - mae: 12.8642\n",
            "Epoch 323/500\n",
            "2/2 [==============================] - 0s 8ms/step - loss: 17.4842 - mae: 17.4842\n",
            "Epoch 324/500\n",
            "2/2 [==============================] - 0s 7ms/step - loss: 15.7517 - mae: 15.7517\n",
            "Epoch 325/500\n",
            "2/2 [==============================] - 0s 9ms/step - loss: 17.3180 - mae: 17.3180\n",
            "Epoch 326/500\n",
            "2/2 [==============================] - 0s 7ms/step - loss: 13.1359 - mae: 13.1359\n",
            "Epoch 327/500\n",
            "2/2 [==============================] - 0s 8ms/step - loss: 21.0097 - mae: 21.0097\n",
            "Epoch 328/500\n",
            "2/2 [==============================] - 0s 9ms/step - loss: 15.3818 - mae: 15.3818\n",
            "Epoch 329/500\n",
            "2/2 [==============================] - 0s 9ms/step - loss: 9.6447 - mae: 9.6447\n",
            "Epoch 330/500\n",
            "2/2 [==============================] - 0s 10ms/step - loss: 13.7794 - mae: 13.7794\n",
            "Epoch 331/500\n",
            "2/2 [==============================] - 0s 8ms/step - loss: 25.1567 - mae: 25.1567\n",
            "Epoch 332/500\n",
            "2/2 [==============================] - 0s 9ms/step - loss: 18.6033 - mae: 18.6033\n",
            "Epoch 333/500\n",
            "2/2 [==============================] - 0s 13ms/step - loss: 10.7157 - mae: 10.7157\n",
            "Epoch 334/500\n",
            "2/2 [==============================] - 0s 9ms/step - loss: 7.0365 - mae: 7.0365\n",
            "Epoch 335/500\n",
            "2/2 [==============================] - 0s 11ms/step - loss: 13.0158 - mae: 13.0158\n",
            "Epoch 336/500\n",
            "2/2 [==============================] - 0s 8ms/step - loss: 32.3565 - mae: 32.3565\n",
            "Epoch 337/500\n",
            "2/2 [==============================] - 0s 9ms/step - loss: 10.6061 - mae: 10.6061\n",
            "Epoch 338/500\n",
            "2/2 [==============================] - 0s 10ms/step - loss: 20.0446 - mae: 20.0446\n",
            "Epoch 339/500\n",
            "2/2 [==============================] - 0s 7ms/step - loss: 34.0663 - mae: 34.0663\n",
            "Epoch 340/500\n",
            "2/2 [==============================] - 0s 7ms/step - loss: 8.7137 - mae: 8.7137\n",
            "Epoch 341/500\n",
            "2/2 [==============================] - 0s 7ms/step - loss: 21.7201 - mae: 21.7201\n",
            "Epoch 342/500\n",
            "2/2 [==============================] - 0s 9ms/step - loss: 13.9205 - mae: 13.9205\n",
            "Epoch 343/500\n",
            "2/2 [==============================] - 0s 9ms/step - loss: 11.7832 - mae: 11.7832\n",
            "Epoch 344/500\n",
            "2/2 [==============================] - 0s 8ms/step - loss: 10.7329 - mae: 10.7329\n",
            "Epoch 345/500\n",
            "2/2 [==============================] - 0s 9ms/step - loss: 30.9578 - mae: 30.9578\n",
            "Epoch 346/500\n",
            "2/2 [==============================] - 0s 9ms/step - loss: 10.6871 - mae: 10.6871\n",
            "Epoch 347/500\n",
            "2/2 [==============================] - 0s 9ms/step - loss: 25.6484 - mae: 25.6484\n",
            "Epoch 348/500\n",
            "2/2 [==============================] - 0s 7ms/step - loss: 13.0999 - mae: 13.0999\n",
            "Epoch 349/500\n",
            "2/2 [==============================] - 0s 9ms/step - loss: 13.1223 - mae: 13.1223\n",
            "Epoch 350/500\n",
            "2/2 [==============================] - 0s 9ms/step - loss: 15.4408 - mae: 15.4408\n",
            "Epoch 351/500\n",
            "2/2 [==============================] - 0s 9ms/step - loss: 32.9214 - mae: 32.9214\n",
            "Epoch 352/500\n",
            "2/2 [==============================] - 0s 9ms/step - loss: 14.1683 - mae: 14.1683\n",
            "Epoch 353/500\n",
            "2/2 [==============================] - 0s 9ms/step - loss: 15.8918 - mae: 15.8918\n",
            "Epoch 354/500\n",
            "2/2 [==============================] - 0s 8ms/step - loss: 19.0231 - mae: 19.0231\n",
            "Epoch 355/500\n",
            "2/2 [==============================] - 0s 8ms/step - loss: 34.3120 - mae: 34.3120\n",
            "Epoch 356/500\n",
            "2/2 [==============================] - 0s 8ms/step - loss: 8.3353 - mae: 8.3353\n",
            "Epoch 357/500\n",
            "2/2 [==============================] - 0s 9ms/step - loss: 21.8116 - mae: 21.8116\n",
            "Epoch 358/500\n",
            "2/2 [==============================] - 0s 11ms/step - loss: 19.9604 - mae: 19.9604\n",
            "Epoch 359/500\n",
            "2/2 [==============================] - 0s 9ms/step - loss: 11.0993 - mae: 11.0993\n",
            "Epoch 360/500\n",
            "2/2 [==============================] - 0s 10ms/step - loss: 20.3236 - mae: 20.3236\n",
            "Epoch 361/500\n",
            "2/2 [==============================] - 0s 7ms/step - loss: 10.9672 - mae: 10.9672\n",
            "Epoch 362/500\n",
            "2/2 [==============================] - 0s 8ms/step - loss: 6.8663 - mae: 6.8663\n",
            "Epoch 363/500\n",
            "2/2 [==============================] - 0s 7ms/step - loss: 23.8699 - mae: 23.8699\n",
            "Epoch 364/500\n",
            "2/2 [==============================] - 0s 16ms/step - loss: 29.5971 - mae: 29.5971\n",
            "Epoch 365/500\n",
            "2/2 [==============================] - 0s 10ms/step - loss: 8.3490 - mae: 8.3490\n",
            "Epoch 366/500\n",
            "2/2 [==============================] - 0s 12ms/step - loss: 6.1476 - mae: 6.1476\n",
            "Epoch 367/500\n",
            "2/2 [==============================] - 0s 8ms/step - loss: 34.6354 - mae: 34.6354\n",
            "Epoch 368/500\n",
            "2/2 [==============================] - 0s 7ms/step - loss: 7.4089 - mae: 7.4089\n",
            "Epoch 369/500\n",
            "2/2 [==============================] - 0s 7ms/step - loss: 8.7499 - mae: 8.7499\n",
            "Epoch 370/500\n",
            "2/2 [==============================] - 0s 9ms/step - loss: 14.2869 - mae: 14.2869\n",
            "Epoch 371/500\n",
            "2/2 [==============================] - 0s 8ms/step - loss: 6.8978 - mae: 6.8978\n",
            "Epoch 372/500\n",
            "2/2 [==============================] - 0s 10ms/step - loss: 6.5969 - mae: 6.5969\n",
            "Epoch 373/500\n",
            "2/2 [==============================] - 0s 13ms/step - loss: 24.1887 - mae: 24.1887\n",
            "Epoch 374/500\n",
            "2/2 [==============================] - 0s 13ms/step - loss: 10.2326 - mae: 10.2326\n",
            "Epoch 375/500\n",
            "2/2 [==============================] - 0s 12ms/step - loss: 12.8528 - mae: 12.8528\n",
            "Epoch 376/500\n",
            "2/2 [==============================] - 0s 10ms/step - loss: 14.7223 - mae: 14.7223\n",
            "Epoch 377/500\n",
            "2/2 [==============================] - 0s 10ms/step - loss: 14.6684 - mae: 14.6684\n",
            "Epoch 378/500\n",
            "2/2 [==============================] - 0s 10ms/step - loss: 16.1915 - mae: 16.1915\n",
            "Epoch 379/500\n",
            "2/2 [==============================] - 0s 10ms/step - loss: 20.6212 - mae: 20.6212\n",
            "Epoch 380/500\n",
            "2/2 [==============================] - 0s 9ms/step - loss: 34.1566 - mae: 34.1566\n",
            "Epoch 381/500\n",
            "2/2 [==============================] - 0s 11ms/step - loss: 8.8746 - mae: 8.8746\n",
            "Epoch 382/500\n",
            "2/2 [==============================] - 0s 7ms/step - loss: 9.6029 - mae: 9.6029\n",
            "Epoch 383/500\n",
            "2/2 [==============================] - 0s 7ms/step - loss: 5.7809 - mae: 5.7809\n",
            "Epoch 384/500\n",
            "2/2 [==============================] - 0s 10ms/step - loss: 8.7449 - mae: 8.7449\n",
            "Epoch 385/500\n",
            "2/2 [==============================] - 0s 7ms/step - loss: 4.9880 - mae: 4.9880\n",
            "Epoch 386/500\n",
            "2/2 [==============================] - 0s 7ms/step - loss: 25.1488 - mae: 25.1488\n",
            "Epoch 387/500\n",
            "2/2 [==============================] - 0s 8ms/step - loss: 15.0644 - mae: 15.0644\n",
            "Epoch 388/500\n",
            "2/2 [==============================] - 0s 7ms/step - loss: 6.6819 - mae: 6.6819\n",
            "Epoch 389/500\n",
            "2/2 [==============================] - 0s 8ms/step - loss: 17.5940 - mae: 17.5940\n",
            "Epoch 390/500\n",
            "2/2 [==============================] - 0s 10ms/step - loss: 23.8933 - mae: 23.8933\n",
            "Epoch 391/500\n",
            "2/2 [==============================] - 0s 9ms/step - loss: 16.4383 - mae: 16.4383\n",
            "Epoch 392/500\n",
            "2/2 [==============================] - 0s 10ms/step - loss: 8.4004 - mae: 8.4004\n",
            "Epoch 393/500\n",
            "2/2 [==============================] - 0s 7ms/step - loss: 18.1770 - mae: 18.1770\n",
            "Epoch 394/500\n",
            "2/2 [==============================] - 0s 12ms/step - loss: 14.2220 - mae: 14.2220\n",
            "Epoch 395/500\n",
            "2/2 [==============================] - 0s 8ms/step - loss: 28.7008 - mae: 28.7008\n",
            "Epoch 396/500\n",
            "2/2 [==============================] - 0s 9ms/step - loss: 8.2191 - mae: 8.2191\n",
            "Epoch 397/500\n",
            "2/2 [==============================] - 0s 9ms/step - loss: 10.1723 - mae: 10.1723\n",
            "Epoch 398/500\n",
            "2/2 [==============================] - 0s 10ms/step - loss: 10.0812 - mae: 10.0812\n",
            "Epoch 399/500\n",
            "2/2 [==============================] - 0s 11ms/step - loss: 6.0927 - mae: 6.0927\n",
            "Epoch 400/500\n",
            "2/2 [==============================] - 0s 12ms/step - loss: 21.7480 - mae: 21.7480\n",
            "Epoch 401/500\n",
            "2/2 [==============================] - 0s 9ms/step - loss: 13.2719 - mae: 13.2719\n",
            "Epoch 402/500\n",
            "2/2 [==============================] - 0s 12ms/step - loss: 22.2909 - mae: 22.2909\n",
            "Epoch 403/500\n",
            "2/2 [==============================] - 0s 9ms/step - loss: 20.7917 - mae: 20.7917\n",
            "Epoch 404/500\n",
            "2/2 [==============================] - 0s 12ms/step - loss: 13.8738 - mae: 13.8738\n",
            "Epoch 405/500\n",
            "2/2 [==============================] - 0s 8ms/step - loss: 6.5158 - mae: 6.5158\n",
            "Epoch 406/500\n",
            "2/2 [==============================] - 0s 8ms/step - loss: 23.8956 - mae: 23.8956\n",
            "Epoch 407/500\n",
            "2/2 [==============================] - 0s 8ms/step - loss: 15.4288 - mae: 15.4288\n",
            "Epoch 408/500\n",
            "2/2 [==============================] - 0s 16ms/step - loss: 5.7029 - mae: 5.7029\n",
            "Epoch 409/500\n",
            "2/2 [==============================] - 0s 10ms/step - loss: 30.8074 - mae: 30.8074\n",
            "Epoch 410/500\n",
            "2/2 [==============================] - 0s 9ms/step - loss: 9.3735 - mae: 9.3735\n",
            "Epoch 411/500\n",
            "2/2 [==============================] - 0s 10ms/step - loss: 14.9579 - mae: 14.9579\n",
            "Epoch 412/500\n",
            "2/2 [==============================] - 0s 15ms/step - loss: 21.8810 - mae: 21.8810\n",
            "Epoch 413/500\n",
            "2/2 [==============================] - 0s 15ms/step - loss: 12.3812 - mae: 12.3812\n",
            "Epoch 414/500\n",
            "2/2 [==============================] - 0s 11ms/step - loss: 6.6621 - mae: 6.6621\n",
            "Epoch 415/500\n",
            "2/2 [==============================] - 0s 9ms/step - loss: 12.7239 - mae: 12.7239\n",
            "Epoch 416/500\n",
            "2/2 [==============================] - 0s 9ms/step - loss: 26.9726 - mae: 26.9726\n",
            "Epoch 417/500\n",
            "2/2 [==============================] - 0s 9ms/step - loss: 11.9617 - mae: 11.9617\n",
            "Epoch 418/500\n",
            "2/2 [==============================] - 0s 11ms/step - loss: 13.1034 - mae: 13.1034\n",
            "Epoch 419/500\n",
            "2/2 [==============================] - 0s 9ms/step - loss: 16.0666 - mae: 16.0666\n",
            "Epoch 420/500\n",
            "2/2 [==============================] - 0s 9ms/step - loss: 25.1216 - mae: 25.1216\n",
            "Epoch 421/500\n",
            "2/2 [==============================] - 0s 10ms/step - loss: 16.4860 - mae: 16.4860\n",
            "Epoch 422/500\n",
            "2/2 [==============================] - 0s 10ms/step - loss: 8.7332 - mae: 8.7332\n",
            "Epoch 423/500\n",
            "2/2 [==============================] - 0s 7ms/step - loss: 24.8565 - mae: 24.8565\n",
            "Epoch 424/500\n",
            "2/2 [==============================] - 0s 9ms/step - loss: 16.2548 - mae: 16.2548\n",
            "Epoch 425/500\n",
            "2/2 [==============================] - 0s 9ms/step - loss: 7.5518 - mae: 7.5518\n",
            "Epoch 426/500\n",
            "2/2 [==============================] - 0s 13ms/step - loss: 21.6946 - mae: 21.6946\n",
            "Epoch 427/500\n",
            "2/2 [==============================] - 0s 8ms/step - loss: 6.7330 - mae: 6.7330\n",
            "Epoch 428/500\n",
            "2/2 [==============================] - 0s 8ms/step - loss: 13.8998 - mae: 13.8998\n",
            "Epoch 429/500\n",
            "2/2 [==============================] - 0s 10ms/step - loss: 11.8414 - mae: 11.8414\n",
            "Epoch 430/500\n",
            "2/2 [==============================] - 0s 11ms/step - loss: 10.5858 - mae: 10.5858\n",
            "Epoch 431/500\n",
            "2/2 [==============================] - 0s 13ms/step - loss: 12.1317 - mae: 12.1317\n",
            "Epoch 432/500\n",
            "2/2 [==============================] - 0s 13ms/step - loss: 7.6848 - mae: 7.6848\n",
            "Epoch 433/500\n",
            "2/2 [==============================] - 0s 7ms/step - loss: 14.8784 - mae: 14.8784\n",
            "Epoch 434/500\n",
            "2/2 [==============================] - 0s 7ms/step - loss: 18.0201 - mae: 18.0201\n",
            "Epoch 435/500\n",
            "2/2 [==============================] - 0s 9ms/step - loss: 9.7436 - mae: 9.7436\n",
            "Epoch 436/500\n",
            "2/2 [==============================] - 0s 11ms/step - loss: 27.7018 - mae: 27.7018\n",
            "Epoch 437/500\n",
            "2/2 [==============================] - 0s 10ms/step - loss: 5.4675 - mae: 5.4675\n",
            "Epoch 438/500\n",
            "2/2 [==============================] - 0s 9ms/step - loss: 5.5884 - mae: 5.5884\n",
            "Epoch 439/500\n",
            "2/2 [==============================] - 0s 12ms/step - loss: 43.0560 - mae: 43.0560\n",
            "Epoch 440/500\n",
            "2/2 [==============================] - 0s 8ms/step - loss: 23.9883 - mae: 23.9883\n",
            "Epoch 441/500\n",
            "2/2 [==============================] - 0s 11ms/step - loss: 5.7077 - mae: 5.7077\n",
            "Epoch 442/500\n",
            "2/2 [==============================] - 0s 8ms/step - loss: 21.4181 - mae: 21.4181\n",
            "Epoch 443/500\n",
            "2/2 [==============================] - 0s 9ms/step - loss: 6.6174 - mae: 6.6174\n",
            "Epoch 444/500\n",
            "2/2 [==============================] - 0s 14ms/step - loss: 18.9068 - mae: 18.9068\n",
            "Epoch 445/500\n",
            "2/2 [==============================] - 0s 8ms/step - loss: 14.2488 - mae: 14.2488\n",
            "Epoch 446/500\n",
            "2/2 [==============================] - 0s 9ms/step - loss: 17.0279 - mae: 17.0279\n",
            "Epoch 447/500\n",
            "2/2 [==============================] - 0s 10ms/step - loss: 6.5300 - mae: 6.5300\n",
            "Epoch 448/500\n",
            "2/2 [==============================] - 0s 8ms/step - loss: 7.5234 - mae: 7.5234\n",
            "Epoch 449/500\n",
            "2/2 [==============================] - 0s 10ms/step - loss: 15.0860 - mae: 15.0860\n",
            "Epoch 450/500\n",
            "2/2 [==============================] - 0s 9ms/step - loss: 17.8253 - mae: 17.8253\n",
            "Epoch 451/500\n",
            "2/2 [==============================] - 0s 9ms/step - loss: 14.7408 - mae: 14.7408\n",
            "Epoch 452/500\n",
            "2/2 [==============================] - 0s 8ms/step - loss: 31.5392 - mae: 31.5392\n",
            "Epoch 453/500\n",
            "2/2 [==============================] - 0s 10ms/step - loss: 11.0983 - mae: 11.0983\n",
            "Epoch 454/500\n",
            "2/2 [==============================] - 0s 8ms/step - loss: 26.7975 - mae: 26.7975\n",
            "Epoch 455/500\n",
            "2/2 [==============================] - 0s 11ms/step - loss: 12.4986 - mae: 12.4986\n",
            "Epoch 456/500\n",
            "2/2 [==============================] - 0s 10ms/step - loss: 15.2957 - mae: 15.2957\n",
            "Epoch 457/500\n",
            "2/2 [==============================] - 0s 10ms/step - loss: 18.9562 - mae: 18.9562\n",
            "Epoch 458/500\n",
            "2/2 [==============================] - 0s 9ms/step - loss: 23.6997 - mae: 23.6997\n",
            "Epoch 459/500\n",
            "2/2 [==============================] - 0s 12ms/step - loss: 17.1274 - mae: 17.1274\n",
            "Epoch 460/500\n",
            "2/2 [==============================] - 0s 13ms/step - loss: 5.4268 - mae: 5.4268\n",
            "Epoch 461/500\n",
            "2/2 [==============================] - 0s 12ms/step - loss: 17.6165 - mae: 17.6165\n",
            "Epoch 462/500\n",
            "2/2 [==============================] - 0s 8ms/step - loss: 14.2796 - mae: 14.2796\n",
            "Epoch 463/500\n",
            "2/2 [==============================] - 0s 9ms/step - loss: 21.4236 - mae: 21.4236\n",
            "Epoch 464/500\n",
            "2/2 [==============================] - 0s 9ms/step - loss: 22.8552 - mae: 22.8552\n",
            "Epoch 465/500\n",
            "2/2 [==============================] - 0s 8ms/step - loss: 12.3698 - mae: 12.3698\n",
            "Epoch 466/500\n",
            "2/2 [==============================] - 0s 12ms/step - loss: 9.4174 - mae: 9.4174\n",
            "Epoch 467/500\n",
            "2/2 [==============================] - 0s 8ms/step - loss: 21.5880 - mae: 21.5880\n",
            "Epoch 468/500\n",
            "2/2 [==============================] - 0s 10ms/step - loss: 23.7405 - mae: 23.7405\n",
            "Epoch 469/500\n",
            "2/2 [==============================] - 0s 11ms/step - loss: 21.1539 - mae: 21.1539\n",
            "Epoch 470/500\n",
            "2/2 [==============================] - 0s 10ms/step - loss: 9.1690 - mae: 9.1690\n",
            "Epoch 471/500\n",
            "2/2 [==============================] - 0s 10ms/step - loss: 19.7121 - mae: 19.7121\n",
            "Epoch 472/500\n",
            "2/2 [==============================] - 0s 9ms/step - loss: 14.0747 - mae: 14.0747\n",
            "Epoch 473/500\n",
            "2/2 [==============================] - 0s 9ms/step - loss: 16.4429 - mae: 16.4429\n",
            "Epoch 474/500\n",
            "2/2 [==============================] - 0s 10ms/step - loss: 47.4045 - mae: 47.4045\n",
            "Epoch 475/500\n",
            "2/2 [==============================] - 0s 8ms/step - loss: 21.6075 - mae: 21.6075\n",
            "Epoch 476/500\n",
            "2/2 [==============================] - 0s 12ms/step - loss: 12.7110 - mae: 12.7110\n",
            "Epoch 477/500\n",
            "2/2 [==============================] - 0s 10ms/step - loss: 28.7846 - mae: 28.7846\n",
            "Epoch 478/500\n",
            "2/2 [==============================] - 0s 13ms/step - loss: 6.5149 - mae: 6.5149\n",
            "Epoch 479/500\n",
            "2/2 [==============================] - 0s 10ms/step - loss: 5.6520 - mae: 5.6520\n",
            "Epoch 480/500\n",
            "2/2 [==============================] - 0s 10ms/step - loss: 17.1083 - mae: 17.1083\n",
            "Epoch 481/500\n",
            "2/2 [==============================] - 0s 8ms/step - loss: 11.2938 - mae: 11.2938\n",
            "Epoch 482/500\n",
            "2/2 [==============================] - 0s 10ms/step - loss: 19.1245 - mae: 19.1245\n",
            "Epoch 483/500\n",
            "2/2 [==============================] - 0s 8ms/step - loss: 30.2810 - mae: 30.2810\n",
            "Epoch 484/500\n",
            "2/2 [==============================] - 0s 9ms/step - loss: 28.5706 - mae: 28.5706\n",
            "Epoch 485/500\n",
            "2/2 [==============================] - 0s 9ms/step - loss: 9.9203 - mae: 9.9203\n",
            "Epoch 486/500\n",
            "2/2 [==============================] - 0s 11ms/step - loss: 7.0268 - mae: 7.0268\n",
            "Epoch 487/500\n",
            "2/2 [==============================] - 0s 10ms/step - loss: 6.3489 - mae: 6.3489\n",
            "Epoch 488/500\n",
            "2/2 [==============================] - 0s 10ms/step - loss: 29.6194 - mae: 29.6194\n",
            "Epoch 489/500\n",
            "2/2 [==============================] - 0s 10ms/step - loss: 12.7255 - mae: 12.7255\n",
            "Epoch 490/500\n",
            "2/2 [==============================] - 0s 10ms/step - loss: 13.1454 - mae: 13.1454\n",
            "Epoch 491/500\n",
            "2/2 [==============================] - 0s 10ms/step - loss: 24.4304 - mae: 24.4304\n",
            "Epoch 492/500\n",
            "2/2 [==============================] - 0s 7ms/step - loss: 18.4572 - mae: 18.4572\n",
            "Epoch 493/500\n",
            "2/2 [==============================] - 0s 9ms/step - loss: 4.8097 - mae: 4.8097\n",
            "Epoch 494/500\n",
            "2/2 [==============================] - 0s 9ms/step - loss: 11.8361 - mae: 11.8361\n",
            "Epoch 495/500\n",
            "2/2 [==============================] - 0s 8ms/step - loss: 13.8082 - mae: 13.8082\n",
            "Epoch 496/500\n",
            "2/2 [==============================] - 0s 10ms/step - loss: 12.0912 - mae: 12.0912\n",
            "Epoch 497/500\n",
            "2/2 [==============================] - 0s 7ms/step - loss: 17.1262 - mae: 17.1262\n",
            "Epoch 498/500\n",
            "2/2 [==============================] - 0s 9ms/step - loss: 9.1467 - mae: 9.1467\n",
            "Epoch 499/500\n",
            "2/2 [==============================] - 0s 9ms/step - loss: 20.7086 - mae: 20.7086\n",
            "Epoch 500/500\n",
            "2/2 [==============================] - 0s 10ms/step - loss: 14.3807 - mae: 14.3807\n"
          ]
        },
        {
          "output_type": "execute_result",
          "data": {
            "text/plain": [
              "<keras.callbacks.History at 0x7acf2e11f670>"
            ]
          },
          "metadata": {},
          "execution_count": 94
        }
      ]
    },
    {
      "cell_type": "code",
      "source": [
        "# Make and Plot predictions for model_3\n",
        "y_pred_3 = model_3.predict(X_test)\n",
        "plot_predictions(X_train, y_train, X_test, y_test, y_pred_3)"
      ],
      "metadata": {
        "colab": {
          "base_uri": "https://localhost:8080/",
          "height": 545
        },
        "outputId": "72fddb7a-e498-408a-f32c-f63166e66ea9",
        "id": "EW5oAynSZFC9"
      },
      "execution_count": 95,
      "outputs": [
        {
          "output_type": "stream",
          "name": "stdout",
          "text": [
            "1/1 [==============================] - 0s 62ms/step\n"
          ]
        },
        {
          "output_type": "display_data",
          "data": {
            "text/plain": [
              "<Figure size 1000x700 with 1 Axes>"
            ],
            "image/png": "[encoded data removed]"
          },
          "metadata": {}
        }
      ]
    },
    {
      "cell_type": "code",
      "source": [
        "# Calculate model_3 evaluation metrics\n",
        "mae_3=mae(y_test, y_pred_3)\n",
        "mse_3=mse(y_test, y_pred_3)\n",
        "mae_3, mse_3"
      ],
      "metadata": {
        "colab": {
          "base_uri": "https://localhost:8080/"
        },
        "outputId": "740b4e7d-e6a2-45e7-8889-a81c75896f46",
        "id": "qCBa6GY2ZIFA"
      },
      "execution_count": 96,
      "outputs": [
        {
          "output_type": "execute_result",
          "data": {
            "text/plain": [
              "(<tf.Tensor: shape=(), dtype=float32, numpy=67.927086>,\n",
              " <tf.Tensor: shape=(), dtype=float32, numpy=4698.7266>)"
            ]
          },
          "metadata": {},
          "execution_count": 96
        }
      ]
    },
    {
      "cell_type": "markdown",
      "source": [
        "### Comparing the results of our experiments\n",
        " We've run a few experiments, let's compare the results."
      ],
      "metadata": {
        "id": "Gx3LP6QVZevs"
      }
    },
    {
      "cell_type": "code",
      "source": [
        "import pandas as pd\n",
        "\n",
        "model_results"
      ],
      "metadata": {
        "id": "tLx09D6AbqdS"
      },
      "execution_count": null,
      "outputs": []
    }
  ]
}