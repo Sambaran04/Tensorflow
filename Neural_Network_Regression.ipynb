{
  "nbformat": 4,
  "nbformat_minor": 0,
  "metadata": {
    "colab": {
      "provenance": [],
      "authorship_tag": "ABX9TyM3cipAVm+r7xNzWtBYcUhG",
      "include_colab_link": true
    },
    "kernelspec": {
      "name": "python3",
      "display_name": "Python 3"
    },
    "language_info": {
      "name": "python"
    },
    "accelerator": "TPU"
  },
  "cells": [
    {
      "cell_type": "markdown",
      "metadata": {
        "id": "view-in-github",
        "colab_type": "text"
      },
      "source": [
        "<a href=\"https://colab.research.google.com/github/Sambaran04/Tensorflow/blob/main/Neural_Network_Regression.ipynb\" target=\"_parent\"><img src=\"https://colab.research.google.com/assets/colab-badge.svg\" alt=\"Open In Colab\"/></a>"
      ]
    },
    {
      "cell_type": "markdown",
      "source": [
        "# **Introduction to Regression with Neural Network in TensorFlow**\n",
        "\n",
        "There are many definitions for a regression problem but in our case, we're going to simplify it: Predicting a numerical variable based on some other combination of variables, even shorter... predicting a number."
      ],
      "metadata": {
        "id": "S7iiMn1sP70a"
      }
    },
    {
      "cell_type": "code",
      "source": [
        "# Import TenforFlow\n",
        "import tensorflow as tf\n",
        "print(tf.__version__)"
      ],
      "metadata": {
        "id": "doPkz2Z528FX",
        "colab": {
          "base_uri": "https://localhost:8080/"
        },
        "outputId": "57f247bc-1a7f-4bfc-b538-1fd80f9c7c14"
      },
      "execution_count": 1,
      "outputs": [
        {
          "output_type": "stream",
          "name": "stdout",
          "text": [
            "2.12.0\n"
          ]
        }
      ]
    },
    {
      "cell_type": "code",
      "source": [
        "import numpy as np\n",
        "import matplotlib.pyplot as plt"
      ],
      "metadata": {
        "id": "TQfRVstgJudp"
      },
      "execution_count": 2,
      "outputs": []
    },
    {
      "cell_type": "code",
      "source": [
        "# Create features\n",
        "X = np.array([-7.0, -4.0, -1.0, 2.0, 5.0, 8.0, 11.0, 14.0])\n",
        "\n",
        "# Create labels\n",
        "y = np.array([3.0, 6.0, 9.0, 12.0, 15.0, 18.0, 21.0, 24.0])\n",
        "# Visualize it\n",
        "plt.scatter(X, y)"
      ],
      "metadata": {
        "id": "POER2scBJ1ul",
        "colab": {
          "base_uri": "https://localhost:8080/",
          "height": 453
        },
        "outputId": "84965892-c772-4db7-f786-68086b82a1d8"
      },
      "execution_count": 3,
      "outputs": [
        {
          "output_type": "execute_result",
          "data": {
            "text/plain": [
              "<matplotlib.collections.PathCollection at 0x7fddbedfcb20>"
            ]
          },
          "metadata": {},
          "execution_count": 3
        },
        {
          "output_type": "display_data",
          "data": {
            "text/plain": [
              "<Figure size 640x480 with 1 Axes>"
            ],
            "image/png": "[encoded data removed]"
          },
          "metadata": {}
        }
      ]
    },
    {
      "cell_type": "code",
      "source": [
        "y == X+10"
      ],
      "metadata": {
        "id": "wYVflYW7KS2M",
        "colab": {
          "base_uri": "https://localhost:8080/"
        },
        "outputId": "e66e7a7e-f796-47bd-d0d6-2fdc0d508cdc"
      },
      "execution_count": 4,
      "outputs": [
        {
          "output_type": "execute_result",
          "data": {
            "text/plain": [
              "array([ True,  True,  True,  True,  True,  True,  True,  True])"
            ]
          },
          "metadata": {},
          "execution_count": 4
        }
      ]
    },
    {
      "cell_type": "markdown",
      "source": [
        "## Input and output shapes"
      ],
      "metadata": {
        "id": "qVLLa2yTKr01"
      }
    },
    {
      "cell_type": "code",
      "source": [
        "# Create a debo tensor for our housing price prediciton problem\n",
        "house_info = tf.constant([\"bedroom\", \"bathroom\", \"garage\"])\n",
        "house_price = tf.constant([939700])\n",
        "house_info, house_price"
      ],
      "metadata": {
        "id": "Iw9TaSWJKu4s",
        "colab": {
          "base_uri": "https://localhost:8080/"
        },
        "outputId": "65706623-390f-49a2-ecf1-70d852a31a97"
      },
      "execution_count": 5,
      "outputs": [
        {
          "output_type": "execute_result",
          "data": {
            "text/plain": [
              "(<tf.Tensor: shape=(3,), dtype=string, numpy=array([b'bedroom', b'bathroom', b'garage'], dtype=object)>,\n",
              " <tf.Tensor: shape=(1,), dtype=int32, numpy=array([939700], dtype=int32)>)"
            ]
          },
          "metadata": {},
          "execution_count": 5
        }
      ]
    },
    {
      "cell_type": "code",
      "source": [
        "X[0].shape, y[0].shape"
      ],
      "metadata": {
        "id": "laZAZxi4LoIR",
        "colab": {
          "base_uri": "https://localhost:8080/"
        },
        "outputId": "2a4a3040-7289-4773-a818-d317ebb682c2"
      },
      "execution_count": 6,
      "outputs": [
        {
          "output_type": "execute_result",
          "data": {
            "text/plain": [
              "((), ())"
            ]
          },
          "metadata": {},
          "execution_count": 6
        }
      ]
    },
    {
      "cell_type": "code",
      "source": [
        "X = tf.constant(X)\n",
        "y = tf.constant(y)"
      ],
      "metadata": {
        "id": "k1DewfXBQZ3-"
      },
      "execution_count": 7,
      "outputs": []
    },
    {
      "cell_type": "code",
      "source": [
        "X[0], y[0]"
      ],
      "metadata": {
        "id": "oqVtcte0Qk2v",
        "colab": {
          "base_uri": "https://localhost:8080/"
        },
        "outputId": "80778f77-01bd-4fb1-9e15-8e1c7299e14b"
      },
      "execution_count": 8,
      "outputs": [
        {
          "output_type": "execute_result",
          "data": {
            "text/plain": [
              "(<tf.Tensor: shape=(), dtype=float64, numpy=-7.0>,\n",
              " <tf.Tensor: shape=(), dtype=float64, numpy=3.0>)"
            ]
          },
          "metadata": {},
          "execution_count": 8
        }
      ]
    },
    {
      "cell_type": "markdown",
      "source": [
        "## Steps in modelling with TensorFlow\n",
        "\n",
        "1. **Creating a model**- define the inpur and output layers, as well as the hidden layers of a deep learning model.\n",
        "2. **Compiling a model**- define the loss function (in other words, the function which tells our model how wrong it is) and the optimizer (tells our model how to imporve the patterns its learning) and evaluation metrics (what we can use to interpret the performance of our model).\n",
        "3. **Fitting a model**- letting the model try to find patterns between X & y (features and labels)."
      ],
      "metadata": {
        "id": "7cV8kSbHQmtr"
      }
    },
    {
      "cell_type": "code",
      "source": [
        "# Set random seed\n",
        "tf.random.set_seed(42)\n",
        "\n",
        "# 1. Create a model using the Sequential API\n",
        "model = tf.keras.Sequential([tf.keras.layers.Flatten(), tf.keras.layers.Dense(1)])\n",
        "\n",
        "# 2. Compile the model\n",
        "model.compile(loss=tf.keras.losses.mae,\n",
        "              optimizer = tf.keras.optimizers.SGD(),\n",
        "              metrics = [\"mae\"])\n",
        "\n",
        "# 3. Fit the model\n",
        "model.fit(X, y, epochs=5)"
      ],
      "metadata": {
        "id": "9evxwGTnVvg-",
        "colab": {
          "base_uri": "https://localhost:8080/"
        },
        "outputId": "2050c291-bce6-462e-b45a-0f12a0a5e007"
      },
      "execution_count": 9,
      "outputs": [
        {
          "output_type": "stream",
          "name": "stdout",
          "text": [
            "Epoch 1/5\n",
            "1/1 [==============================] - 2s 2s/step - loss: 16.0700 - mae: 16.0700\n",
            "Epoch 2/5\n",
            "1/1 [==============================] - 0s 43ms/step - loss: 15.7888 - mae: 15.7888\n",
            "Epoch 3/5\n",
            "1/1 [==============================] - 0s 30ms/step - loss: 15.5075 - mae: 15.5075\n",
            "Epoch 4/5\n",
            "1/1 [==============================] - 0s 41ms/step - loss: 15.2263 - mae: 15.2263\n",
            "Epoch 5/5\n",
            "1/1 [==============================] - 0s 26ms/step - loss: 14.9484 - mae: 14.9484\n"
          ]
        },
        {
          "output_type": "execute_result",
          "data": {
            "text/plain": [
              "<keras.callbacks.History at 0x7fddb9c59cf0>"
            ]
          },
          "metadata": {},
          "execution_count": 9
        }
      ]
    },
    {
      "cell_type": "code",
      "source": [
        "# Try and make a prediction using our model\n",
        "model.predict([17.0])"
      ],
      "metadata": {
        "id": "kyKcYGrzYOJv",
        "colab": {
          "base_uri": "https://localhost:8080/"
        },
        "outputId": "0d20779f-cdaa-4780-9687-50bf0cd7e985"
      },
      "execution_count": 10,
      "outputs": [
        {
          "output_type": "stream",
          "name": "stdout",
          "text": [
            "1/1 [==============================] - 0s 314ms/step\n"
          ]
        },
        {
          "output_type": "execute_result",
          "data": {
            "text/plain": [
              "array([[-6.5456176]], dtype=float32)"
            ]
          },
          "metadata": {},
          "execution_count": 10
        }
      ]
    },
    {
      "cell_type": "markdown",
      "source": [
        "## Improving our Model"
      ],
      "metadata": {
        "id": "SEyPWU2farOw"
      }
    },
    {
      "cell_type": "code",
      "source": [
        "# Let's rebuild our model\n",
        "\n",
        "# tf.random.set_seed(42)\n",
        "\n",
        "# 1. Create a model using the Sequential API\n",
        "model = tf.keras.Sequential([tf.keras.layers.Flatten(), tf.keras.layers.Dense(1)])\n",
        "\n",
        "# 2. Compile the model\n",
        "model.compile(loss=tf.keras.losses.mae,\n",
        "              optimizer = tf.keras.optimizers.SGD(),\n",
        "              metrics = [\"mae\"])\n",
        "\n",
        "# 3. Fit the model\n",
        "# model.fit(X, y, epochs=1000)"
      ],
      "metadata": {
        "id": "Pqttfw9xC1ff"
      },
      "execution_count": 11,
      "outputs": []
    },
    {
      "cell_type": "code",
      "source": [
        "# Remind ourselves of the data\n",
        "X, y"
      ],
      "metadata": {
        "id": "RIwwDPJ-Qn1w",
        "colab": {
          "base_uri": "https://localhost:8080/"
        },
        "outputId": "796f6fcd-102c-47d9-f8d7-d24ffacc1d41"
      },
      "execution_count": 12,
      "outputs": [
        {
          "output_type": "execute_result",
          "data": {
            "text/plain": [
              "(<tf.Tensor: shape=(8,), dtype=float64, numpy=array([-7., -4., -1.,  2.,  5.,  8., 11., 14.])>,\n",
              " <tf.Tensor: shape=(8,), dtype=float64, numpy=array([ 3.,  6.,  9., 12., 15., 18., 21., 24.])>)"
            ]
          },
          "metadata": {},
          "execution_count": 12
        }
      ]
    },
    {
      "cell_type": "code",
      "source": [
        "# Let's see if our model's prediction has improved...\n",
        "model.predict([17.0])"
      ],
      "metadata": {
        "id": "a_dWcvkR_ZIc",
        "colab": {
          "base_uri": "https://localhost:8080/"
        },
        "outputId": "6289251c-e121-475d-802d-8013aa872e48"
      },
      "execution_count": 13,
      "outputs": [
        {
          "output_type": "stream",
          "name": "stdout",
          "text": [
            "1/1 [==============================] - 0s 329ms/step\n"
          ]
        },
        {
          "output_type": "execute_result",
          "data": {
            "text/plain": [
              "array([[-15.926705]], dtype=float32)"
            ]
          },
          "metadata": {},
          "execution_count": 13
        }
      ]
    },
    {
      "cell_type": "code",
      "source": [
        "# Let's see if we can make another to improve our model\n",
        "\n",
        "# 1. Create the model (this time with an extra hidden layer with 100 hidden units)\n",
        "model = tf.keras.Sequential([\n",
        "    tf.keras.layers.Flatten(),\n",
        "    tf.keras.layers.Dense(100, activation=None),\n",
        "    tf.keras.layers.Dense(1)\n",
        "])\n",
        "\n",
        "# 2. Compile the model\n",
        "model.compile(loss=\"mae\",\n",
        "              optimizer = tf.keras.optimizers.Adam(lr=0.01),\n",
        "              metrics = [\"mae\"])\n",
        "\n",
        "# 3. Fit the model\n",
        "# model.fit(X, y, epochs=1000)"
      ],
      "metadata": {
        "id": "Yzm0gBdf_hnw",
        "colab": {
          "base_uri": "https://localhost:8080/"
        },
        "outputId": "1ec016c5-f4d7-42fd-d9cb-f4067fb70ef8"
      },
      "execution_count": 14,
      "outputs": [
        {
          "output_type": "stream",
          "name": "stderr",
          "text": [
            "WARNING:absl:`lr` is deprecated in Keras optimizer, please use `learning_rate` or use the legacy optimizer, e.g.,tf.keras.optimizers.legacy.Adam.\n"
          ]
        }
      ]
    },
    {
      "cell_type": "code",
      "source": [
        "# Let's see if our model's prediction has improved...\n",
        "model.predict([17.0])"
      ],
      "metadata": {
        "id": "mS_cIuCRCBbs",
        "colab": {
          "base_uri": "https://localhost:8080/"
        },
        "outputId": "c44ee3d8-c41e-4cad-a7af-2520f20a611b"
      },
      "execution_count": 15,
      "outputs": [
        {
          "output_type": "stream",
          "name": "stdout",
          "text": [
            "1/1 [==============================] - 0s 404ms/step\n"
          ]
        },
        {
          "output_type": "execute_result",
          "data": {
            "text/plain": [
              "array([[-7.332374]], dtype=float32)"
            ]
          },
          "metadata": {},
          "execution_count": 15
        }
      ]
    },
    {
      "cell_type": "markdown",
      "source": [
        "## Evaluating the model\n",
        "\n",
        "In practice, a typical workflow you'll go through when builidng neural network is:\n",
        "\n",
        "```\n",
        "Build a model -> fit it -> evaluate it -> tweak a model -> fit it -> evaluate it -> twea a model -> fit it -> evaluate it...\n",
        "```"
      ],
      "metadata": {
        "id": "_0AyKT1hC63t"
      }
    },
    {
      "cell_type": "markdown",
      "source": [
        "When it comes to evaluation... there are 3 words we should memorize:\n",
        "\n",
        "> \"Visualize, Visualize, Visualize\"\n",
        "\n",
        "It's a good idea to visualize:\n",
        "* The data - what data are we working with? What does it look like?\n",
        "* The model itself - what does our model look like?\n",
        "* The training of a model - how does a model perform while it learns?\n",
        "* The predictions of the model - how do the predictions of a model line up against the ground truth (the original labels)"
      ],
      "metadata": {
        "id": "COLtfR9w3fJO"
      }
    },
    {
      "cell_type": "code",
      "source": [
        "# Make a bigger dataset:\n",
        "X = tf.range(-100, 100, 4)\n",
        "X"
      ],
      "metadata": {
        "id": "jeaDkHx24-86",
        "colab": {
          "base_uri": "https://localhost:8080/"
        },
        "outputId": "d3066c42-f96a-468e-a6c0-e1bdfcb88013"
      },
      "execution_count": 16,
      "outputs": [
        {
          "output_type": "execute_result",
          "data": {
            "text/plain": [
              "<tf.Tensor: shape=(50,), dtype=int32, numpy=\n",
              "array([-100,  -96,  -92,  -88,  -84,  -80,  -76,  -72,  -68,  -64,  -60,\n",
              "        -56,  -52,  -48,  -44,  -40,  -36,  -32,  -28,  -24,  -20,  -16,\n",
              "        -12,   -8,   -4,    0,    4,    8,   12,   16,   20,   24,   28,\n",
              "         32,   36,   40,   44,   48,   52,   56,   60,   64,   68,   72,\n",
              "         76,   80,   84,   88,   92,   96], dtype=int32)>"
            ]
          },
          "metadata": {},
          "execution_count": 16
        }
      ]
    },
    {
      "cell_type": "code",
      "source": [
        "# Make labels for the dataset\n",
        "y = X+10\n",
        "y"
      ],
      "metadata": {
        "id": "1K1kXCUg5FRb",
        "colab": {
          "base_uri": "https://localhost:8080/"
        },
        "outputId": "611c2615-6a47-4d11-a572-f023df63369d"
      },
      "execution_count": 17,
      "outputs": [
        {
          "output_type": "execute_result",
          "data": {
            "text/plain": [
              "<tf.Tensor: shape=(50,), dtype=int32, numpy=\n",
              "array([-90, -86, -82, -78, -74, -70, -66, -62, -58, -54, -50, -46, -42,\n",
              "       -38, -34, -30, -26, -22, -18, -14, -10,  -6,  -2,   2,   6,  10,\n",
              "        14,  18,  22,  26,  30,  34,  38,  42,  46,  50,  54,  58,  62,\n",
              "        66,  70,  74,  78,  82,  86,  90,  94,  98, 102, 106], dtype=int32)>"
            ]
          },
          "metadata": {},
          "execution_count": 17
        }
      ]
    },
    {
      "cell_type": "code",
      "source": [
        "# Visualize the data\n",
        "import matplotlib.pyplot as plt\n",
        "plt.scatter(X, y)"
      ],
      "metadata": {
        "id": "XkgK22cD5Ql7",
        "colab": {
          "base_uri": "https://localhost:8080/",
          "height": 448
        },
        "outputId": "f8cc9554-6e41-44e9-e8b0-cfe43c1fabfa"
      },
      "execution_count": 18,
      "outputs": [
        {
          "output_type": "execute_result",
          "data": {
            "text/plain": [
              "<matplotlib.collections.PathCollection at 0x7fddba3c2980>"
            ]
          },
          "metadata": {},
          "execution_count": 18
        },
        {
          "output_type": "display_data",
          "data": {
            "text/plain": [
              "<Figure size 640x480 with 1 Axes>"
            ],
            "image/png": "[encoded data removed]"
          },
          "metadata": {}
        }
      ]
    },
    {
      "cell_type": "markdown",
      "source": [
        "### There are 3 Sets...\n",
        "\n",
        "* Training set - the model learns from this data, which is typically 70-80% of the total data you have available.\n",
        "* Validation set - The model gets tuned on this data, which is typcically 10-15% of the data available.\n",
        "* Test set - The model gets evaluated on this data to test what it has learnt, this set is typically 10-15% of the data available."
      ],
      "metadata": {
        "id": "7W1jdB-S5Zft"
      }
    },
    {
      "cell_type": "code",
      "source": [
        "# Check the length of how many samples we have\n",
        "len(X)"
      ],
      "metadata": {
        "id": "M7puUGBS69V-",
        "colab": {
          "base_uri": "https://localhost:8080/"
        },
        "outputId": "99cb8ddf-b717-4166-9bb1-c93c527c227c"
      },
      "execution_count": 19,
      "outputs": [
        {
          "output_type": "execute_result",
          "data": {
            "text/plain": [
              "50"
            ]
          },
          "metadata": {},
          "execution_count": 19
        }
      ]
    },
    {
      "cell_type": "code",
      "source": [
        "# Split the data into train and test sets\n",
        "X_train = X[:40] # first 40 are training samples (80% of the data)\n",
        "y_train = y[:40]\n",
        "\n",
        "X_test = X[40:] # last 10 are testing samples (20% of the data)\n",
        "y_test = y[40:]"
      ],
      "metadata": {
        "id": "iz7rSD7u7N-p"
      },
      "execution_count": 20,
      "outputs": []
    },
    {
      "cell_type": "markdown",
      "source": [
        "### Visualizing the data\n",
        "\n",
        "Now we've got our data in training and test sets... let's visualize it again"
      ],
      "metadata": {
        "id": "wq4y4IH18Dwh"
      }
    },
    {
      "cell_type": "code",
      "source": [
        "plt.figure(figsize=(10, 7))\n",
        "# Plot training data in blue\n",
        "plt.scatter(X_train, y_train, c=\"b\", label = \"Training dataset\")\n",
        "# Plot test data in green\n",
        "plt.scatter(X_test, y_test, c=\"r\", label = \"Test dataset\")\n",
        "plt.legend()"
      ],
      "metadata": {
        "id": "dBmBOOh_8L1v",
        "colab": {
          "base_uri": "https://localhost:8080/",
          "height": 545
        },
        "outputId": "454312cc-1be7-42f5-fe12-189981b3af47"
      },
      "execution_count": 21,
      "outputs": [
        {
          "output_type": "execute_result",
          "data": {
            "text/plain": [
              "<matplotlib.legend.Legend at 0x7fddba48a0e0>"
            ]
          },
          "metadata": {},
          "execution_count": 21
        },
        {
          "output_type": "display_data",
          "data": {
            "text/plain": [
              "<Figure size 1000x700 with 1 Axes>"
            ],
            "image/png": "[encoded data removed]"
          },
          "metadata": {}
        }
      ]
    },
    {
      "cell_type": "code",
      "source": [
        "# Let's see if we can make another to improve our model\n",
        "\n",
        "# 1. Create the model (this time with an extra hidden layer with 100 hidden units)\n",
        "model = tf.keras.Sequential([\n",
        "    tf.keras.layers.Flatten(),\n",
        "    tf.keras.layers.Dense(100, activation=None),\n",
        "    tf.keras.layers.Dense(1)\n",
        "])\n",
        "\n",
        "# 2. Compile the model\n",
        "model.compile(loss=\"mae\",\n",
        "              optimizer = tf.keras.optimizers.Adam(lr=0.01),\n",
        "              metrics = [\"mae\"])\n",
        "\n",
        "# 3. Fit the model\n",
        "# model.fit(X_train, y_train, epochs=1000)"
      ],
      "metadata": {
        "id": "wxw1Ismw8rfM",
        "colab": {
          "base_uri": "https://localhost:8080/"
        },
        "outputId": "a31d5bdf-9d31-40af-eb71-c685b0ef2dae"
      },
      "execution_count": 22,
      "outputs": [
        {
          "output_type": "stream",
          "name": "stderr",
          "text": [
            "WARNING:absl:`lr` is deprecated in Keras optimizer, please use `learning_rate` or use the legacy optimizer, e.g.,tf.keras.optimizers.legacy.Adam.\n"
          ]
        }
      ]
    },
    {
      "cell_type": "code",
      "source": [
        "y_pred = model.predict(X_test)"
      ],
      "metadata": {
        "id": "r7MA5JbGkcUL",
        "colab": {
          "base_uri": "https://localhost:8080/"
        },
        "outputId": "504eec1f-71d9-44d3-dc82-d4e1c2025b0b"
      },
      "execution_count": 23,
      "outputs": [
        {
          "output_type": "stream",
          "name": "stdout",
          "text": [
            "1/1 [==============================] - 0s 278ms/step\n"
          ]
        }
      ]
    },
    {
      "cell_type": "code",
      "source": [
        "y_test_fine = np.array(y_test)\n",
        "y_test_fine"
      ],
      "metadata": {
        "id": "VmSOhFrAkrHh",
        "colab": {
          "base_uri": "https://localhost:8080/"
        },
        "outputId": "be9bb662-420e-4d81-a776-4b5ba7d51e4a"
      },
      "execution_count": 24,
      "outputs": [
        {
          "output_type": "execute_result",
          "data": {
            "text/plain": [
              "array([ 70,  74,  78,  82,  86,  90,  94,  98, 102, 106], dtype=int32)"
            ]
          },
          "metadata": {},
          "execution_count": 24
        }
      ]
    },
    {
      "cell_type": "code",
      "source": [
        "y_pred"
      ],
      "metadata": {
        "id": "ZdUmcSpfkwKP",
        "colab": {
          "base_uri": "https://localhost:8080/"
        },
        "outputId": "a4de1d69-4f21-489e-e098-85ba0f2eb82d"
      },
      "execution_count": 25,
      "outputs": [
        {
          "output_type": "execute_result",
          "data": {
            "text/plain": [
              "array([[-11.100983],\n",
              "       [-11.841049],\n",
              "       [-12.581113],\n",
              "       [-13.32118 ],\n",
              "       [-14.061242],\n",
              "       [-14.80131 ],\n",
              "       [-15.541374],\n",
              "       [-16.28144 ],\n",
              "       [-17.021507],\n",
              "       [-17.761572]], dtype=float32)"
            ]
          },
          "metadata": {},
          "execution_count": 25
        }
      ]
    },
    {
      "cell_type": "code",
      "source": [
        "# Let's create a model which builds automatically by defining the input_shape argument in the first layer\n",
        "tf.random.set_seed(42)\n",
        "\n",
        "# Create a model (same as above)\n",
        "model = tf.keras.Sequential([\n",
        "    tf.keras.layers.Dense(10, input_shape=[1], name = \"input_layer\"),\n",
        "    tf.keras.layers.Dense(1, name=\"output_layer\")\n",
        "], name=\"model_1\")\n",
        "\n",
        "# 2. Compile the model\n",
        "model.compile(loss=\"mae\",\n",
        "              optimizer = tf.keras.optimizers.SGD(),\n",
        "              metrics = [\"mae\"])"
      ],
      "metadata": {
        "id": "2vyCNF3doH3K"
      },
      "execution_count": 35,
      "outputs": []
    },
    {
      "cell_type": "code",
      "source": [
        "model.summary()"
      ],
      "metadata": {
        "id": "e5hkE_4fJW4p",
        "colab": {
          "base_uri": "https://localhost:8080/"
        },
        "outputId": "2a89ce07-343f-4de8-bc14-f49669a16075"
      },
      "execution_count": 36,
      "outputs": [
        {
          "output_type": "stream",
          "name": "stdout",
          "text": [
            "Model: \"model_1\"\n",
            "_________________________________________________________________\n",
            " Layer (type)                Output Shape              Param #   \n",
            "=================================================================\n",
            " input_layer (Dense)         (None, 10)                20        \n",
            "                                                                 \n",
            " output_layer (Dense)        (None, 1)                 11        \n",
            "                                                                 \n",
            "=================================================================\n",
            "Total params: 31\n",
            "Trainable params: 31\n",
            "Non-trainable params: 0\n",
            "_________________________________________________________________\n"
          ]
        }
      ]
    },
    {
      "cell_type": "markdown",
      "source": [
        "* Total params - total number of parameters in the model.\n",
        "* Trainable parameters - these are the parameters (pattern) the model can update as it trains.\n",
        "* Non-trainable params - these parameters aren't updated during trainting (this is typical when you bring in already learn patterns or parameters from other models during **transfer learning**)"
      ],
      "metadata": {
        "id": "XOqVjPrD8t73"
      }
    },
    {
      "cell_type": "code",
      "source": [
        "from tensorflow.keras.utils import plot_model\n",
        "plot_model(model=model, show_shapes=True)"
      ],
      "metadata": {
        "id": "XYHzuGI2_KRU",
        "colab": {
          "base_uri": "https://localhost:8080/",
          "height": 312
        },
        "outputId": "80851d87-e5be-42f8-df26-262f68b6d40b"
      },
      "execution_count": 38,
      "outputs": [
        {
          "output_type": "execute_result",
          "data": {
            "image/png": "[encoded data removed]",
            "text/plain": [
              "<IPython.core.display.Image object>"
            ]
          },
          "metadata": {},
          "execution_count": 38
        }
      ]
    },
    {
      "cell_type": "code",
      "source": [],
      "metadata": {
        "id": "EHFrGd4fzURL"
      },
      "execution_count": 82,
      "outputs": []
    }
  ]
}