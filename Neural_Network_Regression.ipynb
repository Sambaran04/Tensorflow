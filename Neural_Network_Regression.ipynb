{
  "nbformat": 4,
  "nbformat_minor": 0,
  "metadata": {
    "colab": {
      "provenance": [],
      "authorship_tag": "ABX9TyOjyUVGQjcST36MGTvls5Eq",
      "include_colab_link": true
    },
    "kernelspec": {
      "name": "python3",
      "display_name": "Python 3"
    },
    "language_info": {
      "name": "python"
    },
    "accelerator": "TPU"
  },
  "cells": [
    {
      "cell_type": "markdown",
      "metadata": {
        "id": "view-in-github",
        "colab_type": "text"
      },
      "source": [
        "<a href=\"https://colab.research.google.com/github/Sambaran04/Tensorflow/blob/main/Neural_Network_Regression.ipynb\" target=\"_parent\"><img src=\"https://colab.research.google.com/assets/colab-badge.svg\" alt=\"Open In Colab\"/></a>"
      ]
    },
    {
      "cell_type": "markdown",
      "source": [
        "# **Introduction to Regression with Neural Network in TensorFlow**\n",
        "\n",
        "There are many definitions for a regression problem but in our case, we're going to simplify it: Predicting a numerical variable based on some other combination of variables, even shorter... predicting a number."
      ],
      "metadata": {
        "id": "S7iiMn1sP70a"
      }
    },
    {
      "cell_type": "code",
      "source": [
        "# Import TenforFlow\n",
        "import tensorflow as tf\n",
        "print(tf.__version__)"
      ],
      "metadata": {
        "id": "doPkz2Z528FX",
        "colab": {
          "base_uri": "https://localhost:8080/"
        },
        "outputId": "7594b547-9406-4c9e-c9cb-b00d6b7c35d1"
      },
      "execution_count": null,
      "outputs": [
        {
          "output_type": "stream",
          "name": "stdout",
          "text": [
            "2.12.0\n"
          ]
        }
      ]
    },
    {
      "cell_type": "code",
      "source": [
        "import numpy as np\n",
        "import matplotlib.pyplot as plt"
      ],
      "metadata": {
        "id": "TQfRVstgJudp"
      },
      "execution_count": null,
      "outputs": []
    },
    {
      "cell_type": "code",
      "source": [
        "# Create features\n",
        "X = np.array([-7.0, -4.0, -1.0, 2.0, 5.0, 8.0, 11.0, 14.0])\n",
        "\n",
        "# Create labels\n",
        "y = np.array([3.0, 6.0, 9.0, 12.0, 15.0, 18.0, 21.0, 24.0])\n",
        "# Visualize it\n",
        "plt.scatter(X, y)"
      ],
      "metadata": {
        "id": "POER2scBJ1ul",
        "colab": {
          "base_uri": "https://localhost:8080/",
          "height": 453
        },
        "outputId": "0f892482-c690-4c62-e25c-b2d2fd454603"
      },
      "execution_count": null,
      "outputs": [
        {
          "output_type": "execute_result",
          "data": {
            "text/plain": [
              "<matplotlib.collections.PathCollection at 0x7efd64a20b80>"
            ]
          },
          "metadata": {},
          "execution_count": 3
        },
        {
          "output_type": "display_data",
          "data": {
            "text/plain": [
              "<Figure size 640x480 with 1 Axes>"
            ],
            "image/png": "[encoded data removed]"
          },
          "metadata": {}
        }
      ]
    },
    {
      "cell_type": "code",
      "source": [
        "y == X+10"
      ],
      "metadata": {
        "id": "wYVflYW7KS2M",
        "colab": {
          "base_uri": "https://localhost:8080/"
        },
        "outputId": "b29ce741-6632-4929-91c4-eac5de1255b0"
      },
      "execution_count": null,
      "outputs": [
        {
          "output_type": "execute_result",
          "data": {
            "text/plain": [
              "array([ True,  True,  True,  True,  True,  True,  True,  True])"
            ]
          },
          "metadata": {},
          "execution_count": 4
        }
      ]
    },
    {
      "cell_type": "markdown",
      "source": [
        "## Input and output shapes"
      ],
      "metadata": {
        "id": "qVLLa2yTKr01"
      }
    },
    {
      "cell_type": "code",
      "source": [
        "# Create a debo tensor for our housing price prediciton problem\n",
        "house_info = tf.constant([\"bedroom\", \"bathroom\", \"garage\"])\n",
        "house_price = tf.constant([939700])\n",
        "house_info, house_price"
      ],
      "metadata": {
        "id": "Iw9TaSWJKu4s",
        "colab": {
          "base_uri": "https://localhost:8080/"
        },
        "outputId": "ddc0ba88-aa24-4dd3-bc23-5c47daec2836"
      },
      "execution_count": null,
      "outputs": [
        {
          "output_type": "execute_result",
          "data": {
            "text/plain": [
              "(<tf.Tensor: shape=(3,), dtype=string, numpy=array([b'bedroom', b'bathroom', b'garage'], dtype=object)>,\n",
              " <tf.Tensor: shape=(1,), dtype=int32, numpy=array([939700], dtype=int32)>)"
            ]
          },
          "metadata": {},
          "execution_count": 5
        }
      ]
    },
    {
      "cell_type": "code",
      "source": [
        "X[0].shape, y[0].shape"
      ],
      "metadata": {
        "id": "laZAZxi4LoIR",
        "colab": {
          "base_uri": "https://localhost:8080/"
        },
        "outputId": "8bc0b7e8-180f-4c91-93d2-5e4db47e80f1"
      },
      "execution_count": null,
      "outputs": [
        {
          "output_type": "execute_result",
          "data": {
            "text/plain": [
              "((), ())"
            ]
          },
          "metadata": {},
          "execution_count": 6
        }
      ]
    },
    {
      "cell_type": "code",
      "source": [
        "X = tf.constant(X)\n",
        "y = tf.constant(y)"
      ],
      "metadata": {
        "id": "k1DewfXBQZ3-"
      },
      "execution_count": null,
      "outputs": []
    },
    {
      "cell_type": "code",
      "source": [
        "X[0], y[0]"
      ],
      "metadata": {
        "id": "oqVtcte0Qk2v",
        "colab": {
          "base_uri": "https://localhost:8080/"
        },
        "outputId": "c22256f2-b081-4c3f-c9c1-2a7521d5f68d"
      },
      "execution_count": null,
      "outputs": [
        {
          "output_type": "execute_result",
          "data": {
            "text/plain": [
              "(<tf.Tensor: shape=(), dtype=float64, numpy=-7.0>,\n",
              " <tf.Tensor: shape=(), dtype=float64, numpy=3.0>)"
            ]
          },
          "metadata": {},
          "execution_count": 8
        }
      ]
    },
    {
      "cell_type": "markdown",
      "source": [
        "## Steps in modelling with TensorFlow\n",
        "\n",
        "1. **Creating a model**- define the inpur and output layers, as well as the hidden layers of a deep learning model.\n",
        "2. **Compiling a model**- define the loss function (in other words, the function which tells our model how wrong it is) and the optimizer (tells our model how to imporve the patterns its learning) and evaluation metrics (what we can use to interpret the performance of our model).\n",
        "3. **Fitting a model**- letting the model try to find patterns between X & y (features and labels)."
      ],
      "metadata": {
        "id": "7cV8kSbHQmtr"
      }
    },
    {
      "cell_type": "code",
      "source": [
        "# Set random seed\n",
        "tf.random.set_seed(42)\n",
        "\n",
        "# 1. Create a model using the Sequential API\n",
        "model = tf.keras.Sequential([tf.keras.layers.Flatten(), tf.keras.layers.Dense(1)])\n",
        "\n",
        "# 2. Compile the model\n",
        "model.compile(loss=tf.keras.losses.mae,\n",
        "              optimizer = tf.keras.optimizers.SGD(),\n",
        "              metrics = [\"mae\"])\n",
        "\n",
        "# 3. Fit the model\n",
        "model.fit(X, y, epochs=5)"
      ],
      "metadata": {
        "id": "9evxwGTnVvg-",
        "colab": {
          "base_uri": "https://localhost:8080/"
        },
        "outputId": "2f56d67c-f9ef-4ab9-ee09-3b3090e8a6b7"
      },
      "execution_count": null,
      "outputs": [
        {
          "output_type": "stream",
          "name": "stdout",
          "text": [
            "Epoch 1/5\n",
            "1/1 [==============================] - 1s 677ms/step - loss: 16.1497 - mae: 16.1497\n",
            "Epoch 2/5\n",
            "1/1 [==============================] - 0s 10ms/step - loss: 15.8685 - mae: 15.8685\n",
            "Epoch 3/5\n",
            "1/1 [==============================] - 0s 10ms/step - loss: 15.5872 - mae: 15.5872\n",
            "Epoch 4/5\n",
            "1/1 [==============================] - 0s 10ms/step - loss: 15.3060 - mae: 15.3060\n",
            "Epoch 5/5\n",
            "1/1 [==============================] - 0s 10ms/step - loss: 15.0247 - mae: 15.0247\n"
          ]
        },
        {
          "output_type": "execute_result",
          "data": {
            "text/plain": [
              "<keras.callbacks.History at 0x7efd537adba0>"
            ]
          },
          "metadata": {},
          "execution_count": 9
        }
      ]
    },
    {
      "cell_type": "code",
      "source": [
        "# Try and make a prediction using our model\n",
        "model.predict([17.0])"
      ],
      "metadata": {
        "id": "kyKcYGrzYOJv",
        "colab": {
          "base_uri": "https://localhost:8080/"
        },
        "outputId": "538d96a5-52d4-4f84-bb0e-f0915bc72747"
      },
      "execution_count": null,
      "outputs": [
        {
          "output_type": "stream",
          "name": "stdout",
          "text": [
            "1/1 [==============================] - 0s 99ms/step\n"
          ]
        },
        {
          "output_type": "execute_result",
          "data": {
            "text/plain": [
              "array([[-6.5086308]], dtype=float32)"
            ]
          },
          "metadata": {},
          "execution_count": 10
        }
      ]
    },
    {
      "cell_type": "markdown",
      "source": [
        "## Improving our Model"
      ],
      "metadata": {
        "id": "SEyPWU2farOw"
      }
    },
    {
      "cell_type": "code",
      "source": [
        "# Let's rebuild our model\n",
        "\n",
        "# tf.random.set_seed(42)\n",
        "\n",
        "# 1. Create a model using the Sequential API\n",
        "model = tf.keras.Sequential([tf.keras.layers.Flatten(), tf.keras.layers.Dense(1)])\n",
        "\n",
        "# 2. Compile the model\n",
        "model.compile(loss=tf.keras.losses.mae,\n",
        "              optimizer = tf.keras.optimizers.SGD(),\n",
        "              metrics = [\"mae\"])\n",
        "\n",
        "# 3. Fit the model\n",
        "# model.fit(X, y, epochs=1000)"
      ],
      "metadata": {
        "id": "Pqttfw9xC1ff"
      },
      "execution_count": null,
      "outputs": []
    },
    {
      "cell_type": "code",
      "source": [
        "# Remind ourselves of the data\n",
        "X, y"
      ],
      "metadata": {
        "id": "RIwwDPJ-Qn1w",
        "colab": {
          "base_uri": "https://localhost:8080/"
        },
        "outputId": "7fa2bbe2-7506-4310-88d4-054d78d9c452"
      },
      "execution_count": null,
      "outputs": [
        {
          "output_type": "execute_result",
          "data": {
            "text/plain": [
              "(<tf.Tensor: shape=(8,), dtype=float64, numpy=array([-7., -4., -1.,  2.,  5.,  8., 11., 14.])>,\n",
              " <tf.Tensor: shape=(8,), dtype=float64, numpy=array([ 3.,  6.,  9., 12., 15., 18., 21., 24.])>)"
            ]
          },
          "metadata": {},
          "execution_count": 12
        }
      ]
    },
    {
      "cell_type": "code",
      "source": [
        "# Let's see if our model's prediction has improved...\n",
        "model.predict([17.0])"
      ],
      "metadata": {
        "id": "a_dWcvkR_ZIc",
        "colab": {
          "base_uri": "https://localhost:8080/"
        },
        "outputId": "c550bd7a-9a3f-4627-d5bd-9b47c64f27ab"
      },
      "execution_count": null,
      "outputs": [
        {
          "output_type": "stream",
          "name": "stdout",
          "text": [
            "1/1 [==============================] - 0s 102ms/step\n"
          ]
        },
        {
          "output_type": "execute_result",
          "data": {
            "text/plain": [
              "array([[16.007324]], dtype=float32)"
            ]
          },
          "metadata": {},
          "execution_count": 13
        }
      ]
    },
    {
      "cell_type": "code",
      "source": [
        "# Let's see if we can make another to improve our model\n",
        "\n",
        "# 1. Create the model (this time with an extra hidden layer with 100 hidden units)\n",
        "model = tf.keras.Sequential([\n",
        "    tf.keras.layers.Flatten(),\n",
        "    tf.keras.layers.Dense(100, activation=None),\n",
        "    tf.keras.layers.Dense(1)\n",
        "])\n",
        "\n",
        "# 2. Compile the model\n",
        "model.compile(loss=\"mae\",\n",
        "              optimizer = tf.keras.optimizers.Adam(lr=0.01),\n",
        "              metrics = [\"mae\"])\n",
        "\n",
        "# 3. Fit the model\n",
        "# model.fit(X, y, epochs=1000)"
      ],
      "metadata": {
        "id": "Yzm0gBdf_hnw",
        "colab": {
          "base_uri": "https://localhost:8080/"
        },
        "outputId": "db439e02-137c-411a-e92b-94418c4f1aba"
      },
      "execution_count": null,
      "outputs": [
        {
          "output_type": "stream",
          "name": "stderr",
          "text": [
            "WARNING:absl:`lr` is deprecated in Keras optimizer, please use `learning_rate` or use the legacy optimizer, e.g.,tf.keras.optimizers.legacy.Adam.\n"
          ]
        }
      ]
    },
    {
      "cell_type": "code",
      "source": [
        "# Let's see if our model's prediction has improved...\n",
        "model.predict([17.0])"
      ],
      "metadata": {
        "id": "mS_cIuCRCBbs",
        "colab": {
          "base_uri": "https://localhost:8080/"
        },
        "outputId": "266c14ff-e15e-4c00-9bd4-c0e3140b790a"
      },
      "execution_count": null,
      "outputs": [
        {
          "output_type": "stream",
          "name": "stdout",
          "text": [
            "1/1 [==============================] - 0s 124ms/step\n"
          ]
        },
        {
          "output_type": "execute_result",
          "data": {
            "text/plain": [
              "array([[9.26034]], dtype=float32)"
            ]
          },
          "metadata": {},
          "execution_count": 15
        }
      ]
    },
    {
      "cell_type": "markdown",
      "source": [
        "## Evaluating the model\n",
        "\n",
        "In practice, a typical workflow you'll go through when builidng neural network is:\n",
        "\n",
        "```\n",
        "Build a model -> fit it -> evaluate it -> tweak a model -> fit it -> evaluate it -> twea a model -> fit it -> evaluate it...\n",
        "```"
      ],
      "metadata": {
        "id": "_0AyKT1hC63t"
      }
    },
    {
      "cell_type": "markdown",
      "source": [
        "When it comes to evaluation... there are 3 words we should memorize:\n",
        "\n",
        "> \"Visualize, Visualize, Visualize\"\n",
        "\n",
        "It's a good idea to visualize:\n",
        "* The data - what data are we working with? What does it look like?\n",
        "* The model itself - what does our model look like?\n",
        "* The training of a model - how does a model perform while it learns?\n",
        "* The predictions of the model - how do the predictions of a model line up against the ground truth (the original labels)"
      ],
      "metadata": {
        "id": "COLtfR9w3fJO"
      }
    },
    {
      "cell_type": "code",
      "source": [
        "# Make a bigger dataset:\n",
        "X = tf.range(-100, 100, 4)\n",
        "X"
      ],
      "metadata": {
        "id": "jeaDkHx24-86",
        "colab": {
          "base_uri": "https://localhost:8080/"
        },
        "outputId": "525e1ce3-9998-43f3-c77c-f9329ddab331"
      },
      "execution_count": null,
      "outputs": [
        {
          "output_type": "execute_result",
          "data": {
            "text/plain": [
              "<tf.Tensor: shape=(50,), dtype=int32, numpy=\n",
              "array([-100,  -96,  -92,  -88,  -84,  -80,  -76,  -72,  -68,  -64,  -60,\n",
              "        -56,  -52,  -48,  -44,  -40,  -36,  -32,  -28,  -24,  -20,  -16,\n",
              "        -12,   -8,   -4,    0,    4,    8,   12,   16,   20,   24,   28,\n",
              "         32,   36,   40,   44,   48,   52,   56,   60,   64,   68,   72,\n",
              "         76,   80,   84,   88,   92,   96], dtype=int32)>"
            ]
          },
          "metadata": {},
          "execution_count": 16
        }
      ]
    },
    {
      "cell_type": "code",
      "source": [
        "# Make labels for the dataset\n",
        "y = X+10\n",
        "y"
      ],
      "metadata": {
        "id": "1K1kXCUg5FRb",
        "colab": {
          "base_uri": "https://localhost:8080/"
        },
        "outputId": "edde9c47-0e96-446a-d0a4-0fa58817111b"
      },
      "execution_count": null,
      "outputs": [
        {
          "output_type": "execute_result",
          "data": {
            "text/plain": [
              "<tf.Tensor: shape=(50,), dtype=int32, numpy=\n",
              "array([-90, -86, -82, -78, -74, -70, -66, -62, -58, -54, -50, -46, -42,\n",
              "       -38, -34, -30, -26, -22, -18, -14, -10,  -6,  -2,   2,   6,  10,\n",
              "        14,  18,  22,  26,  30,  34,  38,  42,  46,  50,  54,  58,  62,\n",
              "        66,  70,  74,  78,  82,  86,  90,  94,  98, 102, 106], dtype=int32)>"
            ]
          },
          "metadata": {},
          "execution_count": 17
        }
      ]
    },
    {
      "cell_type": "code",
      "source": [
        "# Visualize the data\n",
        "import matplotlib.pyplot as plt\n",
        "plt.scatter(X, y)"
      ],
      "metadata": {
        "id": "XkgK22cD5Ql7",
        "colab": {
          "base_uri": "https://localhost:8080/",
          "height": 448
        },
        "outputId": "316144be-7746-437d-ef50-ba258a784544"
      },
      "execution_count": null,
      "outputs": [
        {
          "output_type": "execute_result",
          "data": {
            "text/plain": [
              "<matplotlib.collections.PathCollection at 0x7efd53f6bc70>"
            ]
          },
          "metadata": {},
          "execution_count": 18
        },
        {
          "output_type": "display_data",
          "data": {
            "text/plain": [
              "<Figure size 640x480 with 1 Axes>"
            ],
            "image/png": "[encoded data removed]"
          },
          "metadata": {}
        }
      ]
    },
    {
      "cell_type": "markdown",
      "source": [
        "### There are 3 Sets...\n",
        "\n",
        "* Training set - the model learns from this data, which is typically 70-80% of the total data you have available.\n",
        "* Validation set - The model gets tuned on this data, which is typcically 10-15% of the data available.\n",
        "* Test set - The model gets evaluated on this data to test what it has learnt, this set is typically 10-15% of the data available."
      ],
      "metadata": {
        "id": "7W1jdB-S5Zft"
      }
    },
    {
      "cell_type": "code",
      "source": [
        "# Check the length of how many samples we have\n",
        "len(X)"
      ],
      "metadata": {
        "id": "M7puUGBS69V-",
        "colab": {
          "base_uri": "https://localhost:8080/"
        },
        "outputId": "b0710bd0-42cf-4bd3-c382-3a59920f265b"
      },
      "execution_count": null,
      "outputs": [
        {
          "output_type": "execute_result",
          "data": {
            "text/plain": [
              "50"
            ]
          },
          "metadata": {},
          "execution_count": 19
        }
      ]
    },
    {
      "cell_type": "code",
      "source": [
        "# Split the data into train and test sets\n",
        "X_train = X[:40] # first 40 are training samples (80% of the data)\n",
        "y_train = y[:40]\n",
        "\n",
        "X_test = X[40:] # last 10 are testing samples (20% of the data)\n",
        "y_test = y[40:]"
      ],
      "metadata": {
        "id": "iz7rSD7u7N-p"
      },
      "execution_count": null,
      "outputs": []
    },
    {
      "cell_type": "markdown",
      "source": [
        "### Visualizing the data\n",
        "\n",
        "Now we've got our data in training and test sets... let's visualize it again"
      ],
      "metadata": {
        "id": "wq4y4IH18Dwh"
      }
    },
    {
      "cell_type": "code",
      "source": [
        "plt.figure(figsize=(10, 7))\n",
        "# Plot training data in blue\n",
        "plt.scatter(X_train, y_train, c=\"b\", label = \"Training dataset\")\n",
        "# Plot test data in green\n",
        "plt.scatter(X_test, y_test, c=\"r\", label = \"Test dataset\")\n",
        "plt.legend()"
      ],
      "metadata": {
        "id": "dBmBOOh_8L1v",
        "colab": {
          "base_uri": "https://localhost:8080/",
          "height": 617
        },
        "outputId": "f44889a3-4306-47e9-8454-0243f7395153"
      },
      "execution_count": null,
      "outputs": [
        {
          "output_type": "execute_result",
          "data": {
            "text/plain": [
              "<matplotlib.legend.Legend at 0x7efd53e050c0>"
            ]
          },
          "metadata": {},
          "execution_count": 21
        },
        {
          "output_type": "display_data",
          "data": {
            "text/plain": [
              "<Figure size 1000x700 with 1 Axes>"
            ],
            "image/png": "[encoded data removed]"
          },
          "metadata": {}
        }
      ]
    },
    {
      "cell_type": "code",
      "source": [
        "# Let's see if we can make another to improve our model\n",
        "\n",
        "# 1. Create the model (this time with an extra hidden layer with 100 hidden units)\n",
        "model = tf.keras.Sequential([\n",
        "    tf.keras.layers.Flatten(),\n",
        "    tf.keras.layers.Dense(100, activation=None),\n",
        "    tf.keras.layers.Dense(1)\n",
        "])\n",
        "\n",
        "# 2. Compile the model\n",
        "model.compile(loss=\"mae\",\n",
        "              optimizer = tf.keras.optimizers.Adam(lr=0.01),\n",
        "              metrics = [\"mae\"])\n",
        "\n",
        "# 3. Fit the model\n",
        "model.fit(X_train, y_train, epochs=200)"
      ],
      "metadata": {
        "id": "wxw1Ismw8rfM",
        "colab": {
          "base_uri": "https://localhost:8080/"
        },
        "outputId": "5468d060-6aef-4171-acce-54e3d1b569c0"
      },
      "execution_count": null,
      "outputs": [
        {
          "output_type": "stream",
          "name": "stderr",
          "text": [
            "WARNING:absl:`lr` is deprecated in Keras optimizer, please use `learning_rate` or use the legacy optimizer, e.g.,tf.keras.optimizers.legacy.Adam.\n"
          ]
        },
        {
          "output_type": "stream",
          "name": "stdout",
          "text": [
            "Epoch 1/200\n",
            "2/2 [==============================] - 1s 13ms/step - loss: 37.8548 - mae: 37.8548\n",
            "Epoch 2/200\n",
            "2/2 [==============================] - 0s 13ms/step - loss: 35.6961 - mae: 35.6961\n",
            "Epoch 3/200\n",
            "2/2 [==============================] - 0s 12ms/step - loss: 33.6218 - mae: 33.6218\n",
            "Epoch 4/200\n",
            "2/2 [==============================] - 0s 14ms/step - loss: 31.5233 - mae: 31.5233\n",
            "Epoch 5/200\n",
            "2/2 [==============================] - 0s 14ms/step - loss: 29.4732 - mae: 29.4732\n",
            "Epoch 6/200\n",
            "2/2 [==============================] - 0s 15ms/step - loss: 27.4151 - mae: 27.4151\n",
            "Epoch 7/200\n",
            "2/2 [==============================] - 0s 20ms/step - loss: 25.3073 - mae: 25.3073\n",
            "Epoch 8/200\n",
            "2/2 [==============================] - 0s 16ms/step - loss: 23.1790 - mae: 23.1790\n",
            "Epoch 9/200\n",
            "2/2 [==============================] - 0s 13ms/step - loss: 21.1883 - mae: 21.1883\n",
            "Epoch 10/200\n",
            "2/2 [==============================] - 0s 11ms/step - loss: 19.2140 - mae: 19.2140\n",
            "Epoch 11/200\n",
            "2/2 [==============================] - 0s 13ms/step - loss: 17.1010 - mae: 17.1010\n",
            "Epoch 12/200\n",
            "2/2 [==============================] - 0s 18ms/step - loss: 15.1624 - mae: 15.1624\n",
            "Epoch 13/200\n",
            "2/2 [==============================] - 0s 20ms/step - loss: 13.1659 - mae: 13.1659\n",
            "Epoch 14/200\n",
            "2/2 [==============================] - 0s 21ms/step - loss: 11.3833 - mae: 11.3833\n",
            "Epoch 15/200\n",
            "2/2 [==============================] - 0s 21ms/step - loss: 9.7528 - mae: 9.7528\n",
            "Epoch 16/200\n",
            "2/2 [==============================] - 0s 25ms/step - loss: 8.5161 - mae: 8.5161\n",
            "Epoch 17/200\n",
            "2/2 [==============================] - 0s 29ms/step - loss: 7.6730 - mae: 7.6730\n",
            "Epoch 18/200\n",
            "2/2 [==============================] - 0s 10ms/step - loss: 8.1513 - mae: 8.1513\n",
            "Epoch 19/200\n",
            "2/2 [==============================] - 0s 16ms/step - loss: 8.6643 - mae: 8.6643\n",
            "Epoch 20/200\n",
            "2/2 [==============================] - 0s 25ms/step - loss: 8.9062 - mae: 8.9062\n",
            "Epoch 21/200\n",
            "2/2 [==============================] - 0s 20ms/step - loss: 8.9634 - mae: 8.9634\n",
            "Epoch 22/200\n",
            "2/2 [==============================] - 0s 11ms/step - loss: 8.8750 - mae: 8.8750\n",
            "Epoch 23/200\n",
            "2/2 [==============================] - 0s 11ms/step - loss: 8.6421 - mae: 8.6421\n",
            "Epoch 24/200\n",
            "2/2 [==============================] - 0s 8ms/step - loss: 8.3434 - mae: 8.3434\n",
            "Epoch 25/200\n",
            "2/2 [==============================] - 0s 8ms/step - loss: 7.9014 - mae: 7.9014\n",
            "Epoch 26/200\n",
            "2/2 [==============================] - 0s 12ms/step - loss: 7.5342 - mae: 7.5342\n",
            "Epoch 27/200\n",
            "2/2 [==============================] - 0s 16ms/step - loss: 7.4999 - mae: 7.4999\n",
            "Epoch 28/200\n",
            "2/2 [==============================] - 0s 7ms/step - loss: 7.6251 - mae: 7.6251\n",
            "Epoch 29/200\n",
            "2/2 [==============================] - 0s 12ms/step - loss: 7.7809 - mae: 7.7809\n",
            "Epoch 30/200\n",
            "2/2 [==============================] - 0s 10ms/step - loss: 7.8530 - mae: 7.8530\n",
            "Epoch 31/200\n",
            "2/2 [==============================] - 0s 14ms/step - loss: 7.7595 - mae: 7.7595\n",
            "Epoch 32/200\n",
            "2/2 [==============================] - 0s 16ms/step - loss: 7.5933 - mae: 7.5933\n",
            "Epoch 33/200\n",
            "2/2 [==============================] - 0s 19ms/step - loss: 7.4375 - mae: 7.4375\n",
            "Epoch 34/200\n",
            "2/2 [==============================] - 0s 12ms/step - loss: 7.3484 - mae: 7.3484\n",
            "Epoch 35/200\n",
            "2/2 [==============================] - 0s 16ms/step - loss: 7.3161 - mae: 7.3161\n",
            "Epoch 36/200\n",
            "2/2 [==============================] - 0s 12ms/step - loss: 7.2541 - mae: 7.2541\n",
            "Epoch 37/200\n",
            "2/2 [==============================] - 0s 26ms/step - loss: 7.2279 - mae: 7.2279\n",
            "Epoch 38/200\n",
            "2/2 [==============================] - 0s 17ms/step - loss: 7.2024 - mae: 7.2024\n",
            "Epoch 39/200\n",
            "2/2 [==============================] - 0s 10ms/step - loss: 7.1758 - mae: 7.1758\n",
            "Epoch 40/200\n",
            "2/2 [==============================] - 0s 29ms/step - loss: 7.1579 - mae: 7.1579\n",
            "Epoch 41/200\n",
            "2/2 [==============================] - 0s 20ms/step - loss: 7.1290 - mae: 7.1290\n",
            "Epoch 42/200\n",
            "2/2 [==============================] - 0s 11ms/step - loss: 7.1046 - mae: 7.1046\n",
            "Epoch 43/200\n",
            "2/2 [==============================] - 0s 8ms/step - loss: 7.0797 - mae: 7.0797\n",
            "Epoch 44/200\n",
            "2/2 [==============================] - 0s 13ms/step - loss: 7.0620 - mae: 7.0620\n",
            "Epoch 45/200\n",
            "2/2 [==============================] - 0s 13ms/step - loss: 7.0266 - mae: 7.0266\n",
            "Epoch 46/200\n",
            "2/2 [==============================] - 0s 9ms/step - loss: 7.0028 - mae: 7.0028\n",
            "Epoch 47/200\n",
            "2/2 [==============================] - 0s 10ms/step - loss: 6.9947 - mae: 6.9947\n",
            "Epoch 48/200\n",
            "2/2 [==============================] - 0s 8ms/step - loss: 7.0025 - mae: 7.0025\n",
            "Epoch 49/200\n",
            "2/2 [==============================] - 0s 14ms/step - loss: 7.0090 - mae: 7.0090\n",
            "Epoch 50/200\n",
            "2/2 [==============================] - 0s 11ms/step - loss: 6.9985 - mae: 6.9985\n",
            "Epoch 51/200\n",
            "2/2 [==============================] - 0s 11ms/step - loss: 6.9656 - mae: 6.9656\n",
            "Epoch 52/200\n",
            "2/2 [==============================] - 0s 12ms/step - loss: 6.9271 - mae: 6.9271\n",
            "Epoch 53/200\n",
            "2/2 [==============================] - 0s 13ms/step - loss: 6.8610 - mae: 6.8610\n",
            "Epoch 54/200\n",
            "2/2 [==============================] - 0s 17ms/step - loss: 6.8122 - mae: 6.8122\n",
            "Epoch 55/200\n",
            "2/2 [==============================] - 0s 13ms/step - loss: 6.7888 - mae: 6.7888\n",
            "Epoch 56/200\n",
            "2/2 [==============================] - 0s 19ms/step - loss: 6.7716 - mae: 6.7716\n",
            "Epoch 57/200\n",
            "2/2 [==============================] - 0s 17ms/step - loss: 6.7325 - mae: 6.7325\n",
            "Epoch 58/200\n",
            "2/2 [==============================] - 0s 21ms/step - loss: 6.7321 - mae: 6.7321\n",
            "Epoch 59/200\n",
            "2/2 [==============================] - 0s 11ms/step - loss: 6.7398 - mae: 6.7398\n",
            "Epoch 60/200\n",
            "2/2 [==============================] - 0s 13ms/step - loss: 6.7239 - mae: 6.7239\n",
            "Epoch 61/200\n",
            "2/2 [==============================] - 0s 11ms/step - loss: 6.6624 - mae: 6.6624\n",
            "Epoch 62/200\n",
            "2/2 [==============================] - 0s 11ms/step - loss: 6.6197 - mae: 6.6197\n",
            "Epoch 63/200\n",
            "2/2 [==============================] - 0s 26ms/step - loss: 6.5986 - mae: 6.5986\n",
            "Epoch 64/200\n",
            "2/2 [==============================] - 0s 14ms/step - loss: 6.6301 - mae: 6.6301\n",
            "Epoch 65/200\n",
            "2/2 [==============================] - 0s 17ms/step - loss: 6.6177 - mae: 6.6177\n",
            "Epoch 66/200\n",
            "2/2 [==============================] - 0s 18ms/step - loss: 6.5713 - mae: 6.5713\n",
            "Epoch 67/200\n",
            "2/2 [==============================] - 0s 12ms/step - loss: 6.5056 - mae: 6.5056\n",
            "Epoch 68/200\n",
            "2/2 [==============================] - 0s 11ms/step - loss: 6.4862 - mae: 6.4862\n",
            "Epoch 69/200\n",
            "2/2 [==============================] - 0s 10ms/step - loss: 6.4730 - mae: 6.4730\n",
            "Epoch 70/200\n",
            "2/2 [==============================] - 0s 17ms/step - loss: 6.4552 - mae: 6.4552\n",
            "Epoch 71/200\n",
            "2/2 [==============================] - 0s 11ms/step - loss: 6.4139 - mae: 6.4139\n",
            "Epoch 72/200\n",
            "2/2 [==============================] - 0s 12ms/step - loss: 6.3847 - mae: 6.3847\n",
            "Epoch 73/200\n",
            "2/2 [==============================] - 0s 10ms/step - loss: 6.3653 - mae: 6.3653\n",
            "Epoch 74/200\n",
            "2/2 [==============================] - 0s 12ms/step - loss: 6.3491 - mae: 6.3491\n",
            "Epoch 75/200\n",
            "2/2 [==============================] - 0s 15ms/step - loss: 6.3319 - mae: 6.3319\n",
            "Epoch 76/200\n",
            "2/2 [==============================] - 0s 23ms/step - loss: 6.2818 - mae: 6.2818\n",
            "Epoch 77/200\n",
            "2/2 [==============================] - 0s 20ms/step - loss: 6.2373 - mae: 6.2373\n",
            "Epoch 78/200\n",
            "2/2 [==============================] - 0s 12ms/step - loss: 6.2475 - mae: 6.2475\n",
            "Epoch 79/200\n",
            "2/2 [==============================] - 0s 8ms/step - loss: 6.2589 - mae: 6.2589\n",
            "Epoch 80/200\n",
            "2/2 [==============================] - 0s 13ms/step - loss: 6.2114 - mae: 6.2114\n",
            "Epoch 81/200\n",
            "2/2 [==============================] - 0s 11ms/step - loss: 6.1489 - mae: 6.1489\n",
            "Epoch 82/200\n",
            "2/2 [==============================] - 0s 12ms/step - loss: 6.1336 - mae: 6.1336\n",
            "Epoch 83/200\n",
            "2/2 [==============================] - 0s 12ms/step - loss: 6.1378 - mae: 6.1378\n",
            "Epoch 84/200\n",
            "2/2 [==============================] - 0s 22ms/step - loss: 6.1228 - mae: 6.1228\n",
            "Epoch 85/200\n",
            "2/2 [==============================] - 0s 12ms/step - loss: 6.0692 - mae: 6.0692\n",
            "Epoch 86/200\n",
            "2/2 [==============================] - 0s 14ms/step - loss: 6.0289 - mae: 6.0289\n",
            "Epoch 87/200\n",
            "2/2 [==============================] - 0s 12ms/step - loss: 6.0233 - mae: 6.0233\n",
            "Epoch 88/200\n",
            "2/2 [==============================] - 0s 12ms/step - loss: 5.9686 - mae: 5.9686\n",
            "Epoch 89/200\n",
            "2/2 [==============================] - 0s 15ms/step - loss: 5.9356 - mae: 5.9356\n",
            "Epoch 90/200\n",
            "2/2 [==============================] - 0s 11ms/step - loss: 5.9377 - mae: 5.9377\n",
            "Epoch 91/200\n",
            "2/2 [==============================] - 0s 17ms/step - loss: 5.9268 - mae: 5.9268\n",
            "Epoch 92/200\n",
            "2/2 [==============================] - 0s 14ms/step - loss: 5.8894 - mae: 5.8894\n",
            "Epoch 93/200\n",
            "2/2 [==============================] - 0s 16ms/step - loss: 5.8413 - mae: 5.8413\n",
            "Epoch 94/200\n",
            "2/2 [==============================] - 0s 13ms/step - loss: 5.8162 - mae: 5.8162\n",
            "Epoch 95/200\n",
            "2/2 [==============================] - 0s 16ms/step - loss: 5.8009 - mae: 5.8009\n",
            "Epoch 96/200\n",
            "2/2 [==============================] - 0s 12ms/step - loss: 5.7841 - mae: 5.7841\n",
            "Epoch 97/200\n",
            "2/2 [==============================] - 0s 26ms/step - loss: 5.7375 - mae: 5.7375\n",
            "Epoch 98/200\n",
            "2/2 [==============================] - 0s 12ms/step - loss: 5.6998 - mae: 5.6998\n",
            "Epoch 99/200\n",
            "2/2 [==============================] - 0s 11ms/step - loss: 5.7237 - mae: 5.7237\n",
            "Epoch 100/200\n",
            "2/2 [==============================] - 0s 9ms/step - loss: 5.6955 - mae: 5.6955\n",
            "Epoch 101/200\n",
            "2/2 [==============================] - 0s 8ms/step - loss: 5.6296 - mae: 5.6296\n",
            "Epoch 102/200\n",
            "2/2 [==============================] - 0s 14ms/step - loss: 5.5941 - mae: 5.5941\n",
            "Epoch 103/200\n",
            "2/2 [==============================] - 0s 12ms/step - loss: 5.5680 - mae: 5.5680\n",
            "Epoch 104/200\n",
            "2/2 [==============================] - 0s 11ms/step - loss: 5.5515 - mae: 5.5515\n",
            "Epoch 105/200\n",
            "2/2 [==============================] - 0s 9ms/step - loss: 5.5167 - mae: 5.5167\n",
            "Epoch 106/200\n",
            "2/2 [==============================] - 0s 7ms/step - loss: 5.4835 - mae: 5.4835\n",
            "Epoch 107/200\n",
            "2/2 [==============================] - 0s 7ms/step - loss: 5.4773 - mae: 5.4773\n",
            "Epoch 108/200\n",
            "2/2 [==============================] - 0s 7ms/step - loss: 5.4390 - mae: 5.4390\n",
            "Epoch 109/200\n",
            "2/2 [==============================] - 0s 7ms/step - loss: 5.3982 - mae: 5.3982\n",
            "Epoch 110/200\n",
            "2/2 [==============================] - 0s 7ms/step - loss: 5.3932 - mae: 5.3932\n",
            "Epoch 111/200\n",
            "2/2 [==============================] - 0s 7ms/step - loss: 5.3833 - mae: 5.3833\n",
            "Epoch 112/200\n",
            "2/2 [==============================] - 0s 8ms/step - loss: 5.3354 - mae: 5.3354\n",
            "Epoch 113/200\n",
            "2/2 [==============================] - 0s 7ms/step - loss: 5.2881 - mae: 5.2881\n",
            "Epoch 114/200\n",
            "2/2 [==============================] - 0s 12ms/step - loss: 5.2883 - mae: 5.2883\n",
            "Epoch 115/200\n",
            "2/2 [==============================] - 0s 8ms/step - loss: 5.2507 - mae: 5.2507\n",
            "Epoch 116/200\n",
            "2/2 [==============================] - 0s 8ms/step - loss: 5.2132 - mae: 5.2132\n",
            "Epoch 117/200\n",
            "2/2 [==============================] - 0s 7ms/step - loss: 5.1836 - mae: 5.1836\n",
            "Epoch 118/200\n",
            "2/2 [==============================] - 0s 8ms/step - loss: 5.1550 - mae: 5.1550\n",
            "Epoch 119/200\n",
            "2/2 [==============================] - 0s 8ms/step - loss: 5.1273 - mae: 5.1273\n",
            "Epoch 120/200\n",
            "2/2 [==============================] - 0s 8ms/step - loss: 5.0892 - mae: 5.0892\n",
            "Epoch 121/200\n",
            "2/2 [==============================] - 0s 8ms/step - loss: 5.0632 - mae: 5.0632\n",
            "Epoch 122/200\n",
            "2/2 [==============================] - 0s 8ms/step - loss: 5.0370 - mae: 5.0370\n",
            "Epoch 123/200\n",
            "2/2 [==============================] - 0s 7ms/step - loss: 4.9999 - mae: 4.9999\n",
            "Epoch 124/200\n",
            "2/2 [==============================] - 0s 9ms/step - loss: 4.9869 - mae: 4.9869\n",
            "Epoch 125/200\n",
            "2/2 [==============================] - 0s 8ms/step - loss: 4.9710 - mae: 4.9710\n",
            "Epoch 126/200\n",
            "2/2 [==============================] - 0s 8ms/step - loss: 4.9247 - mae: 4.9247\n",
            "Epoch 127/200\n",
            "2/2 [==============================] - 0s 7ms/step - loss: 4.8778 - mae: 4.8778\n",
            "Epoch 128/200\n",
            "2/2 [==============================] - 0s 9ms/step - loss: 4.8939 - mae: 4.8939\n",
            "Epoch 129/200\n",
            "2/2 [==============================] - 0s 6ms/step - loss: 4.9272 - mae: 4.9272\n",
            "Epoch 130/200\n",
            "2/2 [==============================] - 0s 8ms/step - loss: 4.8938 - mae: 4.8938\n",
            "Epoch 131/200\n",
            "2/2 [==============================] - 0s 7ms/step - loss: 4.7911 - mae: 4.7911\n",
            "Epoch 132/200\n",
            "2/2 [==============================] - 0s 9ms/step - loss: 4.7643 - mae: 4.7643\n",
            "Epoch 133/200\n",
            "2/2 [==============================] - 0s 9ms/step - loss: 4.7641 - mae: 4.7641\n",
            "Epoch 134/200\n",
            "2/2 [==============================] - 0s 7ms/step - loss: 4.6860 - mae: 4.6860\n",
            "Epoch 135/200\n",
            "2/2 [==============================] - 0s 8ms/step - loss: 4.7309 - mae: 4.7309\n",
            "Epoch 136/200\n",
            "2/2 [==============================] - 0s 8ms/step - loss: 4.7198 - mae: 4.7198\n",
            "Epoch 137/200\n",
            "2/2 [==============================] - 0s 7ms/step - loss: 4.5810 - mae: 4.5810\n",
            "Epoch 138/200\n",
            "2/2 [==============================] - 0s 7ms/step - loss: 4.5846 - mae: 4.5846\n",
            "Epoch 139/200\n",
            "2/2 [==============================] - 0s 7ms/step - loss: 4.8039 - mae: 4.8039\n",
            "Epoch 140/200\n",
            "2/2 [==============================] - 0s 7ms/step - loss: 4.7748 - mae: 4.7748\n",
            "Epoch 141/200\n",
            "2/2 [==============================] - 0s 7ms/step - loss: 4.4910 - mae: 4.4910\n",
            "Epoch 142/200\n",
            "2/2 [==============================] - 0s 7ms/step - loss: 4.4113 - mae: 4.4113\n",
            "Epoch 143/200\n",
            "2/2 [==============================] - 0s 9ms/step - loss: 4.5531 - mae: 4.5531\n",
            "Epoch 144/200\n",
            "2/2 [==============================] - 0s 8ms/step - loss: 4.5964 - mae: 4.5964\n",
            "Epoch 145/200\n",
            "2/2 [==============================] - 0s 7ms/step - loss: 4.4577 - mae: 4.4577\n",
            "Epoch 146/200\n",
            "2/2 [==============================] - 0s 7ms/step - loss: 4.2990 - mae: 4.2990\n",
            "Epoch 147/200\n",
            "2/2 [==============================] - 0s 7ms/step - loss: 4.3570 - mae: 4.3570\n",
            "Epoch 148/200\n",
            "2/2 [==============================] - 0s 7ms/step - loss: 4.3789 - mae: 4.3789\n",
            "Epoch 149/200\n",
            "2/2 [==============================] - 0s 7ms/step - loss: 4.1939 - mae: 4.1939\n",
            "Epoch 150/200\n",
            "2/2 [==============================] - 0s 7ms/step - loss: 4.1646 - mae: 4.1646\n",
            "Epoch 151/200\n",
            "2/2 [==============================] - 0s 7ms/step - loss: 4.1908 - mae: 4.1908\n",
            "Epoch 152/200\n",
            "2/2 [==============================] - 0s 7ms/step - loss: 4.1214 - mae: 4.1214\n",
            "Epoch 153/200\n",
            "2/2 [==============================] - 0s 7ms/step - loss: 4.0398 - mae: 4.0398\n",
            "Epoch 154/200\n",
            "2/2 [==============================] - 0s 7ms/step - loss: 4.1261 - mae: 4.1261\n",
            "Epoch 155/200\n",
            "2/2 [==============================] - 0s 7ms/step - loss: 4.0842 - mae: 4.0842\n",
            "Epoch 156/200\n",
            "2/2 [==============================] - 0s 6ms/step - loss: 3.9652 - mae: 3.9652\n",
            "Epoch 157/200\n",
            "2/2 [==============================] - 0s 5ms/step - loss: 3.8938 - mae: 3.8938\n",
            "Epoch 158/200\n",
            "2/2 [==============================] - 0s 5ms/step - loss: 3.8769 - mae: 3.8769\n",
            "Epoch 159/200\n",
            "2/2 [==============================] - 0s 7ms/step - loss: 3.8461 - mae: 3.8461\n",
            "Epoch 160/200\n",
            "2/2 [==============================] - 0s 8ms/step - loss: 3.7958 - mae: 3.7958\n",
            "Epoch 161/200\n",
            "2/2 [==============================] - 0s 8ms/step - loss: 3.7515 - mae: 3.7515\n",
            "Epoch 162/200\n",
            "2/2 [==============================] - 0s 8ms/step - loss: 3.7261 - mae: 3.7261\n",
            "Epoch 163/200\n",
            "2/2 [==============================] - 0s 8ms/step - loss: 3.6977 - mae: 3.6977\n",
            "Epoch 164/200\n",
            "2/2 [==============================] - 0s 9ms/step - loss: 3.6444 - mae: 3.6444\n",
            "Epoch 165/200\n",
            "2/2 [==============================] - 0s 8ms/step - loss: 3.6096 - mae: 3.6096\n",
            "Epoch 166/200\n",
            "2/2 [==============================] - 0s 8ms/step - loss: 3.5796 - mae: 3.5796\n",
            "Epoch 167/200\n",
            "2/2 [==============================] - 0s 7ms/step - loss: 3.5267 - mae: 3.5267\n",
            "Epoch 168/200\n",
            "2/2 [==============================] - 0s 8ms/step - loss: 3.5024 - mae: 3.5024\n",
            "Epoch 169/200\n",
            "2/2 [==============================] - 0s 7ms/step - loss: 3.4576 - mae: 3.4576\n",
            "Epoch 170/200\n",
            "2/2 [==============================] - 0s 7ms/step - loss: 3.4002 - mae: 3.4002\n",
            "Epoch 171/200\n",
            "2/2 [==============================] - 0s 9ms/step - loss: 3.3634 - mae: 3.3634\n",
            "Epoch 172/200\n",
            "2/2 [==============================] - 0s 8ms/step - loss: 3.3230 - mae: 3.3230\n",
            "Epoch 173/200\n",
            "2/2 [==============================] - 0s 8ms/step - loss: 3.2808 - mae: 3.2808\n",
            "Epoch 174/200\n",
            "2/2 [==============================] - 0s 7ms/step - loss: 3.2464 - mae: 3.2464\n",
            "Epoch 175/200\n",
            "2/2 [==============================] - 0s 7ms/step - loss: 3.1911 - mae: 3.1911\n",
            "Epoch 176/200\n",
            "2/2 [==============================] - 0s 8ms/step - loss: 3.2296 - mae: 3.2296\n",
            "Epoch 177/200\n",
            "2/2 [==============================] - 0s 7ms/step - loss: 3.3334 - mae: 3.3334\n",
            "Epoch 178/200\n",
            "2/2 [==============================] - 0s 11ms/step - loss: 3.2060 - mae: 3.2060\n",
            "Epoch 179/200\n",
            "2/2 [==============================] - 0s 8ms/step - loss: 3.0175 - mae: 3.0175\n",
            "Epoch 180/200\n",
            "2/2 [==============================] - 0s 8ms/step - loss: 3.2656 - mae: 3.2656\n",
            "Epoch 181/200\n",
            "2/2 [==============================] - 0s 7ms/step - loss: 3.1956 - mae: 3.1956\n",
            "Epoch 182/200\n",
            "2/2 [==============================] - 0s 10ms/step - loss: 2.9478 - mae: 2.9478\n",
            "Epoch 183/200\n",
            "2/2 [==============================] - 0s 12ms/step - loss: 3.0457 - mae: 3.0457\n",
            "Epoch 184/200\n",
            "2/2 [==============================] - 0s 9ms/step - loss: 2.9745 - mae: 2.9745\n",
            "Epoch 185/200\n",
            "2/2 [==============================] - 0s 7ms/step - loss: 2.7620 - mae: 2.7620\n",
            "Epoch 186/200\n",
            "2/2 [==============================] - 0s 7ms/step - loss: 2.8760 - mae: 2.8760\n",
            "Epoch 187/200\n",
            "2/2 [==============================] - 0s 7ms/step - loss: 2.8105 - mae: 2.8105\n",
            "Epoch 188/200\n",
            "2/2 [==============================] - 0s 7ms/step - loss: 2.6459 - mae: 2.6459\n",
            "Epoch 189/200\n",
            "2/2 [==============================] - 0s 9ms/step - loss: 2.7519 - mae: 2.7519\n",
            "Epoch 190/200\n",
            "2/2 [==============================] - 0s 9ms/step - loss: 2.6538 - mae: 2.6538\n",
            "Epoch 191/200\n",
            "2/2 [==============================] - 0s 8ms/step - loss: 2.5138 - mae: 2.5138\n",
            "Epoch 192/200\n",
            "2/2 [==============================] - 0s 8ms/step - loss: 2.5854 - mae: 2.5854\n",
            "Epoch 193/200\n",
            "2/2 [==============================] - 0s 7ms/step - loss: 2.4360 - mae: 2.4360\n",
            "Epoch 194/200\n",
            "2/2 [==============================] - 0s 11ms/step - loss: 2.4701 - mae: 2.4701\n",
            "Epoch 195/200\n",
            "2/2 [==============================] - 0s 13ms/step - loss: 2.4205 - mae: 2.4205\n",
            "Epoch 196/200\n",
            "2/2 [==============================] - 0s 13ms/step - loss: 2.2537 - mae: 2.2537\n",
            "Epoch 197/200\n",
            "2/2 [==============================] - 0s 8ms/step - loss: 2.4507 - mae: 2.4507\n",
            "Epoch 198/200\n",
            "2/2 [==============================] - 0s 7ms/step - loss: 2.4346 - mae: 2.4346\n",
            "Epoch 199/200\n",
            "2/2 [==============================] - 0s 8ms/step - loss: 2.1494 - mae: 2.1494\n",
            "Epoch 200/200\n",
            "2/2 [==============================] - 0s 8ms/step - loss: 2.2205 - mae: 2.2205\n"
          ]
        },
        {
          "output_type": "execute_result",
          "data": {
            "text/plain": [
              "<keras.callbacks.History at 0x7efd4f4d3bb0>"
            ]
          },
          "metadata": {},
          "execution_count": 44
        }
      ]
    },
    {
      "cell_type": "code",
      "source": [
        "y_pred = model.predict(X_test)"
      ],
      "metadata": {
        "id": "r7MA5JbGkcUL",
        "colab": {
          "base_uri": "https://localhost:8080/"
        },
        "outputId": "709f70ef-b082-457d-ddee-0b735aba1672"
      },
      "execution_count": null,
      "outputs": [
        {
          "output_type": "stream",
          "name": "stderr",
          "text": [
            "WARNING:tensorflow:6 out of the last 6 calls to <function Model.make_predict_function.<locals>.predict_function at 0x7efd53ed9900> triggered tf.function retracing. Tracing is expensive and the excessive number of tracings could be due to (1) creating @tf.function repeatedly in a loop, (2) passing tensors with different shapes, (3) passing Python objects instead of tensors. For (1), please define your @tf.function outside of the loop. For (2), @tf.function has reduce_retracing=True option that can avoid unnecessary retracing. For (3), please refer to https://www.tensorflow.org/guide/function#controlling_retracing and https://www.tensorflow.org/api_docs/python/tf/function for  more details.\n"
          ]
        },
        {
          "output_type": "stream",
          "name": "stdout",
          "text": [
            "1/1 [==============================] - 0s 57ms/step\n"
          ]
        }
      ]
    },
    {
      "cell_type": "code",
      "source": [
        "y_test_fine = np.array(y_test)\n",
        "y_test_fine"
      ],
      "metadata": {
        "id": "VmSOhFrAkrHh",
        "colab": {
          "base_uri": "https://localhost:8080/"
        },
        "outputId": "26068300-2a0c-47df-e30e-dc8e67055c72"
      },
      "execution_count": null,
      "outputs": [
        {
          "output_type": "execute_result",
          "data": {
            "text/plain": [
              "array([ 70,  74,  78,  82,  86,  90,  94,  98, 102, 106], dtype=int32)"
            ]
          },
          "metadata": {},
          "execution_count": 46
        }
      ]
    },
    {
      "cell_type": "code",
      "source": [
        "y_pred"
      ],
      "metadata": {
        "id": "ZdUmcSpfkwKP",
        "colab": {
          "base_uri": "https://localhost:8080/"
        },
        "outputId": "719ee7f5-87d5-467f-b18e-3dc23cee1cb3"
      },
      "execution_count": null,
      "outputs": [
        {
          "output_type": "execute_result",
          "data": {
            "text/plain": [
              "array([[64.70731 ],\n",
              "       [68.5327  ],\n",
              "       [72.3581  ],\n",
              "       [76.18348 ],\n",
              "       [80.00887 ],\n",
              "       [83.83427 ],\n",
              "       [87.65966 ],\n",
              "       [91.485054],\n",
              "       [95.31044 ],\n",
              "       [99.13582 ]], dtype=float32)"
            ]
          },
          "metadata": {},
          "execution_count": 47
        }
      ]
    },
    {
      "cell_type": "code",
      "source": [
        "'''\n",
        "# Let's create a model which builds automatically by defining the input_shape argument in the first layer\n",
        "tf.random.set_seed(42)\n",
        "\n",
        "# Create a model (same as above)\n",
        "model = tf.keras.Sequential([\n",
        "    tf.keras.layers.Dense(10, input_shape=[1], name = \"input_layer\"),\n",
        "    tf.keras.layers.Dense(1, name=\"output_layer\")\n",
        "], name=\"model_1\")\n",
        "\n",
        "# 2. Compile the model\n",
        "model.compile(loss=\"mae\",\n",
        "              optimizer = tf.keras.optimizers.SGD(),\n",
        "              metrics = [\"mae\"])\n",
        "'''"
      ],
      "metadata": {
        "id": "2vyCNF3doH3K",
        "colab": {
          "base_uri": "https://localhost:8080/",
          "height": 72
        },
        "outputId": "3423db1d-18fe-448c-ee22-e208def28e66"
      },
      "execution_count": null,
      "outputs": [
        {
          "output_type": "execute_result",
          "data": {
            "text/plain": [
              "'\\n# Let\\'s create a model which builds automatically by defining the input_shape argument in the first layer\\ntf.random.set_seed(42)\\n\\n# Create a model (same as above)\\nmodel = tf.keras.Sequential([\\n    tf.keras.layers.Dense(10, input_shape=[1], name = \"input_layer\"),\\n    tf.keras.layers.Dense(1, name=\"output_layer\")\\n], name=\"model_1\")\\n\\n# 2. Compile the model\\nmodel.compile(loss=\"mae\",\\n              optimizer = tf.keras.optimizers.SGD(),\\n              metrics = [\"mae\"])\\n'"
            ],
            "application/vnd.google.colaboratory.intrinsic+json": {
              "type": "string"
            }
          },
          "metadata": {},
          "execution_count": 48
        }
      ]
    },
    {
      "cell_type": "code",
      "source": [
        "model.summary()"
      ],
      "metadata": {
        "id": "e5hkE_4fJW4p",
        "colab": {
          "base_uri": "https://localhost:8080/"
        },
        "outputId": "5db94f5b-499e-4f18-968f-d5fac45a9c44"
      },
      "execution_count": null,
      "outputs": [
        {
          "output_type": "stream",
          "name": "stdout",
          "text": [
            "Model: \"sequential_5\"\n",
            "_________________________________________________________________\n",
            " Layer (type)                Output Shape              Param #   \n",
            "=================================================================\n",
            " flatten_5 (Flatten)         (None, 1)                 0         \n",
            "                                                                 \n",
            " dense_8 (Dense)             (None, 100)               200       \n",
            "                                                                 \n",
            " dense_9 (Dense)             (None, 1)                 101       \n",
            "                                                                 \n",
            "=================================================================\n",
            "Total params: 301\n",
            "Trainable params: 301\n",
            "Non-trainable params: 0\n",
            "_________________________________________________________________\n"
          ]
        }
      ]
    },
    {
      "cell_type": "markdown",
      "source": [
        "* Total params - total number of parameters in the model.\n",
        "* Trainable parameters - these are the parameters (pattern) the model can update as it trains.\n",
        "* Non-trainable params - these parameters aren't updated during trainting (this is typical when you bring in already learn patterns or parameters from other models during **transfer learning**)"
      ],
      "metadata": {
        "id": "XOqVjPrD8t73"
      }
    },
    {
      "cell_type": "code",
      "source": [
        "from tensorflow.keras.utils import plot_model\n",
        "plot_model(model=model, show_shapes=True)"
      ],
      "metadata": {
        "id": "XYHzuGI2_KRU",
        "colab": {
          "base_uri": "https://localhost:8080/",
          "height": 422
        },
        "outputId": "844873e0-668e-431f-b791-293e298acef9"
      },
      "execution_count": null,
      "outputs": [
        {
          "output_type": "execute_result",
          "data": {
            "image/png": "[encoded data removed]",
            "text/plain": [
              "<IPython.core.display.Image object>"
            ]
          },
          "metadata": {},
          "execution_count": 50
        }
      ]
    },
    {
      "cell_type": "markdown",
      "source": [
        "### Visualizing our model's predictions\n",
        "\n",
        "To visualize predictions, it's a good idea to plot them against the ground truth labels.\n",
        "\n",
        "often we'll see this in the form of `y_test` or `y_true` versus `y_pred`  (ground truth versus your model's predictions)"
      ],
      "metadata": {
        "id": "EHFrGd4fzURL"
      }
    },
    {
      "cell_type": "code",
      "source": [
        "y_pred"
      ],
      "metadata": {
        "colab": {
          "base_uri": "https://localhost:8080/"
        },
        "id": "Vi6h6ZoRq3Dy",
        "outputId": "31fb355c-856c-490a-928e-84900d2d2aca"
      },
      "execution_count": null,
      "outputs": [
        {
          "output_type": "execute_result",
          "data": {
            "text/plain": [
              "array([[64.70731 ],\n",
              "       [68.5327  ],\n",
              "       [72.3581  ],\n",
              "       [76.18348 ],\n",
              "       [80.00887 ],\n",
              "       [83.83427 ],\n",
              "       [87.65966 ],\n",
              "       [91.485054],\n",
              "       [95.31044 ],\n",
              "       [99.13582 ]], dtype=float32)"
            ]
          },
          "metadata": {},
          "execution_count": 51
        }
      ]
    },
    {
      "cell_type": "code",
      "source": [
        "y_test"
      ],
      "metadata": {
        "colab": {
          "base_uri": "https://localhost:8080/"
        },
        "id": "BxshycRZqB3d",
        "outputId": "f489cfa7-47f1-4fd8-d18c-96b5c7d14224"
      },
      "execution_count": null,
      "outputs": [
        {
          "output_type": "execute_result",
          "data": {
            "text/plain": [
              "<tf.Tensor: shape=(10,), dtype=int32, numpy=array([ 70,  74,  78,  82,  86,  90,  94,  98, 102, 106], dtype=int32)>"
            ]
          },
          "metadata": {},
          "execution_count": 52
        }
      ]
    },
    {
      "cell_type": "code",
      "source": [
        "# Let's create a plotting function\n",
        "def plot_predictions(train_data,\n",
        "                     train_labels,\n",
        "                     test_data,\n",
        "                     test_labels,\n",
        "                     predictions):\n",
        "  '''\n",
        "  Plots training data, test data and compares predictions to ground truth labels.\n",
        "  '''\n",
        "  plt.figure(figsize=(10,7))\n",
        "  plt.scatter(train_data, train_labels,c ='b', label=\"Training data\")\n",
        "  plt.scatter(test_data, test_labels, c='g', label=\"Testing data\")\n",
        "  plt.scatter(test_data, predictions, c='r', label=\"Predictions\")\n",
        "  plt.legend()"
      ],
      "metadata": {
        "id": "Lr6McbGlqExK"
      },
      "execution_count": null,
      "outputs": []
    },
    {
      "cell_type": "code",
      "source": [
        "plot_predictions(X_train, y_train, X_test, y_test, y_pred)"
      ],
      "metadata": {
        "colab": {
          "base_uri": "https://localhost:8080/",
          "height": 599
        },
        "id": "7NZHRl6wslG4",
        "outputId": "f00e814e-7f75-47a9-de47-0d3174b3bcaf"
      },
      "execution_count": null,
      "outputs": [
        {
          "output_type": "display_data",
          "data": {
            "text/plain": [
              "<Figure size 1000x700 with 1 Axes>"
            ],
            "image/png": "[encoded data removed]"
          },
          "metadata": {}
        }
      ]
    },
    {
      "cell_type": "markdown",
      "source": [
        "### Evaluating our model's predictions with regression evaluation metrics\n",
        "\n",
        "Depending on the problem you're working on, there will be different evaluation metrics to evaluate your model's performance.\n",
        "\n",
        "Since we're working on a regression, two of the main metrics:\n",
        "* MAE- Mean Absolute Error, \"on average, how wrong is each of my model's predictions\"\n",
        "\n",
        "* MSE- Mean Square Error, \"Square the average errors\""
      ],
      "metadata": {
        "id": "RsOk-5yMspSg"
      }
    },
    {
      "cell_type": "code",
      "source": [
        "print(\"I crossed my streak... fuck yaar\")"
      ],
      "metadata": {
        "id": "1es1SrPjt1nK",
        "colab": {
          "base_uri": "https://localhost:8080/"
        },
        "outputId": "f376ca74-9c26-4d0a-f29d-48f80cef59f8"
      },
      "execution_count": null,
      "outputs": [
        {
          "output_type": "stream",
          "name": "stdout",
          "text": [
            "I crossed my streak... fuck yaar\n"
          ]
        }
      ]
    },
    {
      "cell_type": "code",
      "source": [],
      "metadata": {
        "id": "PhpfEfoqKOyi"
      },
      "execution_count": null,
      "outputs": []
    }
  ]
}